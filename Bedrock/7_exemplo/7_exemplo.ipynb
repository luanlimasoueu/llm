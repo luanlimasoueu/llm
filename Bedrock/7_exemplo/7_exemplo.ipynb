{
 "cells": [
  {
   "cell_type": "code",
   "execution_count": 4,
   "metadata": {},
   "outputs": [],
   "source": [
    "import boto3\n",
    "import os\n",
    "boto3.setup_default_session(\n",
    "    aws_access_key_id = os.getenv(\"aws_access_key_id\"),\n",
    "    aws_secret_access_key= os.getenv(\"aws_secret_access_key\"),\n",
    "    region_name = os.getenv(\"us-east-1\"),\n",
    "    )\n",
    "\n",
    "bedrock=boto3.client(service_name=\"bedrock-runtime\")\n"
   ]
  },
  {
   "cell_type": "code",
   "execution_count": 6,
   "metadata": {},
   "outputs": [
    {
     "data": {
      "text/plain": [
       "'\\nHere is the recipe for mayonnaise:\\n\\nIngredients:\\n- 1 egg yolk\\n- 1 teaspoon Dijon mustard\\n- 1 tablespoon lemon juice\\n- 1 cup vegetable oil\\n- 1 teaspoon salt\\n- 1/2 teaspoon sugar\\n\\nDirections:\\n1. Whisk the egg yolk, mustard, lemon juice, salt, and sugar together in a bowl.\\n2. Slowly add the vegetable oil, whisking continuously until the mixture thickens.\\n3. Transfer the mayonnaise to a jar and refrigerate for at least an hour before using. Enjoy your homemade may'"
      ]
     },
     "execution_count": 6,
     "metadata": {},
     "output_type": "execute_result"
    }
   ],
   "source": [
    "from langchain_community.llms import Bedrock\n",
    "\n",
    "llm=Bedrock(model_id=\"ai21.j2-mid-v1\",client=bedrock,\n",
    "                model_kwargs={'maxTokens':512})\n",
    "\n",
    "\n",
    "custom_llm = Bedrock(\n",
    "    credentials_profile_name=\"default\",\n",
    "    client=bedrock,\n",
    "    model_id=\"amazon.titan-text-express-v1\",  # ARN like 'arn:aws:bedrock:...' obtained via provisioning the custom model\n",
    "    model_kwargs={\"temperature\": 1},\n",
    ")\n",
    "\n",
    "custom_llm.invoke(input=\"What is the recipe of mayonnaise?\")\n"
   ]
  }
 ],
 "metadata": {
  "kernelspec": {
   "display_name": "Python 3",
   "language": "python",
   "name": "python3"
  },
  "language_info": {
   "codemirror_mode": {
    "name": "ipython",
    "version": 3
   },
   "file_extension": ".py",
   "mimetype": "text/x-python",
   "name": "python",
   "nbconvert_exporter": "python",
   "pygments_lexer": "ipython3",
   "version": "3.10.7"
  }
 },
 "nbformat": 4,
 "nbformat_minor": 2
}
