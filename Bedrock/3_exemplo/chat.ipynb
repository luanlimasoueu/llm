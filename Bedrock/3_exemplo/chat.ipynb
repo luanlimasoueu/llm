{
 "cells": [
  {
   "cell_type": "code",
   "execution_count": null,
   "metadata": {},
   "outputs": [],
   "source": [
    "import boto3\n",
    "import json\n",
    "\n",
    "boto3.setup_default_session(aws_access_key_id='',\n",
    "                            aws_secret_access_key='',\n",
    "                            region_name='')\n",
    "bedrock = boto3.client(service_name=\"bedrock-runtime\")\n",
    "\n",
    "prompt = \"Camberra is capital of Australia\"\n",
    "\n",
    "body = json.dumps({\n",
    "    \"inputText\": prompt\n",
    "})\n",
    "\n",
    "model_id = 'amazon.titan-embed-text-v1'\n",
    "accept = 'application/json'\n",
    "content_type = 'application/json'\n",
    "\n",
    "response = bedrock.invoke_model(\n",
    "    body = body,\n",
    "    modelId = model_id,\n",
    "    accept = accept,\n",
    "    contentType = content_type\n",
    ")\n",
    "\n",
    "response_body = json.loads(response['body'].read())\n",
    "embedding = response_body.get('embedding')\n",
    "print(embedding)"
   ]
  }
 ],
 "metadata": {
  "language_info": {
   "name": "python"
  }
 },
 "nbformat": 4,
 "nbformat_minor": 2
}
