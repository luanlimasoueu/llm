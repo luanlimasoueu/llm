{
 "cells": [
  {
   "cell_type": "code",
   "execution_count": 1,
   "metadata": {},
   "outputs": [],
   "source": [
    "import boto3 \n",
    "import json\n",
    "\n",
    "boto3.setup_default_session(aws_access_key_id='',\n",
    "                            aws_secret_access_key='',\n",
    "                            region_name='')\n",
    "                            \n",
    "bedrock_runtime = boto3.client(service_name='bedrock-runtime')"
   ]
  },
  {
   "cell_type": "code",
   "execution_count": 2,
   "metadata": {},
   "outputs": [],
   "source": [
    "prompt = \"Hello\""
   ]
  },
  {
   "cell_type": "code",
   "execution_count": 3,
   "metadata": {},
   "outputs": [],
   "source": [
    "kwargs = {\n",
    "    \"modelId\": \"ai21.j2-ultra-v1\",\n",
    "    \"contentType\": 'application/json',\n",
    "    \"accept\":'application/json',\n",
    "    \"body\" : \"{\\\"prompt\\\":\\\"\" + prompt + \"\\\",\\\"maxTokens\\\":200,\\\"temperature\\\":0.7,\\\"topP\\\":1,\\\"stopSequences\\\":[],\\\"countPenalty\\\":{\\\"scale\\\":0},\\\"presencePenalty\\\":{\\\"scale\\\":0},\\\"frequencyPenalty\\\":{\\\"scale\\\":0}}\"\n",
    "}"
   ]
  },
  {
   "cell_type": "code",
   "execution_count": 4,
   "metadata": {},
   "outputs": [
    {
     "name": "stdout",
     "output_type": "stream",
     "text": [
      "{'modelId': 'ai21.j2-ultra-v1', 'contentType': 'application/json', 'accept': 'application/json', 'body': '{\"prompt\":\"Hello\",\"maxTokens\":200,\"temperature\":0.7,\"topP\":1,\"stopSequences\":[],\"countPenalty\":{\"scale\":0},\"presencePenalty\":{\"scale\":0},\"frequencyPenalty\":{\"scale\":0}}'}\n"
     ]
    }
   ],
   "source": [
    "print(kwargs)"
   ]
  },
  {
   "cell_type": "code",
   "execution_count": 5,
   "metadata": {},
   "outputs": [],
   "source": [
    "response = bedrock_runtime.invoke_model(**kwargs)"
   ]
  },
  {
   "cell_type": "code",
   "execution_count": 6,
   "metadata": {},
   "outputs": [
    {
     "data": {
      "text/plain": [
       "{'ResponseMetadata': {'RequestId': '21329a83-7001-4533-9eac-7dd130b186d7',\n",
       "  'HTTPStatusCode': 200,\n",
       "  'HTTPHeaders': {'date': 'Thu, 02 May 2024 01:08:19 GMT',\n",
       "   'content-type': 'application/json',\n",
       "   'content-length': '1238',\n",
       "   'connection': 'keep-alive',\n",
       "   'x-amzn-requestid': '21329a83-7001-4533-9eac-7dd130b186d7',\n",
       "   'x-amzn-bedrock-invocation-latency': '340',\n",
       "   'x-amzn-bedrock-output-token-count': '6',\n",
       "   'x-amzn-bedrock-input-token-count': '1'},\n",
       "  'RetryAttempts': 0},\n",
       " 'contentType': 'application/json',\n",
       " 'body': <botocore.response.StreamingBody at 0x2cd7b492230>}"
      ]
     },
     "execution_count": 6,
     "metadata": {},
     "output_type": "execute_result"
    }
   ],
   "source": [
    "response"
   ]
  },
  {
   "cell_type": "code",
   "execution_count": 7,
   "metadata": {},
   "outputs": [],
   "source": [
    "response_body = json.loads(response.get('body').read())"
   ]
  },
  {
   "cell_type": "code",
   "execution_count": 8,
   "metadata": {},
   "outputs": [
    {
     "data": {
      "text/plain": [
       "{'id': 1234,\n",
       " 'prompt': {'text': 'Hello',\n",
       "  'tokens': [{'generatedToken': {'token': '▁Hello',\n",
       "     'logprob': -6.821861267089844,\n",
       "     'raw_logprob': -6.821861267089844},\n",
       "    'topTokens': None,\n",
       "    'textRange': {'start': 0, 'end': 5}}]},\n",
       " 'completions': [{'data': {'text': '\\nHi, how are you?',\n",
       "    'tokens': [{'generatedToken': {'token': '<|newline|>',\n",
       "       'logprob': -0.1009962186217308,\n",
       "       'raw_logprob': -0.3665551245212555},\n",
       "      'topTokens': None,\n",
       "      'textRange': {'start': 0, 'end': 1}},\n",
       "     {'generatedToken': {'token': '▁Hi',\n",
       "       'logprob': -1.5621566772460938,\n",
       "       'raw_logprob': -1.4565690755844116},\n",
       "      'topTokens': None,\n",
       "      'textRange': {'start': 1, 'end': 3}},\n",
       "     {'generatedToken': {'token': ',',\n",
       "       'logprob': -0.07947841286659241,\n",
       "       'raw_logprob': -0.19645905494689941},\n",
       "      'topTokens': None,\n",
       "      'textRange': {'start': 3, 'end': 4}},\n",
       "     {'generatedToken': {'token': '▁how▁are▁you',\n",
       "       'logprob': -0.011669705621898174,\n",
       "       'raw_logprob': -0.08985572308301926},\n",
       "      'topTokens': None,\n",
       "      'textRange': {'start': 4, 'end': 16}},\n",
       "     {'generatedToken': {'token': '?',\n",
       "       'logprob': -0.016759078949689865,\n",
       "       'raw_logprob': -0.06213757395744324},\n",
       "      'topTokens': None,\n",
       "      'textRange': {'start': 16, 'end': 17}},\n",
       "     {'generatedToken': {'token': '<|endoftext|>',\n",
       "       'logprob': -0.004314518999308348,\n",
       "       'raw_logprob': -0.05101107433438301},\n",
       "      'topTokens': None,\n",
       "      'textRange': {'start': 17, 'end': 17}}]},\n",
       "   'finishReason': {'reason': 'endoftext'}}]}"
      ]
     },
     "execution_count": 8,
     "metadata": {},
     "output_type": "execute_result"
    }
   ],
   "source": [
    "response_body "
   ]
  },
  {
   "cell_type": "code",
   "execution_count": 9,
   "metadata": {},
   "outputs": [],
   "source": [
    "completion = response_body.get('completions')[0].get('data').get('text')"
   ]
  },
  {
   "cell_type": "code",
   "execution_count": 10,
   "metadata": {},
   "outputs": [
    {
     "data": {
      "text/plain": [
       "'\\nHi, how are you?'"
      ]
     },
     "execution_count": 10,
     "metadata": {},
     "output_type": "execute_result"
    }
   ],
   "source": [
    "completion"
   ]
  }
 ],
 "metadata": {
  "kernelspec": {
   "display_name": "Python 3",
   "language": "python",
   "name": "python3"
  },
  "language_info": {
   "codemirror_mode": {
    "name": "ipython",
    "version": 3
   },
   "file_extension": ".py",
   "mimetype": "text/x-python",
   "name": "python",
   "nbconvert_exporter": "python",
   "pygments_lexer": "ipython3",
   "version": "3.10.7"
  }
 },
 "nbformat": 4,
 "nbformat_minor": 2
}
