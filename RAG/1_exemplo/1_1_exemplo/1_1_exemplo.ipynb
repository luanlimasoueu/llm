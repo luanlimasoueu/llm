{
 "cells": [
  {
   "cell_type": "code",
   "execution_count": 3,
   "metadata": {},
   "outputs": [],
   "source": [
    "from langchain_community.document_loaders import PyPDFLoader\n",
    "from langchain.text_splitter import RecursiveCharacterTextSplitter\n",
    "from langchain.embeddings import HuggingFaceEmbeddings\n",
    "from langchain.vectorstores import FAISS\n",
    "from langchain.chat_models import ChatOpenAI\n",
    "from langchain.chains.combine_documents import create_stuff_documents_chain\n",
    "from langchain_core.prompts import ChatPromptTemplate\n",
    "from langchain.chains import create_retrieval_chain\n",
    "import os\n",
    "from dotenv import load_dotenv\n",
    "\n",
    "load_dotenv()\n",
    "api_key = os.getenv(\"OPENAI_API_KEY_1\")\n",
    "\n",
    "# For openai key\n",
    "import os\n",
    "os.environ[\"OPENAI_API_KEY\"] = api_key"
   ]
  },
  {
   "cell_type": "code",
   "execution_count": 4,
   "metadata": {},
   "outputs": [],
   "source": [
    "\n",
    "loader = PyPDFLoader(\"bertolini.pdf\")\n",
    "documents = loader.load()"
   ]
  },
  {
   "cell_type": "code",
   "execution_count": 5,
   "metadata": {},
   "outputs": [
    {
     "data": {
      "text/plain": [
       "[Document(page_content=' \\nPreços para Carga Fracionada - Natureza da Carga: PROD CREMER S/A (008925)\\nGrupo  de Origem: 544160 - SC-ITA (INT 1 250)CREMER S/A 82641325000118\\nCREMER S.A. 82641325004377\\nGrupos Destino Fr. R$ por\\nt/m³ 1ADV % s/ NF2Ped. Fração\\n100Kg 3Prz. Entrega4 SEC-CAT\\nAC-RBR (CAP 70) 2.101,14 0,0800 8,26 15 56,75\\nAC-RBR (INT 1 250) 3.075,22 0,0800 8,26 20 56,75\\nAC-RBR (INT 2 700) 4.818,28 0,0800 8,26 20 56,75\\nAM-MAO (CAP 70) 1.868,07 0,2000 8,26 15 56,75\\nAM-MAO (INT 1 250) 4.534,02 0,2000 8,26 17 56,75\\nAM-MAO (INT FL 1) 5.440,87 0,2000 8,26 28 56,75\\nAM-MAO (INT FL 2) 5.894,34 0,2000 8,26 31 56,75\\nAP-MCP (CAP 70) 1.896,28 0,2000 8,26 12 56,75\\nAP-MCP (INT 1 250) 3.280,28 0,2000 8,26 21 56,75\\nAP-MCP (INT 2 700) 4.459,59 0,2000 8,26 21 56,75\\nDF-BSB (VIA GYN) 840,67 0,0800 8,26 06 21,55\\nGO-GYN (CAP 70) 754,34 0,0800 8,26 06 21,55\\nGO-GYN (INT 1 250) 1.051,21 0,0800 8,26 09 35,90\\nGO-GYN (INT 2 700) 1.179,98 0,0800 8,26 11 35,90\\nMS-CGR (CAP 70) 893,70 0,0800 8,26 05 21,55\\nMS-CGR (INT 1 250) 1.160,26 0,0800 8,26 08 35,90\\nMS-CGR (INT 2 700) 1.160,26 0,0800 8,26 09 35,90\\nMT-CGB I (CAP 70) 1.067,86 0,0800 8,26 06 21,55\\nMT-CGB I (INT 1 250) 1.501,08 0,0800 8,26 09 35,90\\nMT-CGB I (INT 2 700) 1.569,25 0,0800 8,26 10 35,90\\nPA-BEL (CAP 70) 1.465,08 0,0800 8,26 10 56,75\\nPA-BEL (INT 1 250) 2.580,33 0,0800 8,26 15 56,75\\nPA-BEL (INT 2 700) 3.545,20 0,0800 8,26 16 56,75\\nPA-BEL (INT FL) 4.244,88 0,2000 8,26 20 56,75\\nPA-GRI (SUL DO PA) 3.545,20 0,0800 8,26 18 56,75\\nPA-ITB (CAP 70) 3.271,92 0,0800 8,26 14 56,75\\nPA-ITB (INT 1 250) 3.791,66 0,0800 8,26 14 56,75\\nPA-ITB (INT 2 700) 4.244,88 0,0800 8,26 15 56,75\\nPA-MAB I (CAP 70) 1.895,54 0,0800 8,26 11 56,75\\nPA-MAB I (INT 1 250) 2.580,33 0,0800 8,26 12 56,75\\nPA-MAB I (INT 2 700) 3.545,20 0,0800 8,26 16 56,75\\nPA-STM (CAP 70) 2.301,19 0,2000 8,26 13 56,75\\nPA-STM (INT 1 250) 2.845,72 0,2000 8,26 16 56,75\\nPA-STM (INT 2 700) 3.054,52 0,2000 8,26 17 56,75\\nPA-STM (INT FL) 4.244,88 0,2000 8,26 18 56,75\\nRO-JPR (CAP 70) 1.631,24 0,0800 8,26 12 56,75\\nRO-JPR (INT 1 250) 2.702,62 0,0800 8,26 14 56,75\\nRO-JPR (INT 2 700) 3.521,04 0,0800 8,26 16 56,75\\nRO-PVH (CAP 70) 1.631,24 0,0800 8,26 12 56,75\\nRO-PVH (INT 1 250) 2.702,62 0,0800 8,26 14 56,75\\nRO-PVH (INT 2 700) 3.521,04 0,0800 8,26 16 56,75\\nRR-BVB (CAP 70) 3.010,24 0,2000 8,26 17 56,75\\nRR-BVB (INT 1 250) 3.983,94 0,2000 8,26 19 56,75\\nRR-BVB (INT 2 700) 5.548,87 0,2000 8,26 20 56,75\\nCONTRATO DE PRESTAÇÃO DE SERVIÇOS EM TRANSPORTES Nº B2-000221\\nPROPOSTA DE ATUALIZAÇÃO B2-001550\\nPágina 1 de 6 ITMKT02A-01', metadata={'source': 'bertolini.pdf', 'page': 0}),\n",
       " Document(page_content='Legenda: \\n \\n \\nGrupos Destino Fr. R$ por\\nt/m³ 1ADV % s/ NF2Ped. Fração\\n100Kg 3Prz. Entrega4 SEC-CAT\\nTO-GRI (CAP 70) 1.060,30 0,0800 8,26 08 56,75\\nTO-GRI (CAP PMS) 1.060,30 0,0800 8,26 08 56,75\\nTO-GRI (INT 1 250) 1.211,78 0,0800 8,26 10 56,75\\nTO-GRI (INT 2 700) 1.363,24 0,0800 8,26 13 56,75\\n 1 Valor do frete cobrado por tonelada/m³;  2 Ad Valorem é um percentual que incide sobre a nota fiscal;\\n 3 Valor do pedágio cobrado a cada fração de 100kg;  4 Prazo de entrega em dias úteis.\\nGENERALIDADES Especificação da cobrança\\nICMS: tributo. conforme a legislação\\nFrete mínimo: valor mínimo por embarque, acrescido de taxas e impostos. R$ 48,68\\nPrestação mínima: valor mínimo por embarque. R$ 0,00\\nPeso Mínimo: acrescido de taxas e impostos (quando aplicável). 0,00 Kg\\nRodoexpresso: entregas urgentes (valor % calculado sobre o valor do frete peso). 0,00 %\\nArmazenagem: valor por m³ - carência 7 dias e valor mínimo de R$ 0,00. R$ 5,20\\nDiária por semirreboque: (SR) - Carência 24 horas. R$ 0,00\\nDiária por caminhão-trator: (CT) - Carência 24 horas. R$ 0,00\\nSR com capacidade adicional: valor % calculado sobre o valor do frete peso. 0,00 %\\nServiço de Braço mecânico e empilhadeira: calculado sobre a hora trabalhada. R$ 0,00\\nEntregas por veículo dedicado: CAMINHAO 3/4. R$ 700,00\\nEntregas por veículo dedicado: CAMINHAO TOCO. R$ 900,00\\nEntregas por veículo dedicado: CAMINHAO TRUCK. R$ 1.100,00\\nEntregas por veículo dedicado: VAN. R$ 500,00\\nPaletização: valor por palete. R$ 41,30\\nServiço de stretch: valor por palete. R$ 29,50\\nDescarga: valor por tonelada / m³. R$ 0,00\\nReentrega: percentual calculado sobre o valor do frete original, com mínimo de R$\\n58,66.20,00 %\\nDevolução: percentual calculado sobre o valor do frete original. Serão acrescidos 10\\ndias além do prazo contratado. Mercadorias armazenadas por mais de 20 dias, em\\nrazão de problemas de negociação entre embarcador e destinatário, serão devolvidas\\nà origem, de forma automática, sem a necessidade de prévia comunicação.100,00 %\\nCarga volumosa: conversão de m³ por Kg. 250,00 Kg\\nOutros valores por tonelada / m³. R$ 0,00\\nOutros valores por CT-e. R$ 0,00\\nValor por retorno de canhoto de Nota Fiscal (quando solicitado). R$ 3,56\\nValor por cópia de Comprovante de Entrega (quando solicitado). R$ 3,56\\nGRIS – Gerenciamento de Riscos: calculado sobre o valor da Nota Fiscal (valor\\nmínimo de R$ 0,00).0,1500 %\\nENTREGAS PESSOA FÍSICA: Adicional sobre o frete peso contratado. 20,00 %\\nPRAZO DIFERENCIADO PARA DESTINATÁRIO PESSOA FISICA: Dias de\\nacréscimo ao prazo normal contratado.2\\nDIFAL: Emenda Constitucional 87/15 e Convênio 93/15 - destinatário não Contribuinte\\n(PF e PJ).Conforme Legislação\\nVISTORIA SUFRAMA: Quando contratado, valores aplicados conforme tabela de\\nveículos dedicado – VAN / 3/4 / TOCO / TRUCK.VAN / 3/4 / TOCO / TRUCK\\nCONTRATO DE PRESTAÇÃO DE SERVIÇOS EM TRANSPORTES Nº B2-000221\\nPROPOSTA DE ATUALIZAÇÃO B2-001550\\nPágina 2 de 6 ITMKT02A-01', metadata={'source': 'bertolini.pdf', 'page': 1}),\n",
       " Document(page_content=' \\nCONDIÇÕES GERAIS\\n \\nSistema de Transporte: Porta a porta.\\nTipo de frete: Combinado - Calculado pelo maior entre peso ou metragem cubica.\\nInício da vigência: 11 de Julho de 2022.\\nValidade: Doze meses.\\nMês do Contrato: Maio\\nCondições de pagamento: pre fatura semanal + 90 dias venc. 02, 12 e 22..\\nMultas e juros por atraso: 5,00% ao mês, calculados pro rata die.\\nReajuste de Frete: serão revisadas semestralmente nos meses de fevereiro e agosto. O preço do frete também será\\nrevisto, mediante formalização de novo ajuste entre as partes, se, durante o prazo de vigência do contrato ocorrer qualquer\\ndos seguintes eventos relacionados a incidências fiscais, pelo que as partes declaram, desde já, plena concordância:\\n    a) Criação de novos tributos;\\n    b) Extinção dos tributos existentes;\\n    c) Alteração de alíquotas.\\nReajuste Combustível: Na ocorrência de reajuste de combustível os preços serão automaticamente re-alinhados,\\ncalculados a razão de 33% sobre o índice divulgado e apurado nas bombas.\\nCobertura Seguros: DDR CLIENTE.\\nSeguro contratado pelo pagador do frete: Quando o pagador do frete assume os custos e riscos pela contratação dos\\nseguros, estes deverão respeitar as seguintes regras:TDE -Taxa de Dificuldade na Entrega: Valor calculado sobre o frete peso, com\\nmínimo de R$ 64,84, máximo de R$ 1.282,07. A relação dos destinatários encontra-se\\nno link https://portal.tbl.com.br/site-tbl/clienteComTaxaDificuldadeEntrega . A TBL\\nreserva o direito de incluir e/ou excluir destinatários nesta lista sem prévio aviso.20,00 %\\nTAE - Taxa de Agendamento de Entrega: Valor calculado sobre o frete peso, com\\nmínimo de R$ 34,07, máximo de R$ 1.282,07. A relação dos destinatários encontra-se\\nno link https://portal.tbl.com.br/site-tbl/clientesComAgendamento. A TBL reserva o\\ndireito de incluir e/ou excluir destinatários nesta lista sem prévio aviso.10,00 %\\nTRT - Taxa Restrição ao Trânsito: Valor calculado sobre o frete peso, com mínimo\\nde R$ 33,46, máximo de R$ 1.282,07, sempre que a entrega for realizada em\\nMunicípios que possuam algum tipo de restrição à circulação de veículos de\\ntransportes de carga e/ou à própria atividade de carga e descarga. A relação destas\\ncidades encontra-se no link https://portal.tbl.com.br/site-\\ntbl/cidadeRestricaoTransito?id=B200155020220711P&hash=afe0d8a1bda576ec173fc\\n0a869d3e64d. A TBL reserva o direito de incluir e/ou excluir municípios nesta lista\\nsem prévio aviso.15,00 %\\nTDA - Taxa de Dificuldade de Acesso: Valor calculado sobre o frete peso, com\\nmínimo de R$ 192,32, máximo de R$ 0,00, sempre que a entrega for realizada em\\nMunicípios que possuam dificuldade de acesso do veículo ao ponto de carregamento\\ne/ou descarga, seja por: ser uma localidade com baixo volume de carga ou em áreas\\nrurais, ou com trechos  ao longo da rota sem pavimentação ou pavimentação\\ndefeituosa entre outras. A relação destas cidades encontra-se no link\\nhttps://portal.tbl.com.br/site-tbl/cidadeDificuldadeAcesso. A TBL reserva o direito de\\nincluir e/ou excluir municípios nesta lista sem prévio aviso.30,00 %\\nTAS - Taxa de Administração SEFAZ: valor por CT-e emitido. R$ 10,04\\nADM SUFRAMA - Taxa de Administração SUFRAMA: valor por CT-e emitido para\\nos Estados do AM, RR, AP, RO e AC.R$ 5,12\\nTSN - Taxa de Segurança da Navegação: valor por CT-e emitido para os trechos\\nque envolvam navegação fluvial, destinados a cobrir custos com vigilância armada no\\npercurso fluvial.R$ 9,90\\nTPD - Taxa para Pagamento de Descargas: esta taxa tem como função ressarcir os\\ncustos do serviço de descarga prestado por terceiros nas dependências dos\\ndestinatários e imposto ao transportador à medida que ele é impedido de utilizar mão\\nde obra própria. A cobrança será apresentada mediante documento fiscal ou recibo\\nfornecido pelo prestador de serviço, acrescido do % para compensação de impostos e\\ndespesas administrativas.30,00 %\\nCONTRATO DE PRESTAÇÃO DE SERVIÇOS EM TRANSPORTES Nº B2-000221\\nPROPOSTA DE ATUALIZAÇÃO B2-001550\\nPágina 3 de 6 ITMKT02A-01', metadata={'source': 'bertolini.pdf', 'page': 2}),\n",
       " Document(page_content='    a)RCTR-C: deve estipular o transportador como segurado e o pagador do frete na condição de beneficiário.\\n    b)RCF-DC: A apólice contratada deverá isentar o transportador de cobertura por quaisquer eventos e estipular as\\ncondições através da emissão de carta de dispensa do exercício do direito de regresso (DDR).\\nSeguro de mercadorias armazenadas: Quando o seguro for de responsabilidade da TBL será cobrado 0,20% sobre o\\nvalor da NF para o período de 30 dias.\\nIndenização de sinistros: Pelo valor declarado na nota fiscal. Na modalidade CIF, o pagamento do frete será devido à\\ntransportadora independentemente da conclusão do transporte até o destino.\\nSinistros - Perda Total: Serão pagos ao Contratante do Serviço.\\nAvarias: Serão consideradas quando existir danos externos nas embalagens.\\nFaltas: Em embalagens com lacre original inviolado serão de responsabilidade do embarcador.\\nAvarias e Faltas: Pedidos de indenizações decorrentes de avarias ou faltas somente serão aceitos com base no disposto\\nna Lei 11.442 de 5 de janeiro de 2007, ou seja, quando registrados imediatamente ao ato da entrega e na presença de\\nrepresentante legal da transportadora.\\nProcesso Avarias e Faltas: para os corretos registros contábeis e controles fiscais, serão considerados prescritos e sem\\nefeito os eventos de avarias não resolvidos em até 30 dias do término de cada ano.\\nQuitação para Avarias e Faltas: Somente serão indenizados os processos relacionados a avarias e/ou faltas apresentados\\npelos Clientes dentro do prazo máximo de 30 dias a contar da ocorrência do fato.\\nQuitação por período: No dia 31 de julho de cada ano, em não havendo quaisquer manifestações por escrito da\\nContratante acerca de falhas na prestação dos serviços objeto deste Contrato, referentes aos últimos 12 (doze) meses, de\\nquaisquer espécies  ou naturezas, o que inclui, sem se limitar, em faltas, avarias, extravios, roubos e furtos de mercadorias\\ntransportadas, será outorgada pela Contratante à Transportadora, de forma automática e tacitamente, a mais ampla, plena,\\ngeral e irrevogável quitação referente ao período contratual vencido, nada mais podendo a Contratante reclamar a tal título,\\nem qualquer tempo ou época. Esta previsão de outorga de quitação automática pela Contratante à transportadora valerá\\ncomo Declaração Anual de Quitação, pela qual a Contratante estará reconhecendo a regularidade dos serviços prestados\\npela transportadora referentes aos 12 (doze) meses anteriores (vencidos).\\nCargas com recusa de recebimento ou agendamento para entrega: Após 72 horas à disposição para entrega, o seguro\\né por conta e risco do tomador do serviço.\\nProduto perecível: Para cargas perecíveis e alimentícias de modo geral, armazenadas no transportador, o limite máximo de\\ngarantia de responsabilidades é de até 30 dias, contados da data da chegada da mercadoria.\\nArmazenagem: A transportadora não poderá ser responsabilizada pelos produtos que durante a armazenagem/transporte\\ntenham os prazos de validade comprometidos.\\nArmazenagem de Curto Prazo (inferior a 30 dias): A Cobrança será realizada imediatamente após o final da prestação\\ndeste serviço.\\nArmazenagem de Longo Prazo (superior a 30 dias): A Cobrança será realizada a cada período de 30 dias de prestação\\ndeste serviço.\\nPrazos de Fim de Ano: Nos meses de outubro, novembro e dezembro, os prazos acima firmados serão acrescidos de 2\\ndias.\\nProcesso de entrega: De acordo com o disposto na Lei 11.442, de 5 de janeiro de 2007, a responsabilidade do\\ntransportador cessa no momento da entrega da carga ao destinatário. Em sendo o comprovante de entrega retido, a TBL\\nnão se responsabilizará por reclamações, protestos ou ressalvas, efetuadas posteriormente ao momento do recebimento\\ndas mercadorias.\\nCarga em depósito: A carga não recebida pelo destinatário, por recusa ou agendamento, tem prazo de validade da\\ndocumentação fiscal. É do tomador do serviço a responsabilidade de regularização e/ou ônus fiscais decorrentes.\\nTermo de Compromisso: O tomador dos serviços declara responsabilizar-se perante a transportadora por qualquer ônus\\ntributário, econômico ou cível que esta venha a ter em razão de cancelamento do documento fiscal que legaliza o transporte,\\nCONTRATO DE PRESTAÇÃO DE SERVIÇOS EM TRANSPORTES Nº B2-000221\\nPROPOSTA DE ATUALIZAÇÃO B2-001550\\nPágina 4 de 6 ITMKT02A-01', metadata={'source': 'bertolini.pdf', 'page': 3}),\n",
       " Document(page_content='após a entrega destas mercadorias para a transportadora, ou mesmo de eventuais irregularidades fiscais relacionados à\\ndocumentação/carga. Outrossim, o tomador de serviços autoriza, desde já, que a transportadora retenha a carga com\\ndocumentação irregular até a solução definitiva da pendência causada.\\nEDI (Troca Eletrônica de Informações): as condições serão ajustadas em documento anexo.\\nObservação: RETIFICA-SE: VALORES VALIDOS ATé 31/08/2021. A PARTIR DE 01/09/2021 SERá REAJUSTADO OS\\nVALORES EM MAIS 2,50%;\\n \\n \\n \\nDeclaram, cliente contratante e transportadora, que leram os ajustes registrados neste Contrato de Prestação de Serviços\\nde Transporte e concordam com todos os seus termos. \\n \\n \\n \\nItajai , 29 de Junho de 2022\\n \\n \\n_______________________________________\\nTRANSPORTES BERTOLINI LTDA   \\nJACKSON ELIAS HETTWER                            \\nCNPJ: 04503660004214\\nTelefone: (054)3455-1111\\nE-mail: jackson@tbl.com.br\\n \\n \\n \\n \\n_______________________________________\\nVANUBIA ALVES SILVA                               CLIENTE: CREMER S/A\\nCNPJ/CPF: 82641325000118\\nCONTRATO DE PRESTAÇÃO DE SERVIÇOS EM TRANSPORTES Nº B2-000221\\nPROPOSTA DE ATUALIZAÇÃO B2-001550\\nPágina 5 de 6 ITMKT02A-01', metadata={'source': 'bertolini.pdf', 'page': 4}),\n",
       " Document(page_content='* ANEXO ENDEREÇO DE COBRANÇA \\nCliente Endereço Cidade/UF CEP Contato\\n82641325000118-CREMER\\nS/AR IGUACU 291/363 ITOUPAVA\\nSECABLUMENAU/SC 89030-030A/C CONTAS A\\nPAGAR\\n82641325004377-CREMER\\nS.A.R IGUACU 291/363 ITOUPAVA\\nSECABLUMENAU/SC 89030-030A/C CONTAS A\\nPAGAR\\nCONTRATO DE PRESTAÇÃO DE SERVIÇOS EM TRANSPORTES Nº B2-000221\\nPROPOSTA DE ATUALIZAÇÃO B2-001550\\nPágina 6 de 6 ITMKT02A-01', metadata={'source': 'bertolini.pdf', 'page': 5})]"
      ]
     },
     "execution_count": 5,
     "metadata": {},
     "output_type": "execute_result"
    }
   ],
   "source": [
    "documents"
   ]
  },
  {
   "cell_type": "code",
   "execution_count": 6,
   "metadata": {},
   "outputs": [
    {
     "data": {
      "text/plain": [
       "6"
      ]
     },
     "execution_count": 6,
     "metadata": {},
     "output_type": "execute_result"
    }
   ],
   "source": [
    "len(documents)"
   ]
  },
  {
   "cell_type": "code",
   "execution_count": 7,
   "metadata": {},
   "outputs": [],
   "source": [
    "text = RecursiveCharacterTextSplitter().split_documents(documents)"
   ]
  },
  {
   "cell_type": "code",
   "execution_count": 8,
   "metadata": {},
   "outputs": [
    {
     "data": {
      "text/plain": [
       "[Document(page_content='Preços para Carga Fracionada - Natureza da Carga: PROD CREMER S/A (008925)\\nGrupo  de Origem: 544160 - SC-ITA (INT 1 250)CREMER S/A 82641325000118\\nCREMER S.A. 82641325004377\\nGrupos Destino Fr. R$ por\\nt/m³ 1ADV % s/ NF2Ped. Fração\\n100Kg 3Prz. Entrega4 SEC-CAT\\nAC-RBR (CAP 70) 2.101,14 0,0800 8,26 15 56,75\\nAC-RBR (INT 1 250) 3.075,22 0,0800 8,26 20 56,75\\nAC-RBR (INT 2 700) 4.818,28 0,0800 8,26 20 56,75\\nAM-MAO (CAP 70) 1.868,07 0,2000 8,26 15 56,75\\nAM-MAO (INT 1 250) 4.534,02 0,2000 8,26 17 56,75\\nAM-MAO (INT FL 1) 5.440,87 0,2000 8,26 28 56,75\\nAM-MAO (INT FL 2) 5.894,34 0,2000 8,26 31 56,75\\nAP-MCP (CAP 70) 1.896,28 0,2000 8,26 12 56,75\\nAP-MCP (INT 1 250) 3.280,28 0,2000 8,26 21 56,75\\nAP-MCP (INT 2 700) 4.459,59 0,2000 8,26 21 56,75\\nDF-BSB (VIA GYN) 840,67 0,0800 8,26 06 21,55\\nGO-GYN (CAP 70) 754,34 0,0800 8,26 06 21,55\\nGO-GYN (INT 1 250) 1.051,21 0,0800 8,26 09 35,90\\nGO-GYN (INT 2 700) 1.179,98 0,0800 8,26 11 35,90\\nMS-CGR (CAP 70) 893,70 0,0800 8,26 05 21,55\\nMS-CGR (INT 1 250) 1.160,26 0,0800 8,26 08 35,90\\nMS-CGR (INT 2 700) 1.160,26 0,0800 8,26 09 35,90\\nMT-CGB I (CAP 70) 1.067,86 0,0800 8,26 06 21,55\\nMT-CGB I (INT 1 250) 1.501,08 0,0800 8,26 09 35,90\\nMT-CGB I (INT 2 700) 1.569,25 0,0800 8,26 10 35,90\\nPA-BEL (CAP 70) 1.465,08 0,0800 8,26 10 56,75\\nPA-BEL (INT 1 250) 2.580,33 0,0800 8,26 15 56,75\\nPA-BEL (INT 2 700) 3.545,20 0,0800 8,26 16 56,75\\nPA-BEL (INT FL) 4.244,88 0,2000 8,26 20 56,75\\nPA-GRI (SUL DO PA) 3.545,20 0,0800 8,26 18 56,75\\nPA-ITB (CAP 70) 3.271,92 0,0800 8,26 14 56,75\\nPA-ITB (INT 1 250) 3.791,66 0,0800 8,26 14 56,75\\nPA-ITB (INT 2 700) 4.244,88 0,0800 8,26 15 56,75\\nPA-MAB I (CAP 70) 1.895,54 0,0800 8,26 11 56,75\\nPA-MAB I (INT 1 250) 2.580,33 0,0800 8,26 12 56,75\\nPA-MAB I (INT 2 700) 3.545,20 0,0800 8,26 16 56,75\\nPA-STM (CAP 70) 2.301,19 0,2000 8,26 13 56,75\\nPA-STM (INT 1 250) 2.845,72 0,2000 8,26 16 56,75\\nPA-STM (INT 2 700) 3.054,52 0,2000 8,26 17 56,75\\nPA-STM (INT FL) 4.244,88 0,2000 8,26 18 56,75\\nRO-JPR (CAP 70) 1.631,24 0,0800 8,26 12 56,75\\nRO-JPR (INT 1 250) 2.702,62 0,0800 8,26 14 56,75\\nRO-JPR (INT 2 700) 3.521,04 0,0800 8,26 16 56,75\\nRO-PVH (CAP 70) 1.631,24 0,0800 8,26 12 56,75\\nRO-PVH (INT 1 250) 2.702,62 0,0800 8,26 14 56,75\\nRO-PVH (INT 2 700) 3.521,04 0,0800 8,26 16 56,75\\nRR-BVB (CAP 70) 3.010,24 0,2000 8,26 17 56,75\\nRR-BVB (INT 1 250) 3.983,94 0,2000 8,26 19 56,75\\nRR-BVB (INT 2 700) 5.548,87 0,2000 8,26 20 56,75\\nCONTRATO DE PRESTAÇÃO DE SERVIÇOS EM TRANSPORTES Nº B2-000221\\nPROPOSTA DE ATUALIZAÇÃO B2-001550\\nPágina 1 de 6 ITMKT02A-01', metadata={'source': 'bertolini.pdf', 'page': 0}),\n",
       " Document(page_content='Legenda: \\n \\n \\nGrupos Destino Fr. R$ por\\nt/m³ 1ADV % s/ NF2Ped. Fração\\n100Kg 3Prz. Entrega4 SEC-CAT\\nTO-GRI (CAP 70) 1.060,30 0,0800 8,26 08 56,75\\nTO-GRI (CAP PMS) 1.060,30 0,0800 8,26 08 56,75\\nTO-GRI (INT 1 250) 1.211,78 0,0800 8,26 10 56,75\\nTO-GRI (INT 2 700) 1.363,24 0,0800 8,26 13 56,75\\n 1 Valor do frete cobrado por tonelada/m³;  2 Ad Valorem é um percentual que incide sobre a nota fiscal;\\n 3 Valor do pedágio cobrado a cada fração de 100kg;  4 Prazo de entrega em dias úteis.\\nGENERALIDADES Especificação da cobrança\\nICMS: tributo. conforme a legislação\\nFrete mínimo: valor mínimo por embarque, acrescido de taxas e impostos. R$ 48,68\\nPrestação mínima: valor mínimo por embarque. R$ 0,00\\nPeso Mínimo: acrescido de taxas e impostos (quando aplicável). 0,00 Kg\\nRodoexpresso: entregas urgentes (valor % calculado sobre o valor do frete peso). 0,00 %\\nArmazenagem: valor por m³ - carência 7 dias e valor mínimo de R$ 0,00. R$ 5,20\\nDiária por semirreboque: (SR) - Carência 24 horas. R$ 0,00\\nDiária por caminhão-trator: (CT) - Carência 24 horas. R$ 0,00\\nSR com capacidade adicional: valor % calculado sobre o valor do frete peso. 0,00 %\\nServiço de Braço mecânico e empilhadeira: calculado sobre a hora trabalhada. R$ 0,00\\nEntregas por veículo dedicado: CAMINHAO 3/4. R$ 700,00\\nEntregas por veículo dedicado: CAMINHAO TOCO. R$ 900,00\\nEntregas por veículo dedicado: CAMINHAO TRUCK. R$ 1.100,00\\nEntregas por veículo dedicado: VAN. R$ 500,00\\nPaletização: valor por palete. R$ 41,30\\nServiço de stretch: valor por palete. R$ 29,50\\nDescarga: valor por tonelada / m³. R$ 0,00\\nReentrega: percentual calculado sobre o valor do frete original, com mínimo de R$\\n58,66.20,00 %\\nDevolução: percentual calculado sobre o valor do frete original. Serão acrescidos 10\\ndias além do prazo contratado. Mercadorias armazenadas por mais de 20 dias, em\\nrazão de problemas de negociação entre embarcador e destinatário, serão devolvidas\\nà origem, de forma automática, sem a necessidade de prévia comunicação.100,00 %\\nCarga volumosa: conversão de m³ por Kg. 250,00 Kg\\nOutros valores por tonelada / m³. R$ 0,00\\nOutros valores por CT-e. R$ 0,00\\nValor por retorno de canhoto de Nota Fiscal (quando solicitado). R$ 3,56\\nValor por cópia de Comprovante de Entrega (quando solicitado). R$ 3,56\\nGRIS – Gerenciamento de Riscos: calculado sobre o valor da Nota Fiscal (valor\\nmínimo de R$ 0,00).0,1500 %\\nENTREGAS PESSOA FÍSICA: Adicional sobre o frete peso contratado. 20,00 %\\nPRAZO DIFERENCIADO PARA DESTINATÁRIO PESSOA FISICA: Dias de\\nacréscimo ao prazo normal contratado.2\\nDIFAL: Emenda Constitucional 87/15 e Convênio 93/15 - destinatário não Contribuinte\\n(PF e PJ).Conforme Legislação\\nVISTORIA SUFRAMA: Quando contratado, valores aplicados conforme tabela de\\nveículos dedicado – VAN / 3/4 / TOCO / TRUCK.VAN / 3/4 / TOCO / TRUCK\\nCONTRATO DE PRESTAÇÃO DE SERVIÇOS EM TRANSPORTES Nº B2-000221\\nPROPOSTA DE ATUALIZAÇÃO B2-001550\\nPágina 2 de 6 ITMKT02A-01', metadata={'source': 'bertolini.pdf', 'page': 1}),\n",
       " Document(page_content='CONDIÇÕES GERAIS\\n \\nSistema de Transporte: Porta a porta.\\nTipo de frete: Combinado - Calculado pelo maior entre peso ou metragem cubica.\\nInício da vigência: 11 de Julho de 2022.\\nValidade: Doze meses.\\nMês do Contrato: Maio\\nCondições de pagamento: pre fatura semanal + 90 dias venc. 02, 12 e 22..\\nMultas e juros por atraso: 5,00% ao mês, calculados pro rata die.\\nReajuste de Frete: serão revisadas semestralmente nos meses de fevereiro e agosto. O preço do frete também será\\nrevisto, mediante formalização de novo ajuste entre as partes, se, durante o prazo de vigência do contrato ocorrer qualquer\\ndos seguintes eventos relacionados a incidências fiscais, pelo que as partes declaram, desde já, plena concordância:\\n    a) Criação de novos tributos;\\n    b) Extinção dos tributos existentes;\\n    c) Alteração de alíquotas.\\nReajuste Combustível: Na ocorrência de reajuste de combustível os preços serão automaticamente re-alinhados,\\ncalculados a razão de 33% sobre o índice divulgado e apurado nas bombas.\\nCobertura Seguros: DDR CLIENTE.\\nSeguro contratado pelo pagador do frete: Quando o pagador do frete assume os custos e riscos pela contratação dos\\nseguros, estes deverão respeitar as seguintes regras:TDE -Taxa de Dificuldade na Entrega: Valor calculado sobre o frete peso, com\\nmínimo de R$ 64,84, máximo de R$ 1.282,07. A relação dos destinatários encontra-se\\nno link https://portal.tbl.com.br/site-tbl/clienteComTaxaDificuldadeEntrega . A TBL\\nreserva o direito de incluir e/ou excluir destinatários nesta lista sem prévio aviso.20,00 %\\nTAE - Taxa de Agendamento de Entrega: Valor calculado sobre o frete peso, com\\nmínimo de R$ 34,07, máximo de R$ 1.282,07. A relação dos destinatários encontra-se\\nno link https://portal.tbl.com.br/site-tbl/clientesComAgendamento. A TBL reserva o\\ndireito de incluir e/ou excluir destinatários nesta lista sem prévio aviso.10,00 %\\nTRT - Taxa Restrição ao Trânsito: Valor calculado sobre o frete peso, com mínimo\\nde R$ 33,46, máximo de R$ 1.282,07, sempre que a entrega for realizada em\\nMunicípios que possuam algum tipo de restrição à circulação de veículos de\\ntransportes de carga e/ou à própria atividade de carga e descarga. A relação destas\\ncidades encontra-se no link https://portal.tbl.com.br/site-\\ntbl/cidadeRestricaoTransito?id=B200155020220711P&hash=afe0d8a1bda576ec173fc\\n0a869d3e64d. A TBL reserva o direito de incluir e/ou excluir municípios nesta lista\\nsem prévio aviso.15,00 %\\nTDA - Taxa de Dificuldade de Acesso: Valor calculado sobre o frete peso, com\\nmínimo de R$ 192,32, máximo de R$ 0,00, sempre que a entrega for realizada em\\nMunicípios que possuam dificuldade de acesso do veículo ao ponto de carregamento\\ne/ou descarga, seja por: ser uma localidade com baixo volume de carga ou em áreas\\nrurais, ou com trechos  ao longo da rota sem pavimentação ou pavimentação\\ndefeituosa entre outras. A relação destas cidades encontra-se no link\\nhttps://portal.tbl.com.br/site-tbl/cidadeDificuldadeAcesso. A TBL reserva o direito de\\nincluir e/ou excluir municípios nesta lista sem prévio aviso.30,00 %\\nTAS - Taxa de Administração SEFAZ: valor por CT-e emitido. R$ 10,04\\nADM SUFRAMA - Taxa de Administração SUFRAMA: valor por CT-e emitido para\\nos Estados do AM, RR, AP, RO e AC.R$ 5,12\\nTSN - Taxa de Segurança da Navegação: valor por CT-e emitido para os trechos\\nque envolvam navegação fluvial, destinados a cobrir custos com vigilância armada no\\npercurso fluvial.R$ 9,90\\nTPD - Taxa para Pagamento de Descargas: esta taxa tem como função ressarcir os\\ncustos do serviço de descarga prestado por terceiros nas dependências dos\\ndestinatários e imposto ao transportador à medida que ele é impedido de utilizar mão\\nde obra própria. A cobrança será apresentada mediante documento fiscal ou recibo\\nfornecido pelo prestador de serviço, acrescido do % para compensação de impostos e\\ndespesas administrativas.30,00 %\\nCONTRATO DE PRESTAÇÃO DE SERVIÇOS EM TRANSPORTES Nº B2-000221\\nPROPOSTA DE ATUALIZAÇÃO B2-001550\\nPágina 3 de 6 ITMKT02A-01', metadata={'source': 'bertolini.pdf', 'page': 2}),\n",
       " Document(page_content='a)RCTR-C: deve estipular o transportador como segurado e o pagador do frete na condição de beneficiário.\\n    b)RCF-DC: A apólice contratada deverá isentar o transportador de cobertura por quaisquer eventos e estipular as\\ncondições através da emissão de carta de dispensa do exercício do direito de regresso (DDR).\\nSeguro de mercadorias armazenadas: Quando o seguro for de responsabilidade da TBL será cobrado 0,20% sobre o\\nvalor da NF para o período de 30 dias.\\nIndenização de sinistros: Pelo valor declarado na nota fiscal. Na modalidade CIF, o pagamento do frete será devido à\\ntransportadora independentemente da conclusão do transporte até o destino.\\nSinistros - Perda Total: Serão pagos ao Contratante do Serviço.\\nAvarias: Serão consideradas quando existir danos externos nas embalagens.\\nFaltas: Em embalagens com lacre original inviolado serão de responsabilidade do embarcador.\\nAvarias e Faltas: Pedidos de indenizações decorrentes de avarias ou faltas somente serão aceitos com base no disposto\\nna Lei 11.442 de 5 de janeiro de 2007, ou seja, quando registrados imediatamente ao ato da entrega e na presença de\\nrepresentante legal da transportadora.\\nProcesso Avarias e Faltas: para os corretos registros contábeis e controles fiscais, serão considerados prescritos e sem\\nefeito os eventos de avarias não resolvidos em até 30 dias do término de cada ano.\\nQuitação para Avarias e Faltas: Somente serão indenizados os processos relacionados a avarias e/ou faltas apresentados\\npelos Clientes dentro do prazo máximo de 30 dias a contar da ocorrência do fato.\\nQuitação por período: No dia 31 de julho de cada ano, em não havendo quaisquer manifestações por escrito da\\nContratante acerca de falhas na prestação dos serviços objeto deste Contrato, referentes aos últimos 12 (doze) meses, de\\nquaisquer espécies  ou naturezas, o que inclui, sem se limitar, em faltas, avarias, extravios, roubos e furtos de mercadorias\\ntransportadas, será outorgada pela Contratante à Transportadora, de forma automática e tacitamente, a mais ampla, plena,\\ngeral e irrevogável quitação referente ao período contratual vencido, nada mais podendo a Contratante reclamar a tal título,\\nem qualquer tempo ou época. Esta previsão de outorga de quitação automática pela Contratante à transportadora valerá\\ncomo Declaração Anual de Quitação, pela qual a Contratante estará reconhecendo a regularidade dos serviços prestados\\npela transportadora referentes aos 12 (doze) meses anteriores (vencidos).\\nCargas com recusa de recebimento ou agendamento para entrega: Após 72 horas à disposição para entrega, o seguro\\né por conta e risco do tomador do serviço.\\nProduto perecível: Para cargas perecíveis e alimentícias de modo geral, armazenadas no transportador, o limite máximo de\\ngarantia de responsabilidades é de até 30 dias, contados da data da chegada da mercadoria.\\nArmazenagem: A transportadora não poderá ser responsabilizada pelos produtos que durante a armazenagem/transporte\\ntenham os prazos de validade comprometidos.\\nArmazenagem de Curto Prazo (inferior a 30 dias): A Cobrança será realizada imediatamente após o final da prestação\\ndeste serviço.\\nArmazenagem de Longo Prazo (superior a 30 dias): A Cobrança será realizada a cada período de 30 dias de prestação\\ndeste serviço.\\nPrazos de Fim de Ano: Nos meses de outubro, novembro e dezembro, os prazos acima firmados serão acrescidos de 2\\ndias.\\nProcesso de entrega: De acordo com o disposto na Lei 11.442, de 5 de janeiro de 2007, a responsabilidade do\\ntransportador cessa no momento da entrega da carga ao destinatário. Em sendo o comprovante de entrega retido, a TBL\\nnão se responsabilizará por reclamações, protestos ou ressalvas, efetuadas posteriormente ao momento do recebimento\\ndas mercadorias.\\nCarga em depósito: A carga não recebida pelo destinatário, por recusa ou agendamento, tem prazo de validade da\\ndocumentação fiscal. É do tomador do serviço a responsabilidade de regularização e/ou ônus fiscais decorrentes.', metadata={'source': 'bertolini.pdf', 'page': 3}),\n",
       " Document(page_content='documentação fiscal. É do tomador do serviço a responsabilidade de regularização e/ou ônus fiscais decorrentes.\\nTermo de Compromisso: O tomador dos serviços declara responsabilizar-se perante a transportadora por qualquer ônus\\ntributário, econômico ou cível que esta venha a ter em razão de cancelamento do documento fiscal que legaliza o transporte,\\nCONTRATO DE PRESTAÇÃO DE SERVIÇOS EM TRANSPORTES Nº B2-000221\\nPROPOSTA DE ATUALIZAÇÃO B2-001550\\nPágina 4 de 6 ITMKT02A-01', metadata={'source': 'bertolini.pdf', 'page': 3}),\n",
       " Document(page_content='após a entrega destas mercadorias para a transportadora, ou mesmo de eventuais irregularidades fiscais relacionados à\\ndocumentação/carga. Outrossim, o tomador de serviços autoriza, desde já, que a transportadora retenha a carga com\\ndocumentação irregular até a solução definitiva da pendência causada.\\nEDI (Troca Eletrônica de Informações): as condições serão ajustadas em documento anexo.\\nObservação: RETIFICA-SE: VALORES VALIDOS ATé 31/08/2021. A PARTIR DE 01/09/2021 SERá REAJUSTADO OS\\nVALORES EM MAIS 2,50%;\\n \\n \\n \\nDeclaram, cliente contratante e transportadora, que leram os ajustes registrados neste Contrato de Prestação de Serviços\\nde Transporte e concordam com todos os seus termos. \\n \\n \\n \\nItajai , 29 de Junho de 2022\\n \\n \\n_______________________________________\\nTRANSPORTES BERTOLINI LTDA   \\nJACKSON ELIAS HETTWER                            \\nCNPJ: 04503660004214\\nTelefone: (054)3455-1111\\nE-mail: jackson@tbl.com.br\\n \\n \\n \\n \\n_______________________________________\\nVANUBIA ALVES SILVA                               CLIENTE: CREMER S/A\\nCNPJ/CPF: 82641325000118\\nCONTRATO DE PRESTAÇÃO DE SERVIÇOS EM TRANSPORTES Nº B2-000221\\nPROPOSTA DE ATUALIZAÇÃO B2-001550\\nPágina 5 de 6 ITMKT02A-01', metadata={'source': 'bertolini.pdf', 'page': 4}),\n",
       " Document(page_content='* ANEXO ENDEREÇO DE COBRANÇA \\nCliente Endereço Cidade/UF CEP Contato\\n82641325000118-CREMER\\nS/AR IGUACU 291/363 ITOUPAVA\\nSECABLUMENAU/SC 89030-030A/C CONTAS A\\nPAGAR\\n82641325004377-CREMER\\nS.A.R IGUACU 291/363 ITOUPAVA\\nSECABLUMENAU/SC 89030-030A/C CONTAS A\\nPAGAR\\nCONTRATO DE PRESTAÇÃO DE SERVIÇOS EM TRANSPORTES Nº B2-000221\\nPROPOSTA DE ATUALIZAÇÃO B2-001550\\nPágina 6 de 6 ITMKT02A-01', metadata={'source': 'bertolini.pdf', 'page': 5})]"
      ]
     },
     "execution_count": 8,
     "metadata": {},
     "output_type": "execute_result"
    }
   ],
   "source": [
    "text "
   ]
  },
  {
   "cell_type": "code",
   "execution_count": 9,
   "metadata": {},
   "outputs": [],
   "source": [
    "# Load embedding model\n",
    "embeddings = HuggingFaceEmbeddings(model_name=\"BAAI/bge-small-en-v1.5\", \n",
    "encode_kwargs={\"normalize_embeddings\": True})"
   ]
  },
  {
   "cell_type": "code",
   "execution_count": 10,
   "metadata": {},
   "outputs": [],
   "source": [
    "# Create a vectorstore\n",
    "vectorstore = FAISS.from_documents(text, embeddings)\n",
    "\n",
    "# Save the documents and embeddings\n",
    "vectorstore.save_local(\"vectorstore.db\")"
   ]
  },
  {
   "cell_type": "code",
   "execution_count": 11,
   "metadata": {},
   "outputs": [],
   "source": [
    "retriever = vectorstore.as_retriever()"
   ]
  },
  {
   "cell_type": "code",
   "execution_count": 12,
   "metadata": {},
   "outputs": [
    {
     "name": "stderr",
     "output_type": "stream",
     "text": [
      "c:\\Users\\Luan Lima\\AppData\\Local\\Programs\\Python\\Python310\\lib\\site-packages\\langchain_core\\_api\\deprecation.py:117: LangChainDeprecationWarning: The class `langchain_community.chat_models.openai.ChatOpenAI` was deprecated in langchain-community 0.0.10 and will be removed in 0.2.0. An updated version of the class exists in the langchain-openai package and should be used instead. To use it run `pip install -U langchain-openai` and import as `from langchain_openai import ChatOpenAI`.\n",
      "  @deprecated('1.4.0')\n"
     ]
    }
   ],
   "source": [
    "# Load the llm \n",
    "llm = ChatOpenAI(model_name=\"gpt-3.5-turbo\")\n",
    "\n",
    "# Define prompt template\n",
    "template = \"\"\"\n",
    "You are an assistant for question-answering tasks.\n",
    "Use the provided context only to answer the following question:\n",
    "\n",
    "<context>\n",
    "{context}\n",
    "</context>\n",
    "\n",
    "Question: {input}\n",
    "\"\"\"\n",
    "\n",
    "# Create a prompt template\n",
    "prompt = ChatPromptTemplate.from_template(template)\n",
    "\n"
   ]
  },
  {
   "cell_type": "code",
   "execution_count": 13,
   "metadata": {},
   "outputs": [
    {
     "data": {
      "text/plain": [
       "ChatPromptTemplate(input_variables=['context', 'input'], messages=[HumanMessagePromptTemplate(prompt=PromptTemplate(input_variables=['context', 'input'], template='\\nYou are an assistant for question-answering tasks.\\nUse the provided context only to answer the following question:\\n\\n<context>\\n{context}\\n</context>\\n\\nQuestion: {input}\\n'))])"
      ]
     },
     "execution_count": 13,
     "metadata": {},
     "output_type": "execute_result"
    }
   ],
   "source": [
    "prompt"
   ]
  },
  {
   "cell_type": "code",
   "execution_count": 14,
   "metadata": {},
   "outputs": [],
   "source": [
    "doc_chain = create_stuff_documents_chain(llm, prompt)"
   ]
  },
  {
   "cell_type": "code",
   "execution_count": 15,
   "metadata": {},
   "outputs": [
    {
     "data": {
      "text/plain": [
       "RunnableBinding(bound=RunnableBinding(bound=RunnableAssign(mapper={\n",
       "  context: RunnableLambda(format_docs)\n",
       "}), config={'run_name': 'format_inputs'})\n",
       "| ChatPromptTemplate(input_variables=['context', 'input'], messages=[HumanMessagePromptTemplate(prompt=PromptTemplate(input_variables=['context', 'input'], template='\\nYou are an assistant for question-answering tasks.\\nUse the provided context only to answer the following question:\\n\\n<context>\\n{context}\\n</context>\\n\\nQuestion: {input}\\n'))])\n",
       "| ChatOpenAI(client=<openai.resources.chat.completions.Completions object at 0x00000274BBA88D60>, async_client=<openai.resources.chat.completions.AsyncCompletions object at 0x00000274BBA8A770>, openai_api_key='sk-proj-mqAcM3b3RXMkXKaeTccST3BlbkFJk1amcJf4EcY2YJmgDKTO', openai_proxy='')\n",
       "| StrOutputParser(), config={'run_name': 'stuff_documents_chain'})"
      ]
     },
     "execution_count": 15,
     "metadata": {},
     "output_type": "execute_result"
    }
   ],
   "source": [
    "doc_chain"
   ]
  },
  {
   "cell_type": "code",
   "execution_count": 16,
   "metadata": {},
   "outputs": [],
   "source": [
    "\n",
    "chain = create_retrieval_chain(retriever, doc_chain)"
   ]
  },
  {
   "cell_type": "code",
   "execution_count": 17,
   "metadata": {},
   "outputs": [
    {
     "data": {
      "text/plain": [
       "RunnableBinding(bound=RunnableAssign(mapper={\n",
       "  context: RunnableBinding(bound=RunnableLambda(lambda x: x['input'])\n",
       "           | VectorStoreRetriever(tags=['FAISS', 'HuggingFaceEmbeddings'], vectorstore=<langchain_community.vectorstores.faiss.FAISS object at 0x0000027480403220>), config={'run_name': 'retrieve_documents'})\n",
       "})\n",
       "| RunnableAssign(mapper={\n",
       "    answer: RunnableBinding(bound=RunnableBinding(bound=RunnableAssign(mapper={\n",
       "              context: RunnableLambda(format_docs)\n",
       "            }), config={'run_name': 'format_inputs'})\n",
       "            | ChatPromptTemplate(input_variables=['context', 'input'], messages=[HumanMessagePromptTemplate(prompt=PromptTemplate(input_variables=['context', 'input'], template='\\nYou are an assistant for question-answering tasks.\\nUse the provided context only to answer the following question:\\n\\n<context>\\n{context}\\n</context>\\n\\nQuestion: {input}\\n'))])\n",
       "            | ChatOpenAI(client=<openai.resources.chat.completions.Completions object at 0x00000274BBA88D60>, async_client=<openai.resources.chat.completions.AsyncCompletions object at 0x00000274BBA8A770>, openai_api_key='sk-proj-mqAcM3b3RXMkXKaeTccST3BlbkFJk1amcJf4EcY2YJmgDKTO', openai_proxy='')\n",
       "            | StrOutputParser(), config={'run_name': 'stuff_documents_chain'})\n",
       "  }), config={'run_name': 'retrieval_chain'})"
      ]
     },
     "execution_count": 17,
     "metadata": {},
     "output_type": "execute_result"
    }
   ],
   "source": [
    "chain"
   ]
  },
  {
   "cell_type": "code",
   "execution_count": 31,
   "metadata": {},
   "outputs": [
    {
     "data": {
      "text/plain": [
       "'Para mandar 1000kg do Rio Grande do Norte para Blumenau, considerando o Grupo Destino FR. R$ por t/m³ de TO-GRI (CAP 70) que tem o valor de R$ 1.060,30 por tonelada/m³ e a fração de 100kg que tem o valor de R$ 56,75, o custo total seria de:\\n\\nCusto por tonelada/m³: R$ 1.060,30\\nCusto por 100kg: R$ 56,75\\n\\nComo temos 1000kg, podemos calcular o custo total da seguinte forma:\\n\\nCusto por tonelada/m³: R$ 1.060,30\\nCusto por 100kg: R$ 56,75\\n1000kg = 10 * 100kg\\n\\nCusto total = (10 * R$ 56,75) + R$ 1.060,30\\nCusto total = R$ 567,50 + R$ 1.060,30\\nCusto total = R$ 1.627,80\\n\\nPortanto, o custo para enviar 1000kg do Rio Grande do Norte para Blumenau seria de R$ 1.627,80.'"
      ]
     },
     "execution_count": 31,
     "metadata": {},
     "output_type": "execute_result"
    }
   ],
   "source": [
    "# User query \n",
    "response = chain.invoke({\"input\": \"quanto custa mandar 1000kg do rio grande do norte para blumenau?\"})\n",
    "\n",
    "# Get the Answer only\n",
    "response['answer']"
   ]
  }
 ],
 "metadata": {
  "kernelspec": {
   "display_name": "Python 3",
   "language": "python",
   "name": "python3"
  },
  "language_info": {
   "codemirror_mode": {
    "name": "ipython",
    "version": 3
   },
   "file_extension": ".py",
   "mimetype": "text/x-python",
   "name": "python",
   "nbconvert_exporter": "python",
   "pygments_lexer": "ipython3",
   "version": "3.10.7"
  }
 },
 "nbformat": 4,
 "nbformat_minor": 2
}
