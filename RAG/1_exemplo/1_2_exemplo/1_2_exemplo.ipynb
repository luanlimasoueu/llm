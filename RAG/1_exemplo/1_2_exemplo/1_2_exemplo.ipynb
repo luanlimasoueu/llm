{
 "cells": [
  {
   "cell_type": "code",
   "execution_count": 46,
   "metadata": {},
   "outputs": [],
   "source": [
    "from llama_index import SimpleDirectoryReader\n",
    "from llama_index import Document\n",
    "from llama_index.node_parser import SimpleNodeParser\n",
    "from llama_index.schema import IndexNode\n",
    "from llama_index.llms import OpenAI\n",
    "from llama_index import ServiceContext\n",
    "from llama_index import VectorStoreIndex\n",
    "from llama_index.query_engine import RetrieverQueryEngine\n",
    "from llama_index.embeddings import OpenAIEmbedding, resolve_embed_model\n",
    "\n",
    "from dotenv import load_dotenv\n",
    "\n",
    "load_dotenv()\n",
    "\n",
    "import os\n",
    "api_key = os.getenv(\"OPENAI_API_KEY_1\")\n",
    "\n",
    "os.environ[\"OPENAI_API_KEY\"] = api_key"
   ]
  },
  {
   "cell_type": "code",
   "execution_count": 47,
   "metadata": {},
   "outputs": [],
   "source": [
    "# load pdf\n",
    "documents = SimpleDirectoryReader(\n",
    "input_files=[\"bertolini.pdf\"]).load_data()\n",
    "\n",
    "# combine documents into one\n",
    "doc_text = \"\\n\\n\".join([d.get_content() for d in documents])\n",
    "text= [Document(text=doc_text)]"
   ]
  },
  {
   "cell_type": "code",
   "execution_count": 48,
   "metadata": {},
   "outputs": [],
   "source": [
    "# set up text chunk\n",
    "node_parser = SimpleNodeParser.from_defaults()\n",
    "\n",
    "# split doc\n",
    "base_nodes = node_parser.get_nodes_from_documents(text)\n",
    "\n",
    "# reset node ids \n",
    "for idx, node in enumerate(base_nodes):\n",
    "    node.id_ = f\"node-{idx}\""
   ]
  },
  {
   "cell_type": "code",
   "execution_count": 49,
   "metadata": {},
   "outputs": [],
   "source": [
    "# load embedding model\n",
    "embed_model = resolve_embed_model(\"local:BAAI/bge-small-en-v1.5\")\n",
    "\n",
    "# load llm\n",
    "llm = OpenAI(model=\"gpt-3.5-turbo\")"
   ]
  },
  {
   "cell_type": "code",
   "execution_count": 50,
   "metadata": {},
   "outputs": [],
   "source": [
    "# set up service\n",
    "service_context = ServiceContext.from_defaults(llm=llm, embed_model=embed_model)"
   ]
  },
  {
   "cell_type": "code",
   "execution_count": 51,
   "metadata": {},
   "outputs": [],
   "source": [
    "# create & store in embeddings vectorstore index\n",
    "index = VectorStoreIndex(base_nodes, service_context=service_context)"
   ]
  },
  {
   "cell_type": "code",
   "execution_count": 52,
   "metadata": {},
   "outputs": [],
   "source": [
    "# create retriever\n",
    "retriever = index.as_retriever()"
   ]
  },
  {
   "cell_type": "code",
   "execution_count": 54,
   "metadata": {},
   "outputs": [
    {
     "name": "stdout",
     "output_type": "stream",
     "text": [
      "Santa Catarina.\n"
     ]
    }
   ],
   "source": [
    "# set up query engine\n",
    "query_engine = RetrieverQueryEngine.from_args(retriever,\n",
    " service_context=service_context)\n",
    "\n",
    "# query\n",
    "response = query_engine.query(\"quais estados são mencionados?\")\n",
    "print(str(response))"
   ]
  }
 ],
 "metadata": {
  "kernelspec": {
   "display_name": "Python 3",
   "language": "python",
   "name": "python3"
  },
  "language_info": {
   "codemirror_mode": {
    "name": "ipython",
    "version": 3
   },
   "file_extension": ".py",
   "mimetype": "text/x-python",
   "name": "python",
   "nbconvert_exporter": "python",
   "pygments_lexer": "ipython3",
   "version": "3.10.7"
  }
 },
 "nbformat": 4,
 "nbformat_minor": 2
}
