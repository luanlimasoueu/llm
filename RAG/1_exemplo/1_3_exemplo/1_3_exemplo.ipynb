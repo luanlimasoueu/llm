{
 "cells": [
  {
   "cell_type": "code",
   "execution_count": 10,
   "metadata": {},
   "outputs": [],
   "source": [
    "from langchain_community.document_loaders import PyPDFLoader\n",
    "from langchain.text_splitter import RecursiveCharacterTextSplitter\n",
    "from langchain.embeddings import HuggingFaceEmbeddings\n",
    "from langchain.vectorstores import FAISS\n",
    "from langchain.chat_models import ChatOpenAI\n",
    "from langchain.chains.combine_documents import create_stuff_documents_chain\n",
    "from langchain_core.prompts import ChatPromptTemplate\n",
    "from langchain.chains import create_retrieval_chain\n",
    "import os\n",
    "from dotenv import load_dotenv\n",
    "\n",
    "load_dotenv()\n",
    "api_key = os.getenv(\"OPENAI_API_KEY_1\")\n",
    "\n",
    "# For openai key\n",
    "import os\n",
    "os.environ[\"OPENAI_API_KEY\"] = api_key"
   ]
  },
  {
   "cell_type": "code",
   "execution_count": 16,
   "metadata": {},
   "outputs": [],
   "source": [
    "\n",
    "loader = PyPDFLoader(\"constitution.pdf\")\n",
    "documents = loader.load()"
   ]
  },
  {
   "cell_type": "code",
   "execution_count": 15,
   "metadata": {},
   "outputs": [],
   "source": [
    "# split pages content\n",
    "from langchain.text_splitter import RecursiveCharacterTextSplitter\n",
    "\n",
    "# create the parent documents - The big chunks\n",
    "parent_splitter = RecursiveCharacterTextSplitter(chunk_size=2000)\n",
    "\n",
    "# create the child documents - The small chunks\n",
    "child_splitter = RecursiveCharacterTextSplitter(chunk_size=400)\n",
    "\n",
    "# The storage layer for the parent chunks\n",
    "from langchain.storage import InMemoryStore\n",
    "store = InMemoryStore()"
   ]
  },
  {
   "cell_type": "code",
   "execution_count": 6,
   "metadata": {},
   "outputs": [],
   "source": [
    "# Load embedding model\n",
    "embeddings = HuggingFaceEmbeddings(model_name=\"BAAI/bge-small-en-v1.5\", \n",
    "encode_kwargs={\"normalize_embeddings\": True})"
   ]
  },
  {
   "cell_type": "code",
   "execution_count": 13,
   "metadata": {},
   "outputs": [
    {
     "name": "stdout",
     "output_type": "stream",
     "text": [
      "Collecting langchain-chromaNote: you may need to restart the kernel to use updated packages.\n",
      "\n",
      "  Downloading langchain_chroma-0.1.1-py3-none-any.whl (8.5 kB)\n",
      "Collecting langchain-core<0.3,>=0.1.40\n",
      "  Downloading langchain_core-0.2.9-py3-none-any.whl (321 kB)\n",
      "     -------------------------------------- 321.8/321.8 kB 1.3 MB/s eta 0:00:00\n",
      "Requirement already satisfied: chromadb<0.6.0,>=0.4.0 in c:\\users\\luan lima\\appdata\\local\\programs\\python\\python310\\lib\\site-packages (from langchain-chroma) (0.5.3)\n",
      "Requirement already satisfied: numpy<2,>=1 in c:\\users\\luan lima\\appdata\\local\\programs\\python\\python310\\lib\\site-packages (from langchain-chroma) (1.25.1)\n",
      "Requirement already satisfied: fastapi<1,>=0.95.2 in c:\\users\\luan lima\\appdata\\local\\programs\\python\\python310\\lib\\site-packages (from langchain-chroma) (0.111.0)\n",
      "Requirement already satisfied: opentelemetry-api>=1.2.0 in c:\\users\\luan lima\\appdata\\local\\programs\\python\\python310\\lib\\site-packages (from chromadb<0.6.0,>=0.4.0->langchain-chroma) (1.25.0)\n",
      "Requirement already satisfied: bcrypt>=4.0.1 in c:\\users\\luan lima\\appdata\\local\\programs\\python\\python310\\lib\\site-packages (from chromadb<0.6.0,>=0.4.0->langchain-chroma) (4.1.3)\n",
      "Requirement already satisfied: tenacity>=8.2.3 in c:\\users\\luan lima\\appdata\\local\\programs\\python\\python310\\lib\\site-packages (from chromadb<0.6.0,>=0.4.0->langchain-chroma) (8.2.3)\n",
      "Requirement already satisfied: importlib-resources in c:\\users\\luan lima\\appdata\\local\\programs\\python\\python310\\lib\\site-packages (from chromadb<0.6.0,>=0.4.0->langchain-chroma) (6.4.0)\n",
      "Requirement already satisfied: opentelemetry-sdk>=1.2.0 in c:\\users\\luan lima\\appdata\\local\\programs\\python\\python310\\lib\\site-packages (from chromadb<0.6.0,>=0.4.0->langchain-chroma) (1.25.0)\n",
      "Requirement already satisfied: overrides>=7.3.1 in c:\\users\\luan lima\\appdata\\local\\programs\\python\\python310\\lib\\site-packages (from chromadb<0.6.0,>=0.4.0->langchain-chroma) (7.4.0)\n",
      "Requirement already satisfied: kubernetes>=28.1.0 in c:\\users\\luan lima\\appdata\\local\\programs\\python\\python310\\lib\\site-packages (from chromadb<0.6.0,>=0.4.0->langchain-chroma) (30.1.0)\n",
      "Requirement already satisfied: pypika>=0.48.9 in c:\\users\\luan lima\\appdata\\local\\programs\\python\\python310\\lib\\site-packages (from chromadb<0.6.0,>=0.4.0->langchain-chroma) (0.48.9)\n",
      "Requirement already satisfied: orjson>=3.9.12 in c:\\users\\luan lima\\appdata\\local\\programs\\python\\python310\\lib\\site-packages (from chromadb<0.6.0,>=0.4.0->langchain-chroma) (3.10.5)\n",
      "Requirement already satisfied: uvicorn[standard]>=0.18.3 in c:\\users\\luan lima\\appdata\\local\\programs\\python\\python310\\lib\\site-packages (from chromadb<0.6.0,>=0.4.0->langchain-chroma) (0.30.1)\n",
      "Requirement already satisfied: opentelemetry-instrumentation-fastapi>=0.41b0 in c:\\users\\luan lima\\appdata\\local\\programs\\python\\python310\\lib\\site-packages (from chromadb<0.6.0,>=0.4.0->langchain-chroma) (0.46b0)\n",
      "Requirement already satisfied: typer>=0.9.0 in c:\\users\\luan lima\\appdata\\local\\programs\\python\\python310\\lib\\site-packages (from chromadb<0.6.0,>=0.4.0->langchain-chroma) (0.12.3)\n",
      "Requirement already satisfied: chroma-hnswlib==0.7.3 in c:\\users\\luan lima\\appdata\\local\\programs\\python\\python310\\lib\\site-packages (from chromadb<0.6.0,>=0.4.0->langchain-chroma) (0.7.3)\n",
      "Requirement already satisfied: grpcio>=1.58.0 in c:\\users\\luan lima\\appdata\\local\\programs\\python\\python310\\lib\\site-packages (from chromadb<0.6.0,>=0.4.0->langchain-chroma) (1.60.0)\n",
      "Requirement already satisfied: requests>=2.28 in c:\\users\\luan lima\\appdata\\local\\programs\\python\\python310\\lib\\site-packages (from chromadb<0.6.0,>=0.4.0->langchain-chroma) (2.31.0)\n",
      "Requirement already satisfied: build>=1.0.3 in c:\\users\\luan lima\\appdata\\local\\programs\\python\\python310\\lib\\site-packages (from chromadb<0.6.0,>=0.4.0->langchain-chroma) (1.2.1)\n",
      "Requirement already satisfied: opentelemetry-exporter-otlp-proto-grpc>=1.2.0 in c:\\users\\luan lima\\appdata\\local\\programs\\python\\python310\\lib\\site-packages (from chromadb<0.6.0,>=0.4.0->langchain-chroma) (1.25.0)\n",
      "Requirement already satisfied: onnxruntime>=1.14.1 in c:\\users\\luan lima\\appdata\\local\\programs\\python\\python310\\lib\\site-packages (from chromadb<0.6.0,>=0.4.0->langchain-chroma) (1.18.0)\n",
      "Requirement already satisfied: tqdm>=4.65.0 in c:\\users\\luan lima\\appdata\\local\\programs\\python\\python310\\lib\\site-packages (from chromadb<0.6.0,>=0.4.0->langchain-chroma) (4.66.1)\n",
      "Requirement already satisfied: PyYAML>=6.0.0 in c:\\users\\luan lima\\appdata\\local\\programs\\python\\python310\\lib\\site-packages (from chromadb<0.6.0,>=0.4.0->langchain-chroma) (6.0.1)\n",
      "Requirement already satisfied: mmh3>=4.0.1 in c:\\users\\luan lima\\appdata\\local\\programs\\python\\python310\\lib\\site-packages (from chromadb<0.6.0,>=0.4.0->langchain-chroma) (4.1.0)\n",
      "Requirement already satisfied: typing-extensions>=4.5.0 in c:\\users\\luan lima\\appdata\\local\\programs\\python\\python310\\lib\\site-packages (from chromadb<0.6.0,>=0.4.0->langchain-chroma) (4.12.2)\n",
      "Requirement already satisfied: httpx>=0.27.0 in c:\\users\\luan lima\\appdata\\local\\programs\\python\\python310\\lib\\site-packages (from chromadb<0.6.0,>=0.4.0->langchain-chroma) (0.27.0)\n",
      "Requirement already satisfied: posthog>=2.4.0 in c:\\users\\luan lima\\appdata\\local\\programs\\python\\python310\\lib\\site-packages (from chromadb<0.6.0,>=0.4.0->langchain-chroma) (3.5.0)\n",
      "Requirement already satisfied: pydantic>=1.9 in c:\\users\\luan lima\\appdata\\local\\programs\\python\\python310\\lib\\site-packages (from chromadb<0.6.0,>=0.4.0->langchain-chroma) (1.10.14)\n",
      "Requirement already satisfied: tokenizers>=0.13.2 in c:\\users\\luan lima\\appdata\\local\\programs\\python\\python310\\lib\\site-packages (from chromadb<0.6.0,>=0.4.0->langchain-chroma) (0.15.1)\n",
      "Requirement already satisfied: python-multipart>=0.0.7 in c:\\users\\luan lima\\appdata\\local\\programs\\python\\python310\\lib\\site-packages (from fastapi<1,>=0.95.2->langchain-chroma) (0.0.9)\n",
      "Requirement already satisfied: jinja2>=2.11.2 in c:\\users\\luan lima\\appdata\\local\\programs\\python\\python310\\lib\\site-packages (from fastapi<1,>=0.95.2->langchain-chroma) (3.1.2)\n",
      "Requirement already satisfied: ujson!=4.0.2,!=4.1.0,!=4.2.0,!=4.3.0,!=5.0.0,!=5.1.0,>=4.0.1 in c:\\users\\luan lima\\appdata\\local\\programs\\python\\python310\\lib\\site-packages (from fastapi<1,>=0.95.2->langchain-chroma) (5.10.0)\n",
      "Requirement already satisfied: fastapi-cli>=0.0.2 in c:\\users\\luan lima\\appdata\\local\\programs\\python\\python310\\lib\\site-packages (from fastapi<1,>=0.95.2->langchain-chroma) (0.0.4)\n",
      "Requirement already satisfied: email_validator>=2.0.0 in c:\\users\\luan lima\\appdata\\local\\programs\\python\\python310\\lib\\site-packages (from fastapi<1,>=0.95.2->langchain-chroma) (2.2.0)\n",
      "Requirement already satisfied: starlette<0.38.0,>=0.37.2 in c:\\users\\luan lima\\appdata\\local\\programs\\python\\python310\\lib\\site-packages (from fastapi<1,>=0.95.2->langchain-chroma) (0.37.2)\n",
      "Collecting langsmith<0.2.0,>=0.1.75\n",
      "  Downloading langsmith-0.1.81-py3-none-any.whl (127 kB)\n",
      "     -------------------------------------- 127.1/127.1 kB 2.5 MB/s eta 0:00:00\n",
      "Requirement already satisfied: packaging<25,>=23.2 in c:\\users\\luan lima\\appdata\\local\\programs\\python\\python310\\lib\\site-packages (from langchain-core<0.3,>=0.1.40->langchain-chroma) (23.2)\n",
      "Requirement already satisfied: jsonpatch<2.0,>=1.33 in c:\\users\\luan lima\\appdata\\local\\programs\\python\\python310\\lib\\site-packages (from langchain-core<0.3,>=0.1.40->langchain-chroma) (1.33)\n",
      "Requirement already satisfied: colorama in c:\\users\\luan lima\\appdata\\roaming\\python\\python310\\site-packages (from build>=1.0.3->chromadb<0.6.0,>=0.4.0->langchain-chroma) (0.4.6)\n",
      "Requirement already satisfied: pyproject_hooks in c:\\users\\luan lima\\appdata\\local\\programs\\python\\python310\\lib\\site-packages (from build>=1.0.3->chromadb<0.6.0,>=0.4.0->langchain-chroma) (1.1.0)\n",
      "Requirement already satisfied: tomli>=1.1.0 in c:\\users\\luan lima\\appdata\\local\\programs\\python\\python310\\lib\\site-packages (from build>=1.0.3->chromadb<0.6.0,>=0.4.0->langchain-chroma) (2.0.1)\n",
      "Requirement already satisfied: idna>=2.0.0 in c:\\users\\luan lima\\appdata\\local\\programs\\python\\python310\\lib\\site-packages (from email_validator>=2.0.0->fastapi<1,>=0.95.2->langchain-chroma) (3.4)\n",
      "Requirement already satisfied: dnspython>=2.0.0 in c:\\users\\luan lima\\appdata\\local\\programs\\python\\python310\\lib\\site-packages (from email_validator>=2.0.0->fastapi<1,>=0.95.2->langchain-chroma) (2.6.1)\n",
      "Requirement already satisfied: certifi in c:\\users\\luan lima\\appdata\\local\\programs\\python\\python310\\lib\\site-packages (from httpx>=0.27.0->chromadb<0.6.0,>=0.4.0->langchain-chroma) (2023.7.22)\n",
      "Requirement already satisfied: httpcore==1.* in c:\\users\\luan lima\\appdata\\local\\programs\\python\\python310\\lib\\site-packages (from httpx>=0.27.0->chromadb<0.6.0,>=0.4.0->langchain-chroma) (1.0.2)\n",
      "Requirement already satisfied: anyio in c:\\users\\luan lima\\appdata\\local\\programs\\python\\python310\\lib\\site-packages (from httpx>=0.27.0->chromadb<0.6.0,>=0.4.0->langchain-chroma) (4.0.0)\n",
      "Requirement already satisfied: sniffio in c:\\users\\luan lima\\appdata\\local\\programs\\python\\python310\\lib\\site-packages (from httpx>=0.27.0->chromadb<0.6.0,>=0.4.0->langchain-chroma) (1.3.0)\n",
      "Requirement already satisfied: h11<0.15,>=0.13 in c:\\users\\luan lima\\appdata\\local\\programs\\python\\python310\\lib\\site-packages (from httpcore==1.*->httpx>=0.27.0->chromadb<0.6.0,>=0.4.0->langchain-chroma) (0.14.0)\n",
      "Requirement already satisfied: MarkupSafe>=2.0 in c:\\users\\luan lima\\appdata\\local\\programs\\python\\python310\\lib\\site-packages (from jinja2>=2.11.2->fastapi<1,>=0.95.2->langchain-chroma) (2.1.3)\n",
      "Requirement already satisfied: jsonpointer>=1.9 in c:\\users\\luan lima\\appdata\\local\\programs\\python\\python310\\lib\\site-packages (from jsonpatch<2.0,>=1.33->langchain-core<0.3,>=0.1.40->langchain-chroma) (2.4)\n",
      "Requirement already satisfied: google-auth>=1.0.1 in c:\\users\\luan lima\\appdata\\local\\programs\\python\\python310\\lib\\site-packages (from kubernetes>=28.1.0->chromadb<0.6.0,>=0.4.0->langchain-chroma) (2.27.0)\n",
      "Requirement already satisfied: requests-oauthlib in c:\\users\\luan lima\\appdata\\local\\programs\\python\\python310\\lib\\site-packages (from kubernetes>=28.1.0->chromadb<0.6.0,>=0.4.0->langchain-chroma) (2.0.0)\n",
      "Requirement already satisfied: six>=1.9.0 in c:\\users\\luan lima\\appdata\\roaming\\python\\python310\\site-packages (from kubernetes>=28.1.0->chromadb<0.6.0,>=0.4.0->langchain-chroma) (1.16.0)\n",
      "Requirement already satisfied: python-dateutil>=2.5.3 in c:\\users\\luan lima\\appdata\\roaming\\python\\python310\\site-packages (from kubernetes>=28.1.0->chromadb<0.6.0,>=0.4.0->langchain-chroma) (2.8.2)\n",
      "Requirement already satisfied: websocket-client!=0.40.0,!=0.41.*,!=0.42.*,>=0.32.0 in c:\\users\\luan lima\\appdata\\local\\programs\\python\\python310\\lib\\site-packages (from kubernetes>=28.1.0->chromadb<0.6.0,>=0.4.0->langchain-chroma) (1.6.2)\n",
      "Requirement already satisfied: urllib3>=1.24.2 in c:\\users\\luan lima\\appdata\\local\\programs\\python\\python310\\lib\\site-packages (from kubernetes>=28.1.0->chromadb<0.6.0,>=0.4.0->langchain-chroma) (2.0.4)\n",
      "Requirement already satisfied: oauthlib>=3.2.2 in c:\\users\\luan lima\\appdata\\local\\programs\\python\\python310\\lib\\site-packages (from kubernetes>=28.1.0->chromadb<0.6.0,>=0.4.0->langchain-chroma) (3.2.2)\n",
      "Requirement already satisfied: coloredlogs in c:\\users\\luan lima\\appdata\\local\\programs\\python\\python310\\lib\\site-packages (from onnxruntime>=1.14.1->chromadb<0.6.0,>=0.4.0->langchain-chroma) (15.0.1)\n",
      "Requirement already satisfied: protobuf in c:\\users\\luan lima\\appdata\\local\\programs\\python\\python310\\lib\\site-packages (from onnxruntime>=1.14.1->chromadb<0.6.0,>=0.4.0->langchain-chroma) (4.21.12)\n",
      "Requirement already satisfied: sympy in c:\\users\\luan lima\\appdata\\local\\programs\\python\\python310\\lib\\site-packages (from onnxruntime>=1.14.1->chromadb<0.6.0,>=0.4.0->langchain-chroma) (1.12)\n",
      "Requirement already satisfied: flatbuffers in c:\\users\\luan lima\\appdata\\local\\programs\\python\\python310\\lib\\site-packages (from onnxruntime>=1.14.1->chromadb<0.6.0,>=0.4.0->langchain-chroma) (24.3.7)\n",
      "Requirement already satisfied: importlib-metadata<=7.1,>=6.0 in c:\\users\\luan lima\\appdata\\local\\programs\\python\\python310\\lib\\site-packages (from opentelemetry-api>=1.2.0->chromadb<0.6.0,>=0.4.0->langchain-chroma) (7.1.0)\n",
      "Requirement already satisfied: deprecated>=1.2.6 in c:\\users\\luan lima\\appdata\\local\\programs\\python\\python310\\lib\\site-packages (from opentelemetry-api>=1.2.0->chromadb<0.6.0,>=0.4.0->langchain-chroma) (1.2.14)\n",
      "Requirement already satisfied: opentelemetry-proto==1.25.0 in c:\\users\\luan lima\\appdata\\local\\programs\\python\\python310\\lib\\site-packages (from opentelemetry-exporter-otlp-proto-grpc>=1.2.0->chromadb<0.6.0,>=0.4.0->langchain-chroma) (1.25.0)\n",
      "Requirement already satisfied: opentelemetry-exporter-otlp-proto-common==1.25.0 in c:\\users\\luan lima\\appdata\\local\\programs\\python\\python310\\lib\\site-packages (from opentelemetry-exporter-otlp-proto-grpc>=1.2.0->chromadb<0.6.0,>=0.4.0->langchain-chroma) (1.25.0)\n",
      "Requirement already satisfied: googleapis-common-protos~=1.52 in c:\\users\\luan lima\\appdata\\local\\programs\\python\\python310\\lib\\site-packages (from opentelemetry-exporter-otlp-proto-grpc>=1.2.0->chromadb<0.6.0,>=0.4.0->langchain-chroma) (1.62.0)\n",
      "Requirement already satisfied: opentelemetry-instrumentation==0.46b0 in c:\\users\\luan lima\\appdata\\local\\programs\\python\\python310\\lib\\site-packages (from opentelemetry-instrumentation-fastapi>=0.41b0->chromadb<0.6.0,>=0.4.0->langchain-chroma) (0.46b0)\n",
      "Requirement already satisfied: opentelemetry-semantic-conventions==0.46b0 in c:\\users\\luan lima\\appdata\\local\\programs\\python\\python310\\lib\\site-packages (from opentelemetry-instrumentation-fastapi>=0.41b0->chromadb<0.6.0,>=0.4.0->langchain-chroma) (0.46b0)\n",
      "Requirement already satisfied: opentelemetry-util-http==0.46b0 in c:\\users\\luan lima\\appdata\\local\\programs\\python\\python310\\lib\\site-packages (from opentelemetry-instrumentation-fastapi>=0.41b0->chromadb<0.6.0,>=0.4.0->langchain-chroma) (0.46b0)\n",
      "Requirement already satisfied: opentelemetry-instrumentation-asgi==0.46b0 in c:\\users\\luan lima\\appdata\\local\\programs\\python\\python310\\lib\\site-packages (from opentelemetry-instrumentation-fastapi>=0.41b0->chromadb<0.6.0,>=0.4.0->langchain-chroma) (0.46b0)\n",
      "Requirement already satisfied: setuptools>=16.0 in c:\\users\\luan lima\\appdata\\local\\programs\\python\\python310\\lib\\site-packages (from opentelemetry-instrumentation==0.46b0->opentelemetry-instrumentation-fastapi>=0.41b0->chromadb<0.6.0,>=0.4.0->langchain-chroma) (63.2.0)\n",
      "Requirement already satisfied: wrapt<2.0.0,>=1.0.0 in c:\\users\\luan lima\\appdata\\local\\programs\\python\\python310\\lib\\site-packages (from opentelemetry-instrumentation==0.46b0->opentelemetry-instrumentation-fastapi>=0.41b0->chromadb<0.6.0,>=0.4.0->langchain-chroma) (1.15.0)\n",
      "Requirement already satisfied: asgiref~=3.0 in c:\\users\\luan lima\\appdata\\local\\programs\\python\\python310\\lib\\site-packages (from opentelemetry-instrumentation-asgi==0.46b0->opentelemetry-instrumentation-fastapi>=0.41b0->chromadb<0.6.0,>=0.4.0->langchain-chroma) (3.8.1)\n",
      "Requirement already satisfied: monotonic>=1.5 in c:\\users\\luan lima\\appdata\\local\\programs\\python\\python310\\lib\\site-packages (from posthog>=2.4.0->chromadb<0.6.0,>=0.4.0->langchain-chroma) (1.6)\n",
      "Requirement already satisfied: backoff>=1.10.0 in c:\\users\\luan lima\\appdata\\local\\programs\\python\\python310\\lib\\site-packages (from posthog>=2.4.0->chromadb<0.6.0,>=0.4.0->langchain-chroma) (2.2.1)\n",
      "Requirement already satisfied: charset-normalizer<4,>=2 in c:\\users\\luan lima\\appdata\\local\\programs\\python\\python310\\lib\\site-packages (from requests>=2.28->chromadb<0.6.0,>=0.4.0->langchain-chroma) (3.2.0)\n",
      "Requirement already satisfied: huggingface_hub<1.0,>=0.16.4 in c:\\users\\luan lima\\appdata\\local\\programs\\python\\python310\\lib\\site-packages (from tokenizers>=0.13.2->chromadb<0.6.0,>=0.4.0->langchain-chroma) (0.20.3)\n",
      "Requirement already satisfied: click>=8.0.0 in c:\\users\\luan lima\\appdata\\local\\programs\\python\\python310\\lib\\site-packages (from typer>=0.9.0->chromadb<0.6.0,>=0.4.0->langchain-chroma) (8.1.7)\n",
      "Requirement already satisfied: rich>=10.11.0 in c:\\users\\luan lima\\appdata\\local\\programs\\python\\python310\\lib\\site-packages (from typer>=0.9.0->chromadb<0.6.0,>=0.4.0->langchain-chroma) (13.7.0)\n",
      "Requirement already satisfied: shellingham>=1.3.0 in c:\\users\\luan lima\\appdata\\local\\programs\\python\\python310\\lib\\site-packages (from typer>=0.9.0->chromadb<0.6.0,>=0.4.0->langchain-chroma) (1.5.4)\n",
      "Requirement already satisfied: httptools>=0.5.0 in c:\\users\\luan lima\\appdata\\local\\programs\\python\\python310\\lib\\site-packages (from uvicorn[standard]>=0.18.3->chromadb<0.6.0,>=0.4.0->langchain-chroma) (0.6.1)\n",
      "Requirement already satisfied: python-dotenv>=0.13 in c:\\users\\luan lima\\appdata\\local\\programs\\python\\python310\\lib\\site-packages (from uvicorn[standard]>=0.18.3->chromadb<0.6.0,>=0.4.0->langchain-chroma) (1.0.1)\n",
      "Requirement already satisfied: websockets>=10.4 in c:\\users\\luan lima\\appdata\\local\\programs\\python\\python310\\lib\\site-packages (from uvicorn[standard]>=0.18.3->chromadb<0.6.0,>=0.4.0->langchain-chroma) (12.0)\n",
      "Requirement already satisfied: watchfiles>=0.13 in c:\\users\\luan lima\\appdata\\local\\programs\\python\\python310\\lib\\site-packages (from uvicorn[standard]>=0.18.3->chromadb<0.6.0,>=0.4.0->langchain-chroma) (0.22.0)\n",
      "Requirement already satisfied: exceptiongroup>=1.0.2 in c:\\users\\luan lima\\appdata\\local\\programs\\python\\python310\\lib\\site-packages (from anyio->httpx>=0.27.0->chromadb<0.6.0,>=0.4.0->langchain-chroma) (1.1.3)\n",
      "Requirement already satisfied: pyasn1-modules>=0.2.1 in c:\\users\\luan lima\\appdata\\local\\programs\\python\\python310\\lib\\site-packages (from google-auth>=1.0.1->kubernetes>=28.1.0->chromadb<0.6.0,>=0.4.0->langchain-chroma) (0.3.0)\n",
      "Requirement already satisfied: cachetools<6.0,>=2.0.0 in c:\\users\\luan lima\\appdata\\local\\programs\\python\\python310\\lib\\site-packages (from google-auth>=1.0.1->kubernetes>=28.1.0->chromadb<0.6.0,>=0.4.0->langchain-chroma) (5.3.2)\n",
      "Requirement already satisfied: rsa<5,>=3.1.4 in c:\\users\\luan lima\\appdata\\local\\programs\\python\\python310\\lib\\site-packages (from google-auth>=1.0.1->kubernetes>=28.1.0->chromadb<0.6.0,>=0.4.0->langchain-chroma) (4.9)\n",
      "Requirement already satisfied: filelock in c:\\users\\luan lima\\appdata\\local\\programs\\python\\python310\\lib\\site-packages (from huggingface_hub<1.0,>=0.16.4->tokenizers>=0.13.2->chromadb<0.6.0,>=0.4.0->langchain-chroma) (3.13.1)\n",
      "Requirement already satisfied: fsspec>=2023.5.0 in c:\\users\\luan lima\\appdata\\local\\programs\\python\\python310\\lib\\site-packages (from huggingface_hub<1.0,>=0.16.4->tokenizers>=0.13.2->chromadb<0.6.0,>=0.4.0->langchain-chroma) (2023.10.0)\n",
      "Requirement already satisfied: zipp>=0.5 in c:\\users\\luan lima\\appdata\\local\\programs\\python\\python310\\lib\\site-packages (from importlib-metadata<=7.1,>=6.0->opentelemetry-api>=1.2.0->chromadb<0.6.0,>=0.4.0->langchain-chroma) (3.19.2)\n",
      "Requirement already satisfied: markdown-it-py>=2.2.0 in c:\\users\\luan lima\\appdata\\local\\programs\\python\\python310\\lib\\site-packages (from rich>=10.11.0->typer>=0.9.0->chromadb<0.6.0,>=0.4.0->langchain-chroma) (3.0.0)\n",
      "Requirement already satisfied: pygments<3.0.0,>=2.13.0 in c:\\users\\luan lima\\appdata\\roaming\\python\\python310\\site-packages (from rich>=10.11.0->typer>=0.9.0->chromadb<0.6.0,>=0.4.0->langchain-chroma) (2.15.1)\n",
      "Requirement already satisfied: humanfriendly>=9.1 in c:\\users\\luan lima\\appdata\\local\\programs\\python\\python310\\lib\\site-packages (from coloredlogs->onnxruntime>=1.14.1->chromadb<0.6.0,>=0.4.0->langchain-chroma) (10.0)\n",
      "Requirement already satisfied: mpmath>=0.19 in c:\\users\\luan lima\\appdata\\local\\programs\\python\\python310\\lib\\site-packages (from sympy->onnxruntime>=1.14.1->chromadb<0.6.0,>=0.4.0->langchain-chroma) (1.3.0)\n",
      "Requirement already satisfied: pyreadline3 in c:\\users\\luan lima\\appdata\\local\\programs\\python\\python310\\lib\\site-packages (from humanfriendly>=9.1->coloredlogs->onnxruntime>=1.14.1->chromadb<0.6.0,>=0.4.0->langchain-chroma) (3.4.1)\n",
      "Requirement already satisfied: mdurl~=0.1 in c:\\users\\luan lima\\appdata\\local\\programs\\python\\python310\\lib\\site-packages (from markdown-it-py>=2.2.0->rich>=10.11.0->typer>=0.9.0->chromadb<0.6.0,>=0.4.0->langchain-chroma) (0.1.2)\n",
      "Requirement already satisfied: pyasn1<0.6.0,>=0.4.6 in c:\\users\\luan lima\\appdata\\local\\programs\\python\\python310\\lib\\site-packages (from pyasn1-modules>=0.2.1->google-auth>=1.0.1->kubernetes>=28.1.0->chromadb<0.6.0,>=0.4.0->langchain-chroma) (0.5.1)\n",
      "Installing collected packages: langsmith, langchain-core, langchain-chroma\n",
      "  Attempting uninstall: langsmith\n",
      "    Found existing installation: langsmith 0.0.83\n",
      "    Uninstalling langsmith-0.0.83:\n",
      "      Successfully uninstalled langsmith-0.0.83\n",
      "  Attempting uninstall: langchain-core\n",
      "    Found existing installation: langchain-core 0.1.13\n",
      "    Uninstalling langchain-core-0.1.13:\n",
      "      Successfully uninstalled langchain-core-0.1.13\n",
      "Successfully installed langchain-chroma-0.1.1 langchain-core-0.2.9 langsmith-0.1.81\n"
     ]
    },
    {
     "name": "stderr",
     "output_type": "stream",
     "text": [
      "ERROR: pip's dependency resolver does not currently take into account all the packages that are installed. This behaviour is the source of the following dependency conflicts.\n",
      "langchain 0.1.1 requires langchain-core<0.2,>=0.1.9, but you have langchain-core 0.2.9 which is incompatible.\n",
      "langchain 0.1.1 requires langsmith<0.1.0,>=0.0.77, but you have langsmith 0.1.81 which is incompatible.\n",
      "langchain-openai 0.0.3 requires langchain-core<0.2,>=0.1.13, but you have langchain-core 0.2.9 which is incompatible.\n",
      "langchain-google-vertexai 0.0.3 requires langchain-core<0.2,>=0.1.7, but you have langchain-core 0.2.9 which is incompatible.\n",
      "langchain-experimental 0.0.49 requires langchain-core<0.2.0,>=0.1.7, but you have langchain-core 0.2.9 which is incompatible.\n",
      "langchain-community 0.0.13 requires langchain-core<0.2,>=0.1.9, but you have langchain-core 0.2.9 which is incompatible.\n",
      "langchain-community 0.0.13 requires langsmith<0.1.0,>=0.0.63, but you have langsmith 0.1.81 which is incompatible.\n",
      "\n",
      "[notice] A new release of pip available: 22.2.2 -> 24.0\n",
      "[notice] To update, run: python.exe -m pip install --upgrade pip\n"
     ]
    }
   ],
   "source": [
    "pip install langchain-chroma"
   ]
  },
  {
   "cell_type": "code",
   "execution_count": 26,
   "metadata": {},
   "outputs": [],
   "source": [
    "from langchain.vectorstores import Chroma"
   ]
  },
  {
   "cell_type": "code",
   "execution_count": 14,
   "metadata": {},
   "outputs": [
    {
     "ename": "ImportError",
     "evalue": "cannot import name 'Doc' from 'typing_extensions' (c:\\Users\\Luan Lima\\AppData\\Local\\Programs\\Python\\Python310\\lib\\site-packages\\typing_extensions.py)",
     "output_type": "error",
     "traceback": [
      "\u001b[1;31m---------------------------------------------------------------------------\u001b[0m",
      "\u001b[1;31mImportError\u001b[0m                               Traceback (most recent call last)",
      "Cell \u001b[1;32mIn[14], line 2\u001b[0m\n\u001b[0;32m      1\u001b[0m \u001b[38;5;66;03m# create vectorstore using Chromadb\u001b[39;00m\n\u001b[1;32m----> 2\u001b[0m \u001b[38;5;28;01mfrom\u001b[39;00m \u001b[38;5;21;01mlangchain_chroma\u001b[39;00m \u001b[38;5;28;01mimport\u001b[39;00m Chroma\n\u001b[0;32m      3\u001b[0m vectorstore \u001b[38;5;241m=\u001b[39m Chroma\u001b[38;5;241m.\u001b[39mfrom_documents(collection_name\u001b[38;5;241m=\u001b[39m\u001b[38;5;124m\"\u001b[39m\u001b[38;5;124msplit_parents\u001b[39m\u001b[38;5;124m\"\u001b[39m, \n\u001b[0;32m      4\u001b[0m embedding_function\u001b[38;5;241m=\u001b[39membeddings)\n",
      "File \u001b[1;32mc:\\Users\\Luan Lima\\AppData\\Local\\Programs\\Python\\Python310\\lib\\site-packages\\langchain_chroma\\__init__.py:1\u001b[0m\n\u001b[1;32m----> 1\u001b[0m \u001b[38;5;28;01mfrom\u001b[39;00m \u001b[38;5;21;01mlangchain_chroma\u001b[39;00m\u001b[38;5;21;01m.\u001b[39;00m\u001b[38;5;21;01mvectorstores\u001b[39;00m \u001b[38;5;28;01mimport\u001b[39;00m Chroma\n\u001b[0;32m      3\u001b[0m __all__ \u001b[38;5;241m=\u001b[39m [\n\u001b[0;32m      4\u001b[0m     \u001b[38;5;124m\"\u001b[39m\u001b[38;5;124mChroma\u001b[39m\u001b[38;5;124m\"\u001b[39m,\n\u001b[0;32m      5\u001b[0m ]\n",
      "File \u001b[1;32mc:\\Users\\Luan Lima\\AppData\\Local\\Programs\\Python\\Python310\\lib\\site-packages\\langchain_chroma\\vectorstores.py:19\u001b[0m\n\u001b[0;32m      5\u001b[0m \u001b[38;5;28;01mimport\u001b[39;00m \u001b[38;5;21;01muuid\u001b[39;00m\n\u001b[0;32m      6\u001b[0m \u001b[38;5;28;01mfrom\u001b[39;00m \u001b[38;5;21;01mtyping\u001b[39;00m \u001b[38;5;28;01mimport\u001b[39;00m (\n\u001b[0;32m      7\u001b[0m     TYPE_CHECKING,\n\u001b[0;32m      8\u001b[0m     Any,\n\u001b[1;32m   (...)\u001b[0m\n\u001b[0;32m     16\u001b[0m     Union,\n\u001b[0;32m     17\u001b[0m )\n\u001b[1;32m---> 19\u001b[0m \u001b[38;5;28;01mimport\u001b[39;00m \u001b[38;5;21;01mchromadb\u001b[39;00m\n\u001b[0;32m     20\u001b[0m \u001b[38;5;28;01mimport\u001b[39;00m \u001b[38;5;21;01mchromadb\u001b[39;00m\u001b[38;5;21;01m.\u001b[39;00m\u001b[38;5;21;01mconfig\u001b[39;00m\n\u001b[0;32m     21\u001b[0m \u001b[38;5;28;01mimport\u001b[39;00m \u001b[38;5;21;01mnumpy\u001b[39;00m \u001b[38;5;28;01mas\u001b[39;00m \u001b[38;5;21;01mnp\u001b[39;00m\n",
      "File \u001b[1;32mc:\\Users\\Luan Lima\\AppData\\Local\\Programs\\Python\\Python310\\lib\\site-packages\\chromadb\\__init__.py:6\u001b[0m\n\u001b[0;32m      4\u001b[0m \u001b[38;5;28;01mfrom\u001b[39;00m \u001b[38;5;21;01mchromadb\u001b[39;00m\u001b[38;5;21;01m.\u001b[39;00m\u001b[38;5;21;01mapi\u001b[39;00m\u001b[38;5;21;01m.\u001b[39;00m\u001b[38;5;21;01mclient\u001b[39;00m \u001b[38;5;28;01mimport\u001b[39;00m AdminClient \u001b[38;5;28;01mas\u001b[39;00m AdminClientCreator\n\u001b[0;32m      5\u001b[0m \u001b[38;5;28;01mfrom\u001b[39;00m \u001b[38;5;21;01mchromadb\u001b[39;00m\u001b[38;5;21;01m.\u001b[39;00m\u001b[38;5;21;01mapi\u001b[39;00m\u001b[38;5;21;01m.\u001b[39;00m\u001b[38;5;21;01masync_client\u001b[39;00m \u001b[38;5;28;01mimport\u001b[39;00m AsyncClient \u001b[38;5;28;01mas\u001b[39;00m AsyncClientCreator\n\u001b[1;32m----> 6\u001b[0m \u001b[38;5;28;01mfrom\u001b[39;00m \u001b[38;5;21;01mchromadb\u001b[39;00m\u001b[38;5;21;01m.\u001b[39;00m\u001b[38;5;21;01mauth\u001b[39;00m\u001b[38;5;21;01m.\u001b[39;00m\u001b[38;5;21;01mtoken_authn\u001b[39;00m \u001b[38;5;28;01mimport\u001b[39;00m TokenTransportHeader\n\u001b[0;32m      7\u001b[0m \u001b[38;5;28;01mimport\u001b[39;00m \u001b[38;5;21;01mchromadb\u001b[39;00m\u001b[38;5;21;01m.\u001b[39;00m\u001b[38;5;21;01mconfig\u001b[39;00m\n\u001b[0;32m      8\u001b[0m \u001b[38;5;28;01mfrom\u001b[39;00m \u001b[38;5;21;01mchromadb\u001b[39;00m\u001b[38;5;21;01m.\u001b[39;00m\u001b[38;5;21;01mconfig\u001b[39;00m \u001b[38;5;28;01mimport\u001b[39;00m DEFAULT_DATABASE, DEFAULT_TENANT, Settings\n",
      "File \u001b[1;32mc:\\Users\\Luan Lima\\AppData\\Local\\Programs\\Python\\Python310\\lib\\site-packages\\chromadb\\auth\\token_authn\\__init__.py:11\u001b[0m\n\u001b[0;32m      8\u001b[0m \u001b[38;5;28;01mfrom\u001b[39;00m \u001b[38;5;21;01mstarlette\u001b[39;00m\u001b[38;5;21;01m.\u001b[39;00m\u001b[38;5;21;01mdatastructures\u001b[39;00m \u001b[38;5;28;01mimport\u001b[39;00m Headers\n\u001b[0;32m      9\u001b[0m \u001b[38;5;28;01mfrom\u001b[39;00m \u001b[38;5;21;01mtyping\u001b[39;00m \u001b[38;5;28;01mimport\u001b[39;00m cast, Dict, List, Optional, TypedDict, TypeVar\n\u001b[1;32m---> 11\u001b[0m \u001b[38;5;28;01mfrom\u001b[39;00m \u001b[38;5;21;01mfastapi\u001b[39;00m \u001b[38;5;28;01mimport\u001b[39;00m HTTPException\n\u001b[0;32m     12\u001b[0m \u001b[38;5;28;01mfrom\u001b[39;00m \u001b[38;5;21;01moverrides\u001b[39;00m \u001b[38;5;28;01mimport\u001b[39;00m override\n\u001b[0;32m     13\u001b[0m \u001b[38;5;28;01mfrom\u001b[39;00m \u001b[38;5;21;01mpydantic\u001b[39;00m \u001b[38;5;28;01mimport\u001b[39;00m SecretStr\n",
      "File \u001b[1;32mc:\\Users\\Luan Lima\\AppData\\Local\\Programs\\Python\\Python310\\lib\\site-packages\\fastapi\\__init__.py:7\u001b[0m\n\u001b[0;32m      3\u001b[0m __version__ \u001b[38;5;241m=\u001b[39m \u001b[38;5;124m\"\u001b[39m\u001b[38;5;124m0.111.0\u001b[39m\u001b[38;5;124m\"\u001b[39m\n\u001b[0;32m      5\u001b[0m \u001b[38;5;28;01mfrom\u001b[39;00m \u001b[38;5;21;01mstarlette\u001b[39;00m \u001b[38;5;28;01mimport\u001b[39;00m status \u001b[38;5;28;01mas\u001b[39;00m status\n\u001b[1;32m----> 7\u001b[0m \u001b[38;5;28;01mfrom\u001b[39;00m \u001b[38;5;21;01m.\u001b[39;00m\u001b[38;5;21;01mapplications\u001b[39;00m \u001b[38;5;28;01mimport\u001b[39;00m FastAPI \u001b[38;5;28;01mas\u001b[39;00m FastAPI\n\u001b[0;32m      8\u001b[0m \u001b[38;5;28;01mfrom\u001b[39;00m \u001b[38;5;21;01m.\u001b[39;00m\u001b[38;5;21;01mbackground\u001b[39;00m \u001b[38;5;28;01mimport\u001b[39;00m BackgroundTasks \u001b[38;5;28;01mas\u001b[39;00m BackgroundTasks\n\u001b[0;32m      9\u001b[0m \u001b[38;5;28;01mfrom\u001b[39;00m \u001b[38;5;21;01m.\u001b[39;00m\u001b[38;5;21;01mdatastructures\u001b[39;00m \u001b[38;5;28;01mimport\u001b[39;00m UploadFile \u001b[38;5;28;01mas\u001b[39;00m UploadFile\n",
      "File \u001b[1;32mc:\\Users\\Luan Lima\\AppData\\Local\\Programs\\Python\\Python310\\lib\\site-packages\\fastapi\\applications.py:16\u001b[0m\n\u001b[0;32m      1\u001b[0m \u001b[38;5;28;01mfrom\u001b[39;00m \u001b[38;5;21;01menum\u001b[39;00m \u001b[38;5;28;01mimport\u001b[39;00m Enum\n\u001b[0;32m      2\u001b[0m \u001b[38;5;28;01mfrom\u001b[39;00m \u001b[38;5;21;01mtyping\u001b[39;00m \u001b[38;5;28;01mimport\u001b[39;00m (\n\u001b[0;32m      3\u001b[0m     Any,\n\u001b[0;32m      4\u001b[0m     Awaitable,\n\u001b[1;32m   (...)\u001b[0m\n\u001b[0;32m     13\u001b[0m     Union,\n\u001b[0;32m     14\u001b[0m )\n\u001b[1;32m---> 16\u001b[0m \u001b[38;5;28;01mfrom\u001b[39;00m \u001b[38;5;21;01mfastapi\u001b[39;00m \u001b[38;5;28;01mimport\u001b[39;00m routing\n\u001b[0;32m     17\u001b[0m \u001b[38;5;28;01mfrom\u001b[39;00m \u001b[38;5;21;01mfastapi\u001b[39;00m\u001b[38;5;21;01m.\u001b[39;00m\u001b[38;5;21;01mdatastructures\u001b[39;00m \u001b[38;5;28;01mimport\u001b[39;00m Default, DefaultPlaceholder\n\u001b[0;32m     18\u001b[0m \u001b[38;5;28;01mfrom\u001b[39;00m \u001b[38;5;21;01mfastapi\u001b[39;00m\u001b[38;5;21;01m.\u001b[39;00m\u001b[38;5;21;01mexception_handlers\u001b[39;00m \u001b[38;5;28;01mimport\u001b[39;00m (\n\u001b[0;32m     19\u001b[0m     http_exception_handler,\n\u001b[0;32m     20\u001b[0m     request_validation_exception_handler,\n\u001b[0;32m     21\u001b[0m     websocket_request_validation_exception_handler,\n\u001b[0;32m     22\u001b[0m )\n",
      "File \u001b[1;32mc:\\Users\\Luan Lima\\AppData\\Local\\Programs\\Python\\Python310\\lib\\site-packages\\fastapi\\routing.py:22\u001b[0m\n\u001b[0;32m      7\u001b[0m \u001b[38;5;28;01mfrom\u001b[39;00m \u001b[38;5;21;01menum\u001b[39;00m \u001b[38;5;28;01mimport\u001b[39;00m Enum, IntEnum\n\u001b[0;32m      8\u001b[0m \u001b[38;5;28;01mfrom\u001b[39;00m \u001b[38;5;21;01mtyping\u001b[39;00m \u001b[38;5;28;01mimport\u001b[39;00m (\n\u001b[0;32m      9\u001b[0m     Any,\n\u001b[0;32m     10\u001b[0m     Callable,\n\u001b[1;32m   (...)\u001b[0m\n\u001b[0;32m     19\u001b[0m     Union,\n\u001b[0;32m     20\u001b[0m )\n\u001b[1;32m---> 22\u001b[0m \u001b[38;5;28;01mfrom\u001b[39;00m \u001b[38;5;21;01mfastapi\u001b[39;00m \u001b[38;5;28;01mimport\u001b[39;00m params\n\u001b[0;32m     23\u001b[0m \u001b[38;5;28;01mfrom\u001b[39;00m \u001b[38;5;21;01mfastapi\u001b[39;00m\u001b[38;5;21;01m.\u001b[39;00m\u001b[38;5;21;01m_compat\u001b[39;00m \u001b[38;5;28;01mimport\u001b[39;00m (\n\u001b[0;32m     24\u001b[0m     ModelField,\n\u001b[0;32m     25\u001b[0m     Undefined,\n\u001b[1;32m   (...)\u001b[0m\n\u001b[0;32m     29\u001b[0m     lenient_issubclass,\n\u001b[0;32m     30\u001b[0m )\n\u001b[0;32m     31\u001b[0m \u001b[38;5;28;01mfrom\u001b[39;00m \u001b[38;5;21;01mfastapi\u001b[39;00m\u001b[38;5;21;01m.\u001b[39;00m\u001b[38;5;21;01mdatastructures\u001b[39;00m \u001b[38;5;28;01mimport\u001b[39;00m Default, DefaultPlaceholder\n",
      "File \u001b[1;32mc:\\Users\\Luan Lima\\AppData\\Local\\Programs\\Python\\Python310\\lib\\site-packages\\fastapi\\params.py:5\u001b[0m\n\u001b[0;32m      2\u001b[0m \u001b[38;5;28;01mfrom\u001b[39;00m \u001b[38;5;21;01menum\u001b[39;00m \u001b[38;5;28;01mimport\u001b[39;00m Enum\n\u001b[0;32m      3\u001b[0m \u001b[38;5;28;01mfrom\u001b[39;00m \u001b[38;5;21;01mtyping\u001b[39;00m \u001b[38;5;28;01mimport\u001b[39;00m Any, Callable, Dict, List, Optional, Sequence, Union\n\u001b[1;32m----> 5\u001b[0m \u001b[38;5;28;01mfrom\u001b[39;00m \u001b[38;5;21;01mfastapi\u001b[39;00m\u001b[38;5;21;01m.\u001b[39;00m\u001b[38;5;21;01mopenapi\u001b[39;00m\u001b[38;5;21;01m.\u001b[39;00m\u001b[38;5;21;01mmodels\u001b[39;00m \u001b[38;5;28;01mimport\u001b[39;00m Example\n\u001b[0;32m      6\u001b[0m \u001b[38;5;28;01mfrom\u001b[39;00m \u001b[38;5;21;01mpydantic\u001b[39;00m\u001b[38;5;21;01m.\u001b[39;00m\u001b[38;5;21;01mfields\u001b[39;00m \u001b[38;5;28;01mimport\u001b[39;00m FieldInfo\n\u001b[0;32m      7\u001b[0m \u001b[38;5;28;01mfrom\u001b[39;00m \u001b[38;5;21;01mtyping_extensions\u001b[39;00m \u001b[38;5;28;01mimport\u001b[39;00m Annotated, deprecated\n",
      "File \u001b[1;32mc:\\Users\\Luan Lima\\AppData\\Local\\Programs\\Python\\Python310\\lib\\site-packages\\fastapi\\openapi\\models.py:4\u001b[0m\n\u001b[0;32m      1\u001b[0m \u001b[38;5;28;01mfrom\u001b[39;00m \u001b[38;5;21;01menum\u001b[39;00m \u001b[38;5;28;01mimport\u001b[39;00m Enum\n\u001b[0;32m      2\u001b[0m \u001b[38;5;28;01mfrom\u001b[39;00m \u001b[38;5;21;01mtyping\u001b[39;00m \u001b[38;5;28;01mimport\u001b[39;00m Any, Callable, Dict, Iterable, List, Optional, Set, Type, Union\n\u001b[1;32m----> 4\u001b[0m \u001b[38;5;28;01mfrom\u001b[39;00m \u001b[38;5;21;01mfastapi\u001b[39;00m\u001b[38;5;21;01m.\u001b[39;00m\u001b[38;5;21;01m_compat\u001b[39;00m \u001b[38;5;28;01mimport\u001b[39;00m (\n\u001b[0;32m      5\u001b[0m     PYDANTIC_V2,\n\u001b[0;32m      6\u001b[0m     CoreSchema,\n\u001b[0;32m      7\u001b[0m     GetJsonSchemaHandler,\n\u001b[0;32m      8\u001b[0m     JsonSchemaValue,\n\u001b[0;32m      9\u001b[0m     _model_rebuild,\n\u001b[0;32m     10\u001b[0m     with_info_plain_validator_function,\n\u001b[0;32m     11\u001b[0m )\n\u001b[0;32m     12\u001b[0m \u001b[38;5;28;01mfrom\u001b[39;00m \u001b[38;5;21;01mfastapi\u001b[39;00m\u001b[38;5;21;01m.\u001b[39;00m\u001b[38;5;21;01mlogger\u001b[39;00m \u001b[38;5;28;01mimport\u001b[39;00m logger\n\u001b[0;32m     13\u001b[0m \u001b[38;5;28;01mfrom\u001b[39;00m \u001b[38;5;21;01mpydantic\u001b[39;00m \u001b[38;5;28;01mimport\u001b[39;00m AnyUrl, BaseModel, Field\n",
      "File \u001b[1;32mc:\\Users\\Luan Lima\\AppData\\Local\\Programs\\Python\\Python310\\lib\\site-packages\\fastapi\\_compat.py:20\u001b[0m\n\u001b[0;32m      4\u001b[0m \u001b[38;5;28;01mfrom\u001b[39;00m \u001b[38;5;21;01menum\u001b[39;00m \u001b[38;5;28;01mimport\u001b[39;00m Enum\n\u001b[0;32m      5\u001b[0m \u001b[38;5;28;01mfrom\u001b[39;00m \u001b[38;5;21;01mtyping\u001b[39;00m \u001b[38;5;28;01mimport\u001b[39;00m (\n\u001b[0;32m      6\u001b[0m     Any,\n\u001b[0;32m      7\u001b[0m     Callable,\n\u001b[1;32m   (...)\u001b[0m\n\u001b[0;32m     17\u001b[0m     Union,\n\u001b[0;32m     18\u001b[0m )\n\u001b[1;32m---> 20\u001b[0m \u001b[38;5;28;01mfrom\u001b[39;00m \u001b[38;5;21;01mfastapi\u001b[39;00m\u001b[38;5;21;01m.\u001b[39;00m\u001b[38;5;21;01mexceptions\u001b[39;00m \u001b[38;5;28;01mimport\u001b[39;00m RequestErrorModel\n\u001b[0;32m     21\u001b[0m \u001b[38;5;28;01mfrom\u001b[39;00m \u001b[38;5;21;01mfastapi\u001b[39;00m\u001b[38;5;21;01m.\u001b[39;00m\u001b[38;5;21;01mtypes\u001b[39;00m \u001b[38;5;28;01mimport\u001b[39;00m IncEx, ModelNameMap, UnionType\n\u001b[0;32m     22\u001b[0m \u001b[38;5;28;01mfrom\u001b[39;00m \u001b[38;5;21;01mpydantic\u001b[39;00m \u001b[38;5;28;01mimport\u001b[39;00m BaseModel, create_model\n",
      "File \u001b[1;32mc:\\Users\\Luan Lima\\AppData\\Local\\Programs\\Python\\Python310\\lib\\site-packages\\fastapi\\exceptions.py:6\u001b[0m\n\u001b[0;32m      4\u001b[0m \u001b[38;5;28;01mfrom\u001b[39;00m \u001b[38;5;21;01mstarlette\u001b[39;00m\u001b[38;5;21;01m.\u001b[39;00m\u001b[38;5;21;01mexceptions\u001b[39;00m \u001b[38;5;28;01mimport\u001b[39;00m HTTPException \u001b[38;5;28;01mas\u001b[39;00m StarletteHTTPException\n\u001b[0;32m      5\u001b[0m \u001b[38;5;28;01mfrom\u001b[39;00m \u001b[38;5;21;01mstarlette\u001b[39;00m\u001b[38;5;21;01m.\u001b[39;00m\u001b[38;5;21;01mexceptions\u001b[39;00m \u001b[38;5;28;01mimport\u001b[39;00m WebSocketException \u001b[38;5;28;01mas\u001b[39;00m StarletteWebSocketException\n\u001b[1;32m----> 6\u001b[0m \u001b[38;5;28;01mfrom\u001b[39;00m \u001b[38;5;21;01mtyping_extensions\u001b[39;00m \u001b[38;5;28;01mimport\u001b[39;00m Annotated, Doc\n\u001b[0;32m      9\u001b[0m \u001b[38;5;28;01mclass\u001b[39;00m \u001b[38;5;21;01mHTTPException\u001b[39;00m(StarletteHTTPException):\n\u001b[0;32m     10\u001b[0m \u001b[38;5;250m    \u001b[39m\u001b[38;5;124;03m\"\"\"\u001b[39;00m\n\u001b[0;32m     11\u001b[0m \u001b[38;5;124;03m    An HTTP exception you can raise in your own code to show errors to the client.\u001b[39;00m\n\u001b[0;32m     12\u001b[0m \n\u001b[1;32m   (...)\u001b[0m\n\u001b[0;32m     34\u001b[0m \u001b[38;5;124;03m    ```\u001b[39;00m\n\u001b[0;32m     35\u001b[0m \u001b[38;5;124;03m    \"\"\"\u001b[39;00m\n",
      "\u001b[1;31mImportError\u001b[0m: cannot import name 'Doc' from 'typing_extensions' (c:\\Users\\Luan Lima\\AppData\\Local\\Programs\\Python\\Python310\\lib\\site-packages\\typing_extensions.py)"
     ]
    }
   ],
   "source": [
    "# create vectorstore using Chromadb\n",
    "from langchain_chroma import Chroma\n",
    "vectorstore = Chroma.from_documents(split_parents,embeddings)"
   ]
  },
  {
   "cell_type": "code",
   "execution_count": 32,
   "metadata": {},
   "outputs": [
    {
     "data": {
      "text/plain": [
       "[Document(page_content='NATIONAL  CONSTITUTION  CENTER   \\n   \\n \\n \\n \\n \\n  \\n \\nTHE  \\nCONSTITUTION  \\nof the United  States', metadata={'source': 'constitution.pdf', 'page': 0}),\n",
       " Document(page_content='C O N S T I T U T I O N O F T H E U N I T E D S T A T E S   \\n \\n \\n \\nWe the People of the United States, in Order to form a \\nmore perfect Union, establish Justice, insure domestic \\nTranquility, provide for the common defence, promote \\nthe general  Welfare, and secure the Blessings of Liberty to \\nourselves  and our Posterity,  do ordain  and establish  this \\nConstitution for the United States of America  \\n \\n \\nArticle.   I. \\nSECTION.  1 \\nAll legislative Powers herein granted shall be vested in a \\nCongress of the United States, which shall consist of a Sen-  \\nate and House of Representatives. \\nSECTI ON. 2 \\nThe House of Representatives shall be composed of Mem-  \\nbers chosen every second Year by the People of the several States, and the Electors in each State shall have the Qualifi-  \\ncations requisite for Electors of the most numerous Branch \\nof the State Legislature.  \\nNo Person shall be a Representative who shall not have \\nattained to the Age of twenty five Years, and been seven \\nYears a Citizen of the United States, and who shal l not, \\nwhen elected, be an Inhabitant of that State in which he shall be chosen.  \\n[Representatives and direct Taxes shall be apportioned among the several States which may be included within  \\nthis Union, according to their respective Numbers, which \\nshall be determined by adding to the whole Number of  \\nfree Persons, including those bound to Service for a  Term \\nof Years, and excluding Indians not taxed, three fifths of  \\nall other Persons.]*  The actual Enumeration shall be made  within three Years after the first M eeting of the Congress  \\nof the United States, and within every subsequent  Term of \\nten Years, in such Manner as they shall by Law direct. The \\nNumber of Representatives shall not exceed one for every \\nthirty Thousand, but each State shall have at Least one \\nRepresentative; and until such enumeration shall be made, \\nthe State of New Hampshire shall be entitled to chuse  \\nthree, Massachusetts eight, Rhode -Island and Providence \\nPlantations one, Connecticut five, New -York six, New \\nJersey four, Pennsylvania eight, Delaw are one, Maryland  \\nsix, Virginia ten, North Carolina five, South Carolina five, \\nand Georgia three.  \\nWhen vacancies happen in the Representation from any \\nState, the Executive Authority thereof shall issue  Writs of \\nElection to fill such Vacancies.  \\nThe House of  Representatives shall chuse their \\nSpeaker and other Officers; and shall have the sole Power of Impeachment.  \\nSECTION.  3 \\nThe Senate of the United States shall be composed of two Senators from each State, [chosen by the Legislature there - \\nof,]* for six Years; and each Senator shall have one Vote.  \\nImmediately after they shall be assembled in Consequence of the first Election, they shall be divided as equally as may \\nbe into three Classes. The Seats of the Senators of the first \\nClass shall be vacated at the Expiration of the second Year, \\nof the second  Class  at the Expiration of the fourth Year, and \\nof the third Class at the Expiration of the sixth Year, so that \\none third may be chosen every second Year; [and if Vacan-  \\ncies happen by Resignation, or otherwise, during the Recess of the Legislature of any State, the Executive thereof may make temporary Appointments until the next Mee ting of  \\nthe Legislature, which shall then fill such Vacancies.]*', metadata={'source': 'constitution.pdf', 'page': 1}),\n",
       " Document(page_content='C O N S T I T U T I O N O F T H E U N I T E D S T A T E S  No Person shall be a Senator who shall not have attained  \\nto the Age of thirty  Years, and been nine Years  a Citizen  of \\nthe United States, and who shall not, when elected, be an \\nInhabitant of that State for which he shall be chosen  \\nThe Vice President of the United States shall be \\nPresident of the Senate, but shall have no Vote, unless \\nthey be equally divided.  \\nThe Senate  shall chuse  their other  Officers,  and also a \\nPresident pro tempore, in the Absence of the  Vice \\nPresident, or when he shall exercise the Office of \\nPresident of the United States  \\nThe Senate shall have the sole Power to try all Impeach-  \\nments. When sitting for that Purpose, they shall be on  \\nOath or Affirmation. When the President of the United \\nStates is tried, the Chief Justice shall preside: And no \\nPerson shall be convicted without the Concurrence of two thirds of the Members present.  \\nJudgment in Cases of Imp eachment shall not extend \\nfurther than to removal from Office, and disqualification to \\nhold and enjoy  any Office  of honor,  Trust  or Profit  under \\nthe United States: but the Party convicted shall nevertheless \\nbe liable and subject to Indictment,  Trial, Judgment and \\nPunishment, according to Law.  \\nSECTION.  4 \\nThe Times, Places and Manner of holding Elections for Senators and Representatives, shall be pre scribed in each \\nState by the Legislature thereof; but the Congress may at any time by Law make or alter such Regulations, except as \\nto the Places of chusing Senators. \\nThe Congress  shall assemble  at least once in every Year, and \\nsuch Meeting shall be [on the first Monday in December,]* \\nunless they shall by Law appoint a different Day. \\nSECTION.  5. \\nEach House shall be the Judge of the Elections, Returns \\nand Qualifications of its own Members, and a Majority  \\nof each shall constitute a Quorum to do Business; but a smaller Number  may adjourn  from  day to day, and may be \\nauthorized  to compel  the Attendance  of absent  Members, \\nin such Manner, and under such Penalties as each House may provide.\\n \\nEach House may determine the Rules of its Proceedings, \\npunish its Members for disorderly Behaviour, and, with the \\nConcurrence of two thirds, expel a Member.  Each House shall keep a Journal of its Proceedings, and \\nfrom  time to time publish the same,  excepting  such Parts \\nas may in their Judgment  require  Secrecy;  and the Yeas \\nand Nays of the Members of either House on any question \\nshall, at the Desire of one fift h of those Present, be entered \\non the Journal.  \\nNeither House, during the Session of Congress, shall, with-  \\nout the Consent of the other, adjourn for more than three \\ndays, nor to any other Place than that in which the two \\nHouses shall be sitting.  \\nSECTION.  6 \\nThe Senators and Representatives shall receive a Compen-  \\nsation for their Services, to be ascertained by Law, and paid \\nout of the Treasury of the United States. They shall in all \\nCases, except Treason, Felony and Breach of the Peace, be privileged from Arrest during their Attendance at the Ses - \\nsion of their respective Houses, and in going to and return-  \\ning from the same; and for any Speech or Debate in either House, they shall not be questioned in any other Place.  \\nNo Senator or Representative shall, duri ng the Time for \\nwhich he was elected, be appointed to any civil Office under the Authority of the United States, which shall have been created, or the Emoluments whereof shall have been \\nencreased during such time; and no Person holding any \\nOffice under the  United States, shall be a Member of either \\nHouse during his Continuance in Office.', metadata={'source': 'constitution.pdf', 'page': 2}),\n",
       " Document(page_content='C O N S T I T U T I O N O F T H E U N I T E D S T A T E S  SECTION.  7 \\nAll Bills for raising Revenue shall originate in the House of \\nRepresentatives; but the Senate may propose or concur with \\nAmendments as o n other Bills  \\nEvery Bill which shall have passed the House of Represen-  \\ntatives and the Senate, shall, before it become a Law, be \\npresented to the President of the United States; If he ap-  \\nprove he shall sign it, but if not he shall return it, with his \\nObjections to tha t House in which it shall have originated, \\nwho shall enter the Objections  at large on their Journal, \\nand proceed to reconsider it. If after such Reconsideration two thirds of that House shall agree to pass the Bill, it shall \\nbe sent, together with the Obje ctions, to the other House, \\nby which it shall likewise be reconsidered, and if approved  \\nby two thirds of that House, it shall become a Law. But in \\nall such Cases the  Votes of both Houses shall be determined \\nby Yeas and Nays, and the Names of the Persons vo ting for \\nand against the Bill shall be entered on the Journal of each \\nHouse respectively, If any Bill shall not be returned by the \\nPresident within ten Days (Sundays excepted) after it shall \\nhave been presented  to him, the Same  shall be a Law, in \\nlike Mann er as if he had signed it, unless the Congress by \\ntheir Adjournment  prevent its Return, in which Case it  shall \\nnot be a Law  \\nEvery Order, Resolution, or Vote to which the Concur-  \\nrence of the Senate and House of Representatives may be \\nnecessary (except on a question of Adjournment) shall be \\npresented to the President of the United States; and before the Same shall take Effect, shall be approved by him, or be - \\ning disapproved by him, shall be repassed by two thirds of the Senate and House of Representatives,  according to the \\nRules and Limitations prescribed in the Case of a Bill.  SECTION.  8 \\nThe Congress  shall have Power  To lay and collect  Taxes, \\nDuties,  Imposts  and Excises,  to pay the Debts and provide \\nfor the common Defence and general Welfare of the United \\nStates;  but all Duties,  Imposts and Excises  shall be uniform \\nthroughout the United States;  \\nTo borrow  Money  on the credit  of the United  States;  \\nTo regulate  Commerce  with foreign  Nations,  and among \\nthe several States, and with the Indian  Tribes;  \\nTo establish  an uniform  Rule of Naturalization,  and uni- \\nform Laws on the subject of Bankruptcies throughout the \\nUnited States;  \\nTo coin Money, regulate the  Value thereof, and of foreign \\nCoin, and fix the Standard of Weights and Measures;  \\nTo provide for the Punishment of counterfeiting the Securi - \\nties and current Coin of the United States; \\nTo establish  Post Offices  and post Roads;  \\nTo promote the Progress of Science and useful Arts, by \\nsecuring for limite d Times to Authors and Inventors the \\nexclusive Right to their respective Writings and Discoveries;  \\nTo constitute  Tribunals  inferior to the supreme  Court;  \\nTo define and punish Piracies and Felonies committed on \\nthe high Seas, and Offenses against the Law of Nations;  \\nTo declare War, grant Letters of Marque and Reprisal, and \\nmake Rules concerning Captures on Land and Water;  \\nTo raise and support Armies, but no Appropriation of Money to that Use shall be for a longer Term than two \\nYears;  \\nTo provide  and maintain  a Navy;  \\nTo make Rules for the Government and Regulation of the \\nland and naval Forces;  \\nTo provide for calling forth the Militia to execute the Laws \\nof the Union, suppress Insurrections and repel Invasions;  \\nTo provide for organizing, arming, and disciplining, the Militia, and for governing such Part of them as may be employed in the Service o f the United States, reserving to \\nthe States respectively, the Appointment of the Officers, \\nand the Authority of training the Militia according to the \\ndiscipline prescribed by Congress;', metadata={'source': 'constitution.pdf', 'page': 3}),\n",
       " Document(page_content='C O N S T I T U T I O N O F T H E U N I T E D S T A T E S  To exercise exclusive Legislation in all Case s whatsoever, \\nover such District (not exceeding  ten Miles  square)  as \\nmay, by Cession  of particular  States,  and the Acceptance \\nof Congress, become the Seat of the Government of the \\nUnited States, and to exercise like Authority over all Places \\npurchased by t he Consent of the Legislature of the State in \\nwhich the Same shall be, for the Erection of Forts, Maga - \\nzines, Arsenals, dock -Yards and other needful Buildings;  \\n-And \\nTo make all Laws which shall be necessary and proper for carrying into Execution the foregoing Powers, and all other \\nPowers vested by this Constitution in the Government of \\nthe United States, or in any Department or Officer thereof.  \\nSECTION.  9 \\nThe Migration or Importation of such Persons as any of the \\nStates now existing shall think proper to admit, shall not be \\nprohibited by the Congress prior to the Year one thousand \\neight hundred and eight, but a  Tax or duty may be imposed \\non such Importation, not exceed ing ten dollars for each \\nPerson  \\nThe Privilege of the Writ of Habeas Corpus shall not be \\nsuspended, unless when in Cases of Rebellion or Invasion the public Safety may require it.  \\nNo Bill of Attainder  or ex post facto  Law shall be passed.  \\n[No Capitation, or other direct, Tax shall be laid, unless in \\nProportion to the Census or Enumeration herein before \\ndirected to be taken.]*  \\nNo Tax or Duty shall be laid on Articles exported from any \\nState \\nNo Preference shall be given by any Regulation of Com - \\nmerce or Revenue to the Ports of one State over those of \\nanother: nor shall  Vessels bound to, or from, one State, be \\nobliged to enter, clear, or pay Duties in another.  \\nNo Money shall be drawn from the Treasury, but in Con-  \\nsequence of Appropriations made by Law; and a regular Statement and Account of the Receipts and Expenditures of \\nall public Money shall be published from time to time.  \\nNo Title of Nobility shall be granted by the United States: \\nAnd no Person holding  any Office  of Profit  or Trust  under \\nthem, shall, without the Consent of the Congress, accept  \\nof any present, Emolument, Office, or Title, of any kind whatever, from any King, Prince, or foreign State.  SECTION.  10 \\nNo State shall enter into any  Treaty, Alliance, or Confedera - \\ntion; grant Letters of Marque and Reprisal; coin Money; \\nemit Bills of Cre dit; make any Thing but gold and silver  \\nCoin a Tender in Payment of Debts; pass any Bill of At - \\ntainder, ex post facto Law, or Law impairing the Obligation of Contracts, or grant any Title of Nobility.  \\nNo State  shall,  without  the Consent  of the Congress, lay \\nany Imposts or Duties on Imports or Exports, except what \\nmay be absolutely necessary for executing it’s inspection Laws: and the net Produce of all Duties and Imposts, laid\\n \\nby any State on Imports or Exports, shall be for the Use of the Treasury of the United States; and all such Laws shall be \\nsubject to the Revision and Controul of the Congress.  \\nNo State shall, without the Consent of Congress, lay any Duty of  Tonnage, keep Troops, or Ships of War in time of \\nPeace, enter into any Agreement or Compact wit h another \\nState, or with a foreign Power, or engage in War, unless \\nactually invaded, or in such imminent Danger as will not \\nadmit of delay.', metadata={'source': 'constitution.pdf', 'page': 4}),\n",
       " Document(page_content='C O N S T I T U T I O N O F T H E U N I T E D S T A T E S  Article.   II. \\nSECTION.  1 \\nThe executive Power shall be vested in a President of the \\nUnited S tates of America. He shall hold his Office during \\nthe Term of four Years, and, together with the  Vice Presi - \\ndent, chosen for the same Term, be elected, as follows: \\nEach State shall appoint, in such Manner as the Legislature \\nthereof may direct, a Number of Electors, equal to the  \\nwhole Number of Senators and Representatives to which the State may be entitled in the Congress: but no Senator or \\nRepresentative,  or Person holding  an Office  of Trust  or Prof- \\nit under the United States, shall be appointed an Elector.  \\n[The Electors shall meet in their respective States, and vote by Ballot for two Persons, of whom one at least shall not  \\nbe an Inhabitant of the same State with themselves. And \\nthey shall make a List of all the Persons voted for, and of  \\nthe Number of Votes for each; which List they shall sign and certify, and transmit sealed to the Seat of the Govern-  \\nment of the United States, directed to the President of the \\nSenate. The  President  of the Senate  shall,  in the Presence \\nof the Senate and House of Representativ es, open all the \\nCertificates, and the Votes shall then be counted. The \\nPerson having the greatest Number of Votes shall be the \\nPresident, if such Number be a Majority of the whole \\nNumber of Electors appointed; and if there be more than \\none who have such M ajority, and have an equal Number of \\nVotes, then the House of Representatives shall immediately chuse by Ballot one of them for President; and if no Person \\nhave a Majority,  then from  the five highest  on the List \\nthe said House shall in like Manner chuse th e President.  \\nBut in chusing the President,  the Votes  shall be taken  by \\nStates, the Representation from each State having one Vote; A quorum for this Purpose shall consist of a Member or Members from two thirds of the States, and a Majority of\\n \\nall the States shall be necessary to a Choice. In every Case, after the Choice of the President, the Person having the greatest Number of Votes of the Electors shall be the Vice \\nPresident. But if there should remain two or more who \\nhave equal Votes, the Senate shall chuse from them by Bal - \\nlot the Vice President.]*   \\n \\n \\n \\n \\nThe Congress may determine the  Time of chusing the \\nElectors,  and the Day on which  they shall give their Votes; \\nwhich Day shall be the same  throughout  the United States.  \\nNo Person except a natural born Citizen, or a Citizen \\nof the United  States,  at the time of the Adoption  of this \\nConstitution,  shall be eligible  to the Office  of President;  \\nneither shall any person be eligible to that Office who shall \\nnot have attained to the Age of thirty five Years, and been \\nfourteen Years a Resident within the United States  \\nIn Case of the Removal of the President from Office, or of \\nhis Death, Resignation, or Inability to discharge the Powers \\nand Duties of the said Office, the Same shall devolve on the Vice President, and the Congress may by Law provide for \\nthe Case of Removal, Death, Resignation or Inability, both \\nof the President and V ice President, declaring what Officer \\nshall then act as President, and such Officer shall act ac - \\ncordingly, until the Disability be removed, or a President shall be elected.]*  \\nThe President shall, at stated  Times, receive for his Services, \\na Compensation, which shall neither be increased nor \\ndiminished during the Period for which he shall have been \\nelected, and he shall not receive within that Period any\\n \\nother Emolument from the United States, or any of them.  \\nBefore he enter on the Execution of his Office, he shall \\ntake the following Oath or Affirmation: - “I do solemnly \\nswear (or affirm) that I will faithfully execute the Office of \\nPresident of the United States, and will to the best of my Ability, preserve, protect and defend the Constitution of \\nthe United  States.”', metadata={'source': 'constitution.pdf', 'page': 5}),\n",
       " Document(page_content='C O N S T I T U T I O N O F T H E U N I T E D S T A T E S  SECTION.  2 \\nThe President shall be Commander in Chief of the Army \\nand Navy of the United States, and of the Militia of the \\nseveral States, when called into the actual Service of the \\nUnited States; he may require the Opinion, in writing, of  \\nthe principal Officer in eac h of the executive Departments, \\nupon any Subject relating to the Duties of their respective \\nOffices, and he shall have Power to grant Reprieves and \\nPardons for Offenses against the United States, except in \\nCases of Impeachment.  \\nHe shall have Power, by and with the Advice and Consent  \\nof the Senate, to make Treaties, provided two thirds of the Senators present concur; and he shall nominate, and by and \\nwith the Advice and Consent of the Senate, shall appoint \\nAmbassadors, other public  Ministers  and Consuls, Judges \\nof the supreme Court, and all other Officers of the United \\nStates, whose Appointments are not herein otherwise \\nprovided  for, and which shall be established  by Law: but \\nthe Congress may by Law vest the Appointment of such in-  \\nferior Officers, as they think proper, in the President alone, in the Courts of Law, or in the Heads of Departments.  \\nThe President shall have Power to fill up all Vacancies \\nthat may happen during the Recess of the Senate, by \\ngranting Commissions which shall expire at the End of \\ntheir next Session  SECTION.  3 \\nHe shall from time to time give to the Congress Informa - \\ntion of the State of the Union, and recommend to their \\nConsideration such Measures  as he shall judge  neces - \\nsary and expedient; he may, on extraordinary Occasions, \\nconvene both Houses, or either of them, and in Case of \\nDisagreement between them, with Respect to the Time of \\nAdjournment, he may adjourn them to such Time as he  \\nshall think proper; he shall receive Ambassadors and other \\npublic Ministers; he shall take Care that t he Laws be faith - \\nfully executed, and shall Commission all the Officers of the \\nUnited States  \\nSECTION.  4 \\nThe President, Vice President and all civil Officers of the \\nUnited States, shall be removed from Office on Impeach-  \\nment for, and Conviction of, Treason, Bribery, or other \\nhigh Crimes and Misdemeanors.', metadata={'source': 'constitution.pdf', 'page': 6}),\n",
       " Document(page_content='C O N S T I T U T I O N O F T H E U N I T E D S T A T E S  Article.   III.  \\nSECTION.  1 \\nThe judicial  Power  of the United States,  shall be vested \\nin one supreme Court, and in such inferior Courts as the \\nCongress  may from  time to time ordain  and establish.  The \\nJudges, both of the supreme  and inferior  Courts,  shall hold \\ntheir Offices  during  good  Behaviour,  and shall at stated \\nTimes,  receive for their Services,  a Compensation,  which  \\nshall not be diminished  during  their Continuance  in Office.  \\n \\nSECTION.  2 \\nThe judicial Power shall extend to all Cases, in Law and \\nEquity, arising under this Constitution, the Laws of the \\nUnited States, and Treaties made, or which shall be made, \\nunder their Authority; -  to all Cases affecting Ambassa-  \\ndors, other public Ministers and Consuls; -  to all Cases of \\nadmiralty and maritime Jurisdiction; -  to Controversies to \\nwhich the United States shall be a Party; -  to Controversies \\nbetween two or more States; -  [between a State and Citizens \\nof another State;- ]* between Citizens of di fferent States,  \\n- between  Citizens  of the same  State  claiming  Lands under \\nGrants  of different  States,  [and between  a State,  or the Citi- \\nzens thereof; - and foreign States, Citizens or Subjects.]*  \\nIn all Cases affecting Ambassadors, other public Ministers \\nand Consuls,  and those  in which  a State  shall be Party,  the \\nsupreme Court shall have original Jurisdiction. In all the \\nother Cases before mentioned, the supreme Court shall \\nhave appellate  Jurisdict ion, both as to Law and Fact,  with \\nsuch Exceptions,  and under  such Regulations  as the Con-  \\ngress shall make.  \\nThe Trial  of all Crimes,  except  in Cases  of Impeachment; \\nshall be by Jury; and such Trial shall be held in the State \\nwhere  the said Crimes  shall have been committed;  but when \\nnot committed within any State, the  Trial shall be at such \\nPlace  or Places  as the Congress  may by Law have directed.   \\n \\n \\nSECTION.  3 \\nTreason against the United States, shall consist only in levy - \\ning War against them, or in adhering to their Enemies, giv - \\ning them Aid and Comfort. No Person shall be convicted  \\nof Treason unless on the  Testimony of two Witnesses to the \\nsame overt Act, or on Confession in open Court.  \\nThe Congress shall have Power to declare the Punishment \\nof Treason, but no Attainder of  Treason shall work Corrup-  \\ntion of Blood, or Forfeiture except during the Life of the Person attainted', metadata={'source': 'constitution.pdf', 'page': 7}),\n",
       " Document(page_content='C O N S T I T U T I O N O F T H E U N I T E D S T A T E S  Article.   IV. \\nSECTION.  1 \\nFull Faith and Credit shall be given in each State to the \\npublic Acts, Records, and judicial Proceedings of every oth-  \\ner State. And the Congress may by general Laws prescribe \\nthe Manner in which such Acts, Records and Proceedings \\nshall be proved, and the Effect thereof.  \\nSECTION.  2 \\nThe Citizens  of each State  shall be entitled  to all Privileges \\nand Immunities of Citizens in the several States  \\nA Person  charged  in any State  with Treason,  Felony,  or \\nother  Crime,  who shall flee from  Justice,  and be found  in \\nanother  State,  shall on Demand  of the executive  Author - \\nity of the State  from  which he fled, be delivered  up, to be \\nremoved to the State having Jurisdiction of the Crime.  \\nNo Person held to Service or Labour in one State, under \\nthe Laws thereof, escaping into another, shall, in Conse - \\nquence of any Law or Regulation therein, be discharged  \\nfrom such Service or Labour, but shall be delivered up on Claim of the Party to whom such Service or Labour may be \\ndue.]*  \\nSECTION.  3 \\nNew States may be admitted by the Congress into this \\nUnion; but no new State shall be formed or erected within the Ju risdiction of any other State; nor any State be formed \\nby the Junction of two or more States, or Parts of States, without the Consent of the Legislatures of the States con-  \\ncerned as well as of the Congress. \\nThe Congress shall have Power to dispose of and make all \\nneedful Rules and Regulations respecting the Territory or \\nother Property belonging to the United States; and nothing \\nin this Constitution shall be so construed as to Prejudice  \\nany Claims of the United States, or of any particular State.  \\nSECTION.  4 \\nThe United States shall guarantee to every State in this  \\nUnion a Republican Form of Government, and shall  \\nprotect each of them against Invasion; and on Application of the Legislature, or of the Executive (when the Legislature \\ncannot be convened) against d omestic Violence.  Article.   V. \\nThe Congress, whenever two thirds of both Houses shall \\ndeem it necessary, shall propose Amendments to this Con-  \\nstitution, or, on the Application of the Legislatures of two \\nthirds of the several States, shall call a Conventi on for pro-  \\nposing Amendments, which in either Case, shall be valid to \\nall Intents and Purposes, as Part of this Constitution, when \\nratified by the Legislatures of three -fourths of the several \\nStates, or by Conventions in three fourths thereof, as the  \\none or the other Mode of Ratification may be proposed by \\nthe Congress; Provided that no Amendment which may be made prior to the Year One thousand eight hundred and \\neight shall in any Manner affect the first and fourth Clauses \\nin the Ninth Section of the first  Article; and that no State, \\nwithout its Consent, shall be deprived of its equal Suffrage  \\nin the Senate', metadata={'source': 'constitution.pdf', 'page': 8}),\n",
       " Document(page_content='C O N S T I T U T I O N O F T H E U N I T E D S T A T E S  Article.   VI.  \\nAll Debts contracted and Engagements entered into, before \\nthe Adoption of this Constitution, shall be as valid against \\nthe United States under this Constitution, as under the \\nConfederation  \\nThis Constitution, and the Laws of the United States \\nwhich  shall be made  in Pursuance  thereof;  and all Treaties \\nmade,  or which shall be made,  under  the Authority  of the \\nUnited  States,  shall be the supreme  Law of the Land;  and \\nthe Judges  in every  State  shall be bound  thereby,  any Thing \\nin the Constitution or Laws of any State to the Contrary \\nnotwithstanding.  \\nThe Senators and Representatives before mentioned, and  \\nthe Members of the several State Legislatures, and all execu - \\ntive and judicial Officers, both of the United States and of the several  States,  shall be bound  by Oath  or Affirmation, \\nto support this Constitution; but no religious  Test shall ever \\nbe required as a Qualification to any Office or public Trust \\nunder the United States  Article.   VII.  \\nThe Ratification of the Conventions of nine States, shall be sufficient for the Establishment of this Constitution \\nbetween the States so ratifying the Same.  \\nDone in Convention by the Unanimous Consent of the \\nStates present the Seventeenth Day of September in the \\nYear of our Lord one thousand seven hundred and Eighty \\nseven and of the Independence of the United States of \\nAmerica the Twelfth In  Witness whereof  We have hereunto \\nsubscribed our Names,  \\nGo. Washington --Presidt: \\nand deputy  from  Virginia  \\nNEW  HAMPSHIRE  \\nJohn Langdon Nicholas  Gilman\\n \\nMASSACHUSETTS \\nNathaniel Gorham \\nRufus King  \\nCONNECTICUT  \\nWm.  Saml.  Johnson \\nRoger Sherman  \\nNEW  YORK  \\nAlexander  Hamilton  \\nNEW  JERSEY  \\nWil: Livingston \\nDavid  Brearley \\nWm. Paterson \\nJona: Dayton  \\nPENNSYLVANIA  \\nB Franklin \\nThomas Mifflin \\nRobt Morris  \\nGeo. Clymer \\nThos. FitzSimons \\nJared Ingersoll \\nJames Wilson \\nGouv Morris', metadata={'source': 'constitution.pdf', 'page': 9}),\n",
       " Document(page_content='C O N S T I T U T I O N O F T H E U N I T E D S T A T E S  DELAWARE  \\nGeo:  Read \\nGunning Bedford  jun \\nJohn Dickinson \\nRichard Bassett  \\nJaco: Broom  \\nMARYLAND  \\nJames  McHenry  \\nDan of St. Thos.  Jenifer \\nDanl Carroll  \\nVIRGINIA  \\nJohn Blair - \\nJames  Madison  Jr. \\nNORTH  CAROLINA  \\nWm.  Blount  \\nRichd.  Dobbs  Spaight \\nHu Williamson  \\nSOUTH  CAROLINA  \\nJ. Rutledge  \\nCharles  Cotesworth  Pinckney \\nCharles Pinckney  \\nPierce Butler  \\nGEORGIA  \\nWilliam  Few \\nAbr Baldwin  \\n \\nAttest  William  Jackson Secretary  In Convention Monday \\nSeptember 17th, 1787. \\nPresent  \\nThe States  of \\nNew  Hampshire,  Massachusetts,  Connecticut,  Mr. Ham - \\nilton from  New York, New Jersey, Pennsylvania, Delaware, \\nMaryland, Virginia, North Carolina, South Carolina and Georgia.\\n \\nResolved,  \\nThat the preceeding Constitution be laid before the United \\nStates  in Congress  assembled,  and that it is the Opinion \\nof this Convention, that it should afterwards be submitted  \\nto a Convention of Delegates, chosen in each State by the \\nPeople thereof, under the Recommendation of its Legisla - \\nture, for their Assent and Ratification; and that each Con-  \\nvention assenting to, and ratifying the Same, should give Notice thereof to the United S tates in Congress assembled. \\nResolved, That  it is the Opinion of this Convention, that \\nas soon as the Conventions of nine States shall have ratified this Constitution, the United States in Congress assembled \\nshould fix a Day on which Electors should be appointed by \\nthe States which shall have ratified the same, and a Day on which the Electors should assemble to vote for the Presi - \\ndent, and the  Time and Place for commencing Proceedings \\nunder this Constitution  \\nThat after such Publication the Electors should be ap-  \\npointed, and the Senators and Representatives elected: That the Electors should meet on the Day fixed for the Election \\nof the President, and should transmit their Votes certified, \\nsigned, sealed and directed, as the Constitution requires, to the Secretary of the United States in Congress assembled, \\nthat the Senators and Representatives should convene at the Time  and Place  assigned;  that the Senators  should  appoint \\na President of the Senate, for the sole  Purpose of receiving, \\nopening and counting the Votes for President; and, that  \\nafter he shall be chosen, the Congress, together with the President, should, without Delay, proceed to execute this \\nConstitution  \\nBy the unanimous  Order of the Convention  \\nGo. Washington- Presidt:  \\nW. JACKSON  Secretary.  \\n \\n* Language  in brackets  has been changed  by amendment.', metadata={'source': 'constitution.pdf', 'page': 10}),\n",
       " Document(page_content='C O N S T I T U T I O N O F T H E U N I T E D S T A T E S  THE AMENDMENTS TO THE CONSTITUTION OF \\nTHE  UNITED  STATES  AS RATIFIED  BY THE  STATES  \\n \\n \\nPreamble to the \\nBill  of  Rights  \\nCongress  of the United  States  \\nbegun  and held at the City of New -York,  on \\nWednesday the fourth of March,  \\n \\n \\nTHE Conventions of a number of the  States, having at \\nthe time of their adopting  the Constitution, expressed \\na desire, in order to prevent misconstruction or abuse  \\nof its powers, that further declaratory and restrictive \\nclauses should be added: And as extending the ground  \\nof public confidence in the Government, will best \\nensure the beneficent ends of it s institution  \\n \\nRESOLVED by the Senate and House of Representatives of the United States of America,  \\nin Congress assembled, two thirds of both Houses  \\nconcurring, that the following Articles be proposed to the Legislatures  of the several  States,  as amendment s \\nto the Constitution of the United States, all, or any of which Articles, when ratified by three fourths of the said Legislatures, to be valid to all intents and purposes, as \\npart of the said Constitution; viz.  \\n \\nARTICLES in addition to, and Amendment of t he \\nConstitution of the United States of America, proposed \\nby Congress, and ratified by the Legislatures of the \\nseveral States, pursuant to the fifth Article of the  \\noriginal Constitution.  \\n \\n(Note:  The first 10 amendments  to the Constitution  were \\nratified  December  15, 1791, and form what is known  as \\nthe “Bill of Rights.”)  Amendment   I. \\nCongress shall make no law respecting an establishment of \\nreligion, or prohibiting the free exercise thereof; or abridg - \\ning the freedom  of speech,  or of the press, or the right \\nof the people peaceably to assemble, and to petition the \\nGovernment for a redress of grievances.  \\nAmendment   II. \\nA well regulated  Militia,  being  necessary to the security  of \\na free State,  the right of the people  to keep and bear Arms, \\nshall not be infringed.  \\nAmendment   III. \\nNo Soldier shall, in time of peace be quartered in any house, without the consent of the Owner, nor in time of war, but in a manner to be prescribed by law. \\nAmendment   IV. \\nThe right of the people to be secure i n their persons, hous - \\nes, papers, and effects, against unreasonable searches and seizures, shall not be violated, and no Warrants shall issue, \\nbut upon probable cause, supported by Oath or affirma - \\ntion, and particularly describing the place to be searche d, \\nand the persons or things to be seized. \\nAmendment   V. \\nNo person shall be held to answer for a capital, or otherwise \\ninfamous  crime,  unless  on a presentment  or indictment  of \\na Grand Jury, except in cases arising in the land or naval \\nforces, or in the Mil itia, when in actual service in time of  \\nWar or public danger; nor shall any person be subject for \\nthe same offence to be twice put in jeopardy of life or limb; \\nnor shall be compelled in any criminal case to be a witness \\nagainst himself, nor be deprived of life, liberty, or property, \\nwithout due process of law; nor shall private property be \\ntaken for public use, without just compensation.', metadata={'source': 'constitution.pdf', 'page': 11}),\n",
       " Document(page_content='C O N S T I T U T I O N O F T H E U N I T E D S T A T E S  Amendment   VI. \\nIn all criminal prosecutions, the accused shall enjoy the  \\nright to a speedy and public  trial, by an impartial jury of \\nthe State and district wherein the crime shall have been \\ncommitted, which district shall have been previously ascertained by law, and to be informed of the nature and \\ncause of the accusation; to be confronted with the witnesses \\nagainst him; to have comp ulsory process for obtaining wit - \\nnesses in his favor, and to have the Assistance of Counsel  \\nfor his defence. \\nAmendment   VII. \\nIn suits at common  law, where  the value  in controversy \\nshall exceed twenty dollars, the right of trial by jury shall be \\npreserved, and no fact tried by a jury shall be otherwise re - \\nexamined in any Court of the United States, than according \\nto the rules of the common law.  \\nAmendment   VIII.  \\nExcessive bail shall not be required, nor excessive fines \\nimposed, nor cruel  and unusual  punishm ents inflicted.  \\nAmendment   IX. \\nThe enumeration in the Constitution, of certain rights, \\nshall not be construed to deny or disparage others retained \\nby the people.  \\nAmendment   X. \\nThe powers not delegated to the United States by the Con-  \\nstitution, nor prohibited by it to the States, are reserved to the States respectively, or to the people.  \\n \\nAMENDMENTS  11-27 \\n \\nAmendment   XI. \\nPassed  by Congress  March  4, 1794.  Ratified  February  7, 1795.  \\n(Note:  A portion  of Article  III, Section  2 of the Constitution  was \\nmodified by the 11th Amendment.)  \\nThe Judicial power of the United  States  shall not be construed \\nto extend to any suit in law or equity, commenced or pros - \\necuted  against one of the United  States  by Citizens  of another \\nState, or by Citizens or Subjects of any Foreign State.  Amendment   XII. \\nPassed  by Congress  December  9, 1803.  Ratified  June 15, 1804.  \\n(Note: A portion of Article II, Section 1 of the Constitution was \\nchanged by the 12th Amendment.)  \\nThe Electors shall meet in their respective states, and vote \\nby ballot for President  and Vice-President, one of whom, \\nat least, shall not be an inhabitant of the same state with \\nthemselves; they shall name in their ballots the person voted \\nfor as President, and in distinct  ballots  the person voted \\nfor as Vice-President, and they shall make  distinct lists of \\nall persons v oted for as President, and of all persons voted \\nfor as Vice -President, and of the number of votes for each, \\nwhich lists they shall sign and certify,  and transmit  sealed \\nto the seat of the government of the United States, directed \\nto the President of the Senate;- the President of the Senate \\nshall, in the presence of the Senate and House of Represen-  \\ntatives, open all the certificates and the votes shall then be count ed;-The person having the greatest number of votes  \\nfor President, shall be the President, if such number be a majority of the whole number of Electors appointed; and if \\nno person have such majority, then from the persons having the highest numbers not exce eding three on the list of those \\nvoted for as President, the House of Representatives shall choose immediately, by ballot, the President. But in choos - \\ning the President, the votes shall be taken by states, the \\nrepresentation from each state having one vot e; a quorum  \\nfor this purpose shall consist of a member or members from \\ntwo-thirds of the states, and a majority of all the states shall \\nbe necessary to a choice. [And if the House of Representa - \\ntives shall not choose a President whenever the right of \\nchoice shall devolve upon them, before the fourth day of \\nMarch next following, then the Vice -President shall act as \\nPresident, as in case of the death or other constitutional \\ndisability of the President. -]* The person having the greatest \\nnumber of votes as Vic e-President, shall be the Vice -Presi - \\ndent, if such number be a majority  of the whole  number', metadata={'source': 'constitution.pdf', 'page': 12}),\n",
       " Document(page_content='disability of the President. -]* The person having the greatest \\nnumber of votes as Vic e-President, shall be the Vice -Presi - \\ndent, if such number be a majority  of the whole  number \\nof Electors appointed, and if no person have a majority, \\nthen from the two highest numbers on the list, the Senate shall choose the Vice -President; a quorum for the purpose \\nshall consist of two- thirds of the whole number of Senators, \\nand a majority  of the whole  number shall be necessary to \\na choice. But no person constitutionally ineligible to the \\noffice of President shall be eligible to that of Vice -President \\nof the United States.  \\n*Superseded  by Section  3 of the 20th Amendment.', metadata={'source': 'constitution.pdf', 'page': 12}),\n",
       " Document(page_content='C O N S T I T U T I O N O F T H E U N I T E D S T A T E S  Amendment   XIII. \\nPassed  by Congress  January  31, 1865.  Ratified  December  6, \\n1865.  \\n(Note:  A portion  of Article  IV, Section  2 of the Constitution  \\nwas changed by the 13th Amendment.)  \\nSECTION  1 \\nNeither slavery nor involuntary servitude, except as a \\npunishment for crime whereof the party shall have been \\nduly convicted,  shall exist within  the United  States,  or any \\nplace subject to their jurisdiction.  \\nSECTION  2 \\nCongress shall have power to enforce t his article by \\nappropriate legislation.  \\nAmendment   XIV. \\nPassed by  Congress  June 13, 1866.  Ratified  July 9, 1868.  \\n(Note:  Article  I, Section  2 of the Constitution  was modified  by \\nSection 2 of the 14th Amendment.)  \\n \\nSECTION  1 \\nAll persons born or naturalized in the United States and \\nsubject  to the jurisdiction  thereof,  are citizens  of the United \\nStates and of the State wherein they reside. No State shall \\nmake  or enforce  any law which  shall abridge  the privileges \\nor immunities of citizens of the United States; nor shall \\nany State deprive any person of life, liberty, or property, \\nwithout  due process  of law; nor deny  to any person  within \\nits jurisdiction the equal protection of the laws.  SECTION  2 \\nRepresentatives shall be apportioned among the several \\nStates according to their respective numbers, counting the \\nwhole number of persons in each State, excluding Indians \\nnot taxed.  But when the right to vote at any election  for \\nthe choice of electors for President and Vice President of  \\nthe United States, Representatives in Congress, the Execu - \\ntive and Judicial officers of a State, or the members of the \\nLegislature thereof, is denied to any of the male inhabit - \\nants of such State, [being twenty -one years of age,]* and \\ncitizens of the United States, or in any way abridged, except \\nfor participation in rebellion, or other crime, the basis of \\nrepresentation therein shall be reduced in the proportion \\nwhich the number of such male citizens shall bear to the \\nwhole  number of male citizens twenty- one years of age in \\nsuch State.  \\nSECTION  3 \\nNo person shall be a Senator or Representative in Con-  \\ngress, or elector of President and Vice President, or hold  \\nany office, civil or military, under the United States, or \\nunder any State, who, having previously taken an oath, as a member of Congress, or as an officer of the United States, \\nor as a member of any State legislature, or as an executive  \\nor judicial officer of any State, to support the Constitution \\nof the United States, shall have engaged in insurrection or \\nrebellion against the same, or given a id or comfort to the \\nenemies thereof. But Congress may by a vote of two- thirds \\nof each House, remove such disability.  \\nSECTION  4 \\nThe validity of the public debt of the United States, au - \\nthorized by law, including debts incurred for payment of \\npensions and bounties for services in suppressing insurrec - \\ntion or rebellion, shall not be questioned. But neither the \\nUnited  States  nor any State  shall assume  or pay any debt \\nor obligation incurred in aid of insurrection or rebellion \\nagainst the United States, or any  claim for the loss or eman-  \\ncipation of any slave; but all such debts, obligations and \\nclaims shall be held illegal and void.  \\nSECTION  5 \\n \\nThe Congress shall have the power to enforce, by appropri - \\nate legislation, the provisions of this article.  \\n*Changed  by Section  1 of the 26th Amendment.', metadata={'source': 'constitution.pdf', 'page': 13}),\n",
       " Document(page_content='C O N S T I T U T I O N O F T H E U N I T E D S T A T E S  Amendment   XV. \\nPassed  by Congress February  26, 1869.  Ratified  February  3, 1870.  \\n \\nSECTION  1 \\nThe right of citizens  of the United  States  to vote shall not be \\ndenied  or abridged  by the United  States  or by any State  on \\naccount  of race, color,  or previous  condition  of servitude.  \\nSECTION  2 \\nThe Congress shall have the power to enforce this article by \\nappropriate legislation.  \\nAmendment   XVI. \\nPassed  by Congress  July 2, 1909.  Ratified February  3, 1913.  \\n(Note:  Article  I, Section  9 of the Constitution  was modified  by \\nthe 16  h Amendment.)  \\nThe Congress shall have power to lay and collect taxes on incomes, from whatever source derived, without apportion-  \\nment among the several States, and without regard to any \\ncensus or enumeration.  \\nAmendment   XVII. \\nPassed  by Congress  May 13, 1912.  Ratified  April  8, 1913.  \\n(Note:  Article  I, Section  3 of the Constitution  was modified  by \\nthe 17th Amendment.)  \\nThe Senate of the United States shall be composed of two \\nSenators from each State, elected by the people thereof, for \\nsix years; and each Senator shall have one vote. The electors \\nin each State shall have the qualifications requisite for elec - \\ntors of the most numerous branch of the State legislatures.  \\nWhen vacancies happen in the representation of any State  \\nin the Senate, the executive authority of such State shall \\nissue writs of election to fill such vacancies: Provided,  That \\nthe legislature of any State may empower the executive \\nthereof to make temporary appointments until the people \\nfill the vacancies by election as the legislature may direct.  \\nThis amendment  shall not be so construed  as to affect  the \\nelection  or term of any Senator  chosen  before  it becomes \\nvalid as part of the Constitution.  Amendment   XVIII. \\nPassed  by Congress  December  18, 1917.  Ratified  January  16, \\n1919.  Repealed  by the 21 Amendment,  December  5, 1933.  \\n \\nSECTION  1 \\nAfter one year from the ratification of this article the \\nmanufacture, sale, or transportation of intoxicating liquors \\nwithin, the importation thereof into, or the exportation \\nthereof from the United States and all territory subject to \\nthe jurisdiction thereof for beverage purposes is hereby prohibited.  \\nSECTION  2 \\nThe Congress and the several States shall have concurrent power to enforce this article by appropriate legislation.  \\nSECTION  3 \\nThis article shall be inoperative unless it shall have been ratified as an amendment to the Constitution by the legisla - \\ntures of the several States, as provided in the Constitution, \\nwithin seven years from the date of the submission hereof  \\nto the States by the Congress.  \\nAmendment   XIX. \\nPassed  by Congress  June 4, 1919.  Ratified  August  18, 1920.  \\nThe right of citizens of the United States to vote shall not \\nbe denied or abridged by the United States or by any State on account of sex. \\nCongress shall have power to enforce this article by appro-  \\npriate legislation.', metadata={'source': 'constitution.pdf', 'page': 14}),\n",
       " Document(page_content='C O N S T I T U T I O N O F T H E U N I T E D S T A T E S  Amendment   XX . \\nPassed  by Congress  March  2, 1932.  Ratified  January  23, 1933.  \\n(Note: Article I, Section 4 of the Constitution was modified \\nby Section  2 of this Amendment.  In addition,  a portion  of the \\n12th Amendment was superseded by Section 3.)  \\nSECTION  1 \\nThe terms of the President and the Vice President shall end at noon on the 20th day of January, and the terms of Sena - \\ntors and Representatives at noon on the 3d day of January, \\nof the years in whi ch such terms would have ended if this \\narticle had not been ratified; and the terms of their succes - \\nsors shall then begin.  \\nSECTION  2 \\nThe Congress shall assemble at least once in every year, and \\nsuch meeting shall begin at noon on the 3d day of January, \\nunless they shall by law appoint a different day.  \\nSECTION  3 \\nIf, at the time fixed for the beginning of the term of the President, the President elect shall have died, the Vice Presi - \\ndent elect shall become President. If a President shall not \\nhave been chose n before the time fixed for the beginning of \\nhis term, or if the President elect shall have failed to qualify, then the Vice President elect shall act as President until a \\nPresident shall have qualified; and the Congress may by law provide for the case whe rein neither a President elect nor a \\nVice President shall have qualified, declaring who shall then act as President, or the manner in which one who is to act shall be selected, and such person shall act accordingly until  \\na President or Vice President shall  have qualified.  SECTION  4 \\nThe Congress may by law provide for the case of the death \\nof any of the persons  from  whom  the House  of Representa - \\ntives may choose a President whenever the right of choice \\nshall have devolved upon them, and for the case of the  \\ndeath of any of the persons from whom the Senate may \\nchoose a Vice President whenever the right of choice shall \\nhave devolved upon them.  \\nSECTION  5 \\nSections  1 and 2 shall take effect  on the 15th day of Octo - \\nber following the ratification of this article.  \\nSECTION  6 \\nThis article shall be inoperative unless it shall have been \\nratified as an amendment to the Constitution by the leg - \\nislatures  of three -fourths  of the several  States  within  seven \\nyears from the date of its submission.  \\nAmendment   XX I. \\nPassed  by Congress  February  20, 1933.  Ratified  December  5, \\n933. \\n \\nSECTION  1 \\nThe eighteenth  article  of amendment  to the Constitution \\nof the United States is hereby repealed.  \\nSECTION  2 \\nThe transportation or importation into any State, Territory, or possession of the United States for delivery or use therein of intoxicating liquors, in violation of the laws thereof, is hereby prohibited.  \\nSECTION  3 \\nThis article shall be inoperative unless it shall have been \\nratified as an amendment to the Constitution by conven-  \\ntions in the several States, as provided in the Constitution, \\nwithin seven years from the date of the submission hereof to the States by the Congress.', metadata={'source': 'constitution.pdf', 'page': 15}),\n",
       " Document(page_content='C O N S T I T U T I O N O F T H E U N I T E D S T A T E S  Amend ment   XX II. \\nPassed  by Congress  March  21, 1947.  Ratified  February  27, \\n951. \\n \\nSECTION  1 \\nNo person shall be elected to the office of the President \\nmore than twice, and no person who has held the office of \\nPresident, or acted as President, for more than two years of  \\na term to which some other person was elected President \\nshall be elected to the office of President more than once. \\nBut this Article shall not apply to any person holding the \\noffice of President when this Article was proposed by Con-  \\ngress, and shall not prevent any person who may be holding the office of President, or acting as Pres ident, during the \\nterm within which this Article becomes operative from \\nholding the office of President or acting as President during \\nthe remainder of such term.  \\nSECTION  2 \\nThis article shall be inoperative unless it shall have been \\nratified as an amendment to the Constitution by the leg - \\nislatures  of three -fourths  of the several  States  within  seven \\nyears from the date of its submission to the States by the Congress.  Amendment   XX III. \\nPassed  by Congress  June 16, 1960.  Ratified  March  29, 1961.  \\n \\nSECTION  1 \\nThe District constituting the seat of Government of the United States shall appoint in such manner as Congress may direct:  \\nA number of electors of President and  Vice President equal \\nto the whole number of Senators and Representatives  \\nin Congress to which the District would be entitled if it \\nwere a State, but in no event more than the least populous \\nState; they shall be in addition to those appointed by the \\nStates, but they shall  be considered, for the purposes of  \\nthe election of President and Vice President, to be electors appointed by a State; and they shall meet in the District  \\nand perform such duties as provided by the twelfth article of amendment.  \\nSECTION  2 \\nThe Congress shall  have power to enforce this article by \\nappropriate legislation.  \\nAmendment   XX IV. \\nPassed by Congress August  27, 1962. Ratified  January 23, 1964.  \\n \\nSECTION  1 \\nThe right of citizens of the United States to vote in any pri - \\nmary or other election for President or Vice President, for \\nelectors for President or Vice President, or for Senator or \\nRepresentative in Congress, shall not be denied or abridged \\nby the United  States or any State by reason of failure to pay \\npoll tax or other tax.  \\nSECTION  2 \\nThe Congress shall have power to enforce this article by \\nappropriate legislation.', metadata={'source': 'constitution.pdf', 'page': 16}),\n",
       " Document(page_content='7 C O N S T I T U T I O N O F T H E U N I T E D S T A T E S  Amendment   XX V. \\nPassed by Congress July 6, 1965. Ratified February 10, 1967. \\n(Note: Article II, Section 1 of the Constitution was modified by \\nthe 25th Amendment.)  \\nSECTION  1 \\nIn case of the removal of the President from office or of \\nhis death or resignation, the Vice Presid ent shall become \\nPresident.  \\nSECTION  2 \\nWhenever there is a vacancy in the office of the Vice Presi - \\ndent, the President shall nominate a Vice President who \\nshall take office upon confirmation by a majority vote of \\nboth Houses of Congress.  \\nSECTION  3 \\nWhenever  the President transmits to the President pro \\ntempore of the Senate and the Speaker of the House of \\nRepresentatives  his written  declaration  that he is unable \\nto discharge the powers and duties of his office, and until \\nhe transmits to them a written declara tion to the contrary, \\nsuch powers and duties shall be discharged by the Vice President as Acting President.  \\nSECTION  4 \\nWhenever the Vice President and a majority of either the principal officers of the executive departments or of such other body as Congress may by law provide, transmit to the President pro tempore of the Senate and the Speaker of the \\nHouse of Representativ es their written declaration that the \\nPresident is unable to discharge the powers and duties of\\n \\nhis office, the Vice President shall immediately assume the \\npowers and duties of the office as Acting President.  Thereafter, when the President transmits to the President  \\npro tempore of the Senate and the Speaker of the House of \\nRepresentatives his written declaration that no inability ex - \\nists, he shall resume the powers and duties of his office un-  \\nless the Vice Pr esident and a majority of either the principal \\nofficers of the executive department or of such other body  \\nas Congress may by law provide, transmit within four days  \\nto the President pro tempore of the Senate and the Speaker \\nof the House of Representatives t heir written declaration  \\nthat the President is unable to discharge the powers and \\nduties of his office. Thereupon Congress shall decide the \\nissue,  assembling  within  forty-eight  hours  for that purpose \\nif not in session. If the Congress, within twenty -one da ys \\nafter receipt of the latter written declaration, or, if Congress  \\nis not in session, within twenty -one days after Congress is \\nrequired to assemble, determines by two -thirds vote of both \\nHouses that the President is unable to discharge the powers and duti es of his office, the Vice President shall continue to \\ndischarge the same as Acting President; otherwise, the Presi - \\ndent shall resume the powers and duties of his office.  \\nAmendment   XX VI. \\nPassed  by Congress  March  23, 1971.  Ratified  July 1, 1971.  \\n(Note:  Amendment  14, Section  2 of the Constitution  was \\nmodified by Section 1 of the 26th Amendment.)  \\nSECTION  1 \\nThe right of citizens of the United States, who are eighteen years of age or older, to vote shall not be denied or abridged by the United States or by any State on account of age.  \\nSECTION  2 \\nThe Congress shall have power to enforce this article by appropriate legislation.  \\nAmendment   XX VII. \\nOriginally  proposed  Sept.  25, 1789.  Ratified  May 7, 1992.  \\nNo law, varying the compensation for the services of the \\nSenators and Representatives, shall take effect, until an elec - \\ntion of representatives shall have intervened.', metadata={'source': 'constitution.pdf', 'page': 17}),\n",
       " Document(page_content='T  \\n  \\n \\n   \\n \\n   \\n \\n   \\n \\n   \\n \\n   \\n \\n   \\n \\n \\n \\n \\n \\nhe NCC is an independent, \\nnon-partisan, nonprofit \\norganization that was established  \\nin 1988 under the Constitution Heritage \\nAct. The Center’s mission is to increase \\nawareness and understanding of the \\nConstitution, the Constitution’s history \\nand its relevance to people’s daily lives.  \\n \\n \\n \\n \\n \\n \\nNational Constitution Center \\n525 Arch Street Independence Mall \\nPhiladelphia, PA  19106 \\n \\n(215)  409-6600  \\nwww.constitutioncenter.org', metadata={'source': 'constitution.pdf', 'page': 18})]"
      ]
     },
     "execution_count": 32,
     "metadata": {},
     "output_type": "execute_result"
    }
   ],
   "source": [
    "text "
   ]
  },
  {
   "cell_type": "code",
   "execution_count": 15,
   "metadata": {},
   "outputs": [
    {
     "data": {
      "application/vnd.jupyter.widget-view+json": {
       "model_id": "2b142299f32e42ed925b35f99a91c3f2",
       "version_major": 2,
       "version_minor": 0
      },
      "text/plain": [
       "modules.json:   0%|          | 0.00/349 [00:00<?, ?B/s]"
      ]
     },
     "metadata": {},
     "output_type": "display_data"
    },
    {
     "name": "stderr",
     "output_type": "stream",
     "text": [
      "c:\\Users\\Luan Lima\\AppData\\Local\\Programs\\Python\\Python310\\lib\\site-packages\\huggingface_hub\\file_download.py:149: UserWarning: `huggingface_hub` cache-system uses symlinks by default to efficiently store duplicated files but your machine does not support them in C:\\Users\\Luan Lima\\.cache\\huggingface\\hub\\models--BAAI--bge-small-en-v1.5. Caching files will still work but in a degraded version that might require more space on your disk. This warning can be disabled by setting the `HF_HUB_DISABLE_SYMLINKS_WARNING` environment variable. For more details, see https://huggingface.co/docs/huggingface_hub/how-to-cache#limitations.\n",
      "To support symlinks on Windows, you either need to activate Developer Mode or to run Python as an administrator. In order to see activate developer mode, see this article: https://docs.microsoft.com/en-us/windows/apps/get-started/enable-your-device-for-development\n",
      "  warnings.warn(message)\n"
     ]
    },
    {
     "data": {
      "application/vnd.jupyter.widget-view+json": {
       "model_id": "8c243e7f22bf4c70aafa39f81aa3b8dd",
       "version_major": 2,
       "version_minor": 0
      },
      "text/plain": [
       "config_sentence_transformers.json:   0%|          | 0.00/124 [00:00<?, ?B/s]"
      ]
     },
     "metadata": {},
     "output_type": "display_data"
    },
    {
     "data": {
      "application/vnd.jupyter.widget-view+json": {
       "model_id": "b11d61274cb24d91bac07b42de86df71",
       "version_major": 2,
       "version_minor": 0
      },
      "text/plain": [
       "README.md:   0%|          | 0.00/94.8k [00:00<?, ?B/s]"
      ]
     },
     "metadata": {},
     "output_type": "display_data"
    },
    {
     "data": {
      "application/vnd.jupyter.widget-view+json": {
       "model_id": "bb7348a1909a442fa6baeaa0c19d2be8",
       "version_major": 2,
       "version_minor": 0
      },
      "text/plain": [
       "sentence_bert_config.json:   0%|          | 0.00/52.0 [00:00<?, ?B/s]"
      ]
     },
     "metadata": {},
     "output_type": "display_data"
    },
    {
     "data": {
      "application/vnd.jupyter.widget-view+json": {
       "model_id": "aaa4cb646722466a8a441eab279595d7",
       "version_major": 2,
       "version_minor": 0
      },
      "text/plain": [
       "config.json:   0%|          | 0.00/743 [00:00<?, ?B/s]"
      ]
     },
     "metadata": {},
     "output_type": "display_data"
    },
    {
     "data": {
      "application/vnd.jupyter.widget-view+json": {
       "model_id": "ed1141eafc4446b6b706809725395035",
       "version_major": 2,
       "version_minor": 0
      },
      "text/plain": [
       "model.safetensors:   0%|          | 0.00/133M [00:00<?, ?B/s]"
      ]
     },
     "metadata": {},
     "output_type": "display_data"
    },
    {
     "data": {
      "application/vnd.jupyter.widget-view+json": {
       "model_id": "afb5ad73c966442383ea2157369f750d",
       "version_major": 2,
       "version_minor": 0
      },
      "text/plain": [
       "tokenizer_config.json:   0%|          | 0.00/366 [00:00<?, ?B/s]"
      ]
     },
     "metadata": {},
     "output_type": "display_data"
    },
    {
     "data": {
      "application/vnd.jupyter.widget-view+json": {
       "model_id": "8371c00e72c44f9f8ec844bea8b0b37b",
       "version_major": 2,
       "version_minor": 0
      },
      "text/plain": [
       "vocab.txt:   0%|          | 0.00/232k [00:00<?, ?B/s]"
      ]
     },
     "metadata": {},
     "output_type": "display_data"
    },
    {
     "data": {
      "application/vnd.jupyter.widget-view+json": {
       "model_id": "1c848fe4336048ab9cd8a4f408426dd1",
       "version_major": 2,
       "version_minor": 0
      },
      "text/plain": [
       "tokenizer.json:   0%|          | 0.00/711k [00:00<?, ?B/s]"
      ]
     },
     "metadata": {},
     "output_type": "display_data"
    },
    {
     "data": {
      "application/vnd.jupyter.widget-view+json": {
       "model_id": "dacfc855d17b4b2b994053d61890ebc3",
       "version_major": 2,
       "version_minor": 0
      },
      "text/plain": [
       "special_tokens_map.json:   0%|          | 0.00/125 [00:00<?, ?B/s]"
      ]
     },
     "metadata": {},
     "output_type": "display_data"
    },
    {
     "data": {
      "application/vnd.jupyter.widget-view+json": {
       "model_id": "c07737f54b644213bfe78bb4b4a7cd24",
       "version_major": 2,
       "version_minor": 0
      },
      "text/plain": [
       "1_Pooling/config.json:   0%|          | 0.00/190 [00:00<?, ?B/s]"
      ]
     },
     "metadata": {},
     "output_type": "display_data"
    }
   ],
   "source": [
    "# Load embedding model\n",
    "embeddings = HuggingFaceEmbeddings(model_name=\"BAAI/bge-small-en-v1.5\", \n",
    "encode_kwargs={\"normalize_embeddings\": True})"
   ]
  },
  {
   "cell_type": "code",
   "execution_count": 33,
   "metadata": {},
   "outputs": [],
   "source": [
    "# Create a vectorstore\n",
    "vectorstore = FAISS.from_documents(text, embeddings)\n",
    "\n",
    "# Save the documents and embeddings\n",
    "vectorstore.save_local(\"vectorstore.db\")"
   ]
  },
  {
   "cell_type": "code",
   "execution_count": 35,
   "metadata": {},
   "outputs": [],
   "source": [
    "retriever = vectorstore.as_retriever()"
   ]
  },
  {
   "cell_type": "code",
   "execution_count": 48,
   "metadata": {},
   "outputs": [],
   "source": [
    "# Load the llm \n",
    "llm = ChatOpenAI(model_name=\"gpt-3.5-turbo\")\n",
    "\n",
    "# Define prompt template\n",
    "template = \"\"\"\n",
    "You are an assistant for question-answering tasks.\n",
    "Use the provided context only to answer the following question:\n",
    "\n",
    "<context>\n",
    "{context}\n",
    "</context>\n",
    "\n",
    "Question: {input}\n",
    "\"\"\"\n",
    "\n",
    "# Create a prompt template\n",
    "prompt = ChatPromptTemplate.from_template(template)\n",
    "\n"
   ]
  },
  {
   "cell_type": "code",
   "execution_count": 19,
   "metadata": {},
   "outputs": [
    {
     "name": "stdout",
     "output_type": "stream",
     "text": [
      "Requirement already satisfied: langchain_chroma in c:\\users\\luan lima\\appdata\\local\\programs\\python\\python310\\lib\\site-packages (0.1.1)\n",
      "Requirement already satisfied: numpy<2,>=1 in c:\\users\\luan lima\\appdata\\local\\programs\\python\\python310\\lib\\site-packages (from langchain_chroma) (1.25.1)\n",
      "Requirement already satisfied: fastapi<1,>=0.95.2 in c:\\users\\luan lima\\appdata\\local\\programs\\python\\python310\\lib\\site-packages (from langchain_chroma) (0.111.0)\n",
      "Requirement already satisfied: chromadb<0.6.0,>=0.4.0 in c:\\users\\luan lima\\appdata\\local\\programs\\python\\python310\\lib\\site-packages (from langchain_chroma) (0.5.3)\n",
      "Requirement already satisfied: langchain-core<0.3,>=0.1.40 in c:\\users\\luan lima\\appdata\\local\\programs\\python\\python310\\lib\\site-packages (from langchain_chroma) (0.2.9)\n",
      "Requirement already satisfied: tokenizers>=0.13.2 in c:\\users\\luan lima\\appdata\\local\\programs\\python\\python310\\lib\\site-packages (from chromadb<0.6.0,>=0.4.0->langchain_chroma) (0.15.1)\n",
      "Requirement already satisfied: mmh3>=4.0.1 in c:\\users\\luan lima\\appdata\\local\\programs\\python\\python310\\lib\\site-packages (from chromadb<0.6.0,>=0.4.0->langchain_chroma) (4.1.0)\n",
      "Requirement already satisfied: tenacity>=8.2.3 in c:\\users\\luan lima\\appdata\\local\\programs\\python\\python310\\lib\\site-packages (from chromadb<0.6.0,>=0.4.0->langchain_chroma) (8.2.3)\n",
      "Requirement already satisfied: importlib-resources in c:\\users\\luan lima\\appdata\\local\\programs\\python\\python310\\lib\\site-packages (from chromadb<0.6.0,>=0.4.0->langchain_chroma) (6.4.0)\n",
      "Requirement already satisfied: bcrypt>=4.0.1 in c:\\users\\luan lima\\appdata\\local\\programs\\python\\python310\\lib\\site-packages (from chromadb<0.6.0,>=0.4.0->langchain_chroma) (4.1.3)\n",
      "Requirement already satisfied: chroma-hnswlib==0.7.3 in c:\\users\\luan lima\\appdata\\local\\programs\\python\\python310\\lib\\site-packages (from chromadb<0.6.0,>=0.4.0->langchain_chroma) (0.7.3)\n",
      "Requirement already satisfied: kubernetes>=28.1.0 in c:\\users\\luan lima\\appdata\\local\\programs\\python\\python310\\lib\\site-packages (from chromadb<0.6.0,>=0.4.0->langchain_chroma) (30.1.0)\n",
      "Requirement already satisfied: httpx>=0.27.0 in c:\\users\\luan lima\\appdata\\local\\programs\\python\\python310\\lib\\site-packages (from chromadb<0.6.0,>=0.4.0->langchain_chroma) (0.27.0)\n",
      "Requirement already satisfied: typing-extensions>=4.5.0 in c:\\users\\luan lima\\appdata\\local\\programs\\python\\python310\\lib\\site-packages (from chromadb<0.6.0,>=0.4.0->langchain_chroma) (4.12.2)\n",
      "Requirement already satisfied: opentelemetry-instrumentation-fastapi>=0.41b0 in c:\\users\\luan lima\\appdata\\local\\programs\\python\\python310\\lib\\site-packages (from chromadb<0.6.0,>=0.4.0->langchain_chroma) (0.46b0)\n",
      "Requirement already satisfied: opentelemetry-exporter-otlp-proto-grpc>=1.2.0 in c:\\users\\luan lima\\appdata\\local\\programs\\python\\python310\\lib\\site-packages (from chromadb<0.6.0,>=0.4.0->langchain_chroma) (1.25.0)\n",
      "Requirement already satisfied: pydantic>=1.9 in c:\\users\\luan lima\\appdata\\local\\programs\\python\\python310\\lib\\site-packages (from chromadb<0.6.0,>=0.4.0->langchain_chroma) (1.10.14)\n",
      "Requirement already satisfied: requests>=2.28 in c:\\users\\luan lima\\appdata\\local\\programs\\python\\python310\\lib\\site-packages (from chromadb<0.6.0,>=0.4.0->langchain_chroma) (2.31.0)\n",
      "Requirement already satisfied: overrides>=7.3.1 in c:\\users\\luan lima\\appdata\\local\\programs\\python\\python310\\lib\\site-packages (from chromadb<0.6.0,>=0.4.0->langchain_chroma) (7.4.0)\n",
      "Requirement already satisfied: onnxruntime>=1.14.1 in c:\\users\\luan lima\\appdata\\local\\programs\\python\\python310\\lib\\site-packages (from chromadb<0.6.0,>=0.4.0->langchain_chroma) (1.18.0)\n",
      "Requirement already satisfied: opentelemetry-sdk>=1.2.0 in c:\\users\\luan lima\\appdata\\local\\programs\\python\\python310\\lib\\site-packages (from chromadb<0.6.0,>=0.4.0->langchain_chroma) (1.25.0)\n",
      "Requirement already satisfied: tqdm>=4.65.0 in c:\\users\\luan lima\\appdata\\local\\programs\\python\\python310\\lib\\site-packages (from chromadb<0.6.0,>=0.4.0->langchain_chroma) (4.66.1)\n",
      "Requirement already satisfied: orjson>=3.9.12 in c:\\users\\luan lima\\appdata\\local\\programs\\python\\python310\\lib\\site-packages (from chromadb<0.6.0,>=0.4.0->langchain_chroma) (3.10.5)\n",
      "Requirement already satisfied: grpcio>=1.58.0 in c:\\users\\luan lima\\appdata\\local\\programs\\python\\python310\\lib\\site-packages (from chromadb<0.6.0,>=0.4.0->langchain_chroma) (1.60.0)\n",
      "Requirement already satisfied: pypika>=0.48.9 in c:\\users\\luan lima\\appdata\\local\\programs\\python\\python310\\lib\\site-packages (from chromadb<0.6.0,>=0.4.0->langchain_chroma) (0.48.9)\n",
      "Requirement already satisfied: uvicorn[standard]>=0.18.3 in c:\\users\\luan lima\\appdata\\local\\programs\\python\\python310\\lib\\site-packages (from chromadb<0.6.0,>=0.4.0->langchain_chroma) (0.30.1)\n",
      "Requirement already satisfied: build>=1.0.3 in c:\\users\\luan lima\\appdata\\local\\programs\\python\\python310\\lib\\site-packages (from chromadb<0.6.0,>=0.4.0->langchain_chroma) (1.2.1)\n",
      "Requirement already satisfied: typer>=0.9.0 in c:\\users\\luan lima\\appdata\\local\\programs\\python\\python310\\lib\\site-packages (from chromadb<0.6.0,>=0.4.0->langchain_chroma) (0.12.3)\n",
      "Requirement already satisfied: posthog>=2.4.0 in c:\\users\\luan lima\\appdata\\local\\programs\\python\\python310\\lib\\site-packages (from chromadb<0.6.0,>=0.4.0->langchain_chroma) (3.5.0)\n",
      "Requirement already satisfied: opentelemetry-api>=1.2.0 in c:\\users\\luan lima\\appdata\\local\\programs\\python\\python310\\lib\\site-packages (from chromadb<0.6.0,>=0.4.0->langchain_chroma) (1.25.0)\n",
      "Requirement already satisfied: PyYAML>=6.0.0 in c:\\users\\luan lima\\appdata\\local\\programs\\python\\python310\\lib\\site-packages (from chromadb<0.6.0,>=0.4.0->langchain_chroma) (6.0.1)\n",
      "Requirement already satisfied: fastapi-cli>=0.0.2 in c:\\users\\luan lima\\appdata\\local\\programs\\python\\python310\\lib\\site-packages (from fastapi<1,>=0.95.2->langchain_chroma) (0.0.4)\n",
      "Requirement already satisfied: ujson!=4.0.2,!=4.1.0,!=4.2.0,!=4.3.0,!=5.0.0,!=5.1.0,>=4.0.1 in c:\\users\\luan lima\\appdata\\local\\programs\\python\\python310\\lib\\site-packages (from fastapi<1,>=0.95.2->langchain_chroma) (5.10.0)\n",
      "Requirement already satisfied: email_validator>=2.0.0 in c:\\users\\luan lima\\appdata\\local\\programs\\python\\python310\\lib\\site-packages (from fastapi<1,>=0.95.2->langchain_chroma) (2.2.0)\n",
      "Requirement already satisfied: jinja2>=2.11.2 in c:\\users\\luan lima\\appdata\\local\\programs\\python\\python310\\lib\\site-packages (from fastapi<1,>=0.95.2->langchain_chroma) (3.1.2)\n",
      "Requirement already satisfied: python-multipart>=0.0.7 in c:\\users\\luan lima\\appdata\\local\\programs\\python\\python310\\lib\\site-packages (from fastapi<1,>=0.95.2->langchain_chroma) (0.0.9)\n",
      "Requirement already satisfied: starlette<0.38.0,>=0.37.2 in c:\\users\\luan lima\\appdata\\local\\programs\\python\\python310\\lib\\site-packages (from fastapi<1,>=0.95.2->langchain_chroma) (0.37.2)\n",
      "Requirement already satisfied: packaging<25,>=23.2 in c:\\users\\luan lima\\appdata\\local\\programs\\python\\python310\\lib\\site-packages (from langchain-core<0.3,>=0.1.40->langchain_chroma) (23.2)\n",
      "Requirement already satisfied: langsmith<0.2.0,>=0.1.75 in c:\\users\\luan lima\\appdata\\local\\programs\\python\\python310\\lib\\site-packages (from langchain-core<0.3,>=0.1.40->langchain_chroma) (0.1.81)\n",
      "Requirement already satisfied: jsonpatch<2.0,>=1.33 in c:\\users\\luan lima\\appdata\\local\\programs\\python\\python310\\lib\\site-packages (from langchain-core<0.3,>=0.1.40->langchain_chroma) (1.33)\n",
      "Requirement already satisfied: pyproject_hooks in c:\\users\\luan lima\\appdata\\local\\programs\\python\\python310\\lib\\site-packages (from build>=1.0.3->chromadb<0.6.0,>=0.4.0->langchain_chroma) (1.1.0)\n",
      "Requirement already satisfied: tomli>=1.1.0 in c:\\users\\luan lima\\appdata\\local\\programs\\python\\python310\\lib\\site-packages (from build>=1.0.3->chromadb<0.6.0,>=0.4.0->langchain_chroma) (2.0.1)\n",
      "Requirement already satisfied: colorama in c:\\users\\luan lima\\appdata\\roaming\\python\\python310\\site-packages (from build>=1.0.3->chromadb<0.6.0,>=0.4.0->langchain_chroma) (0.4.6)\n",
      "Requirement already satisfied: idna>=2.0.0 in c:\\users\\luan lima\\appdata\\local\\programs\\python\\python310\\lib\\site-packages (from email_validator>=2.0.0->fastapi<1,>=0.95.2->langchain_chroma) (3.4)\n",
      "Requirement already satisfied: dnspython>=2.0.0 in c:\\users\\luan lima\\appdata\\local\\programs\\python\\python310\\lib\\site-packages (from email_validator>=2.0.0->fastapi<1,>=0.95.2->langchain_chroma) (2.6.1)\n",
      "Requirement already satisfied: certifi in c:\\users\\luan lima\\appdata\\local\\programs\\python\\python310\\lib\\site-packages (from httpx>=0.27.0->chromadb<0.6.0,>=0.4.0->langchain_chroma) (2023.7.22)\n",
      "Requirement already satisfied: httpcore==1.* in c:\\users\\luan lima\\appdata\\local\\programs\\python\\python310\\lib\\site-packages (from httpx>=0.27.0->chromadb<0.6.0,>=0.4.0->langchain_chroma) (1.0.2)\n",
      "Requirement already satisfied: sniffio in c:\\users\\luan lima\\appdata\\local\\programs\\python\\python310\\lib\\site-packages (from httpx>=0.27.0->chromadb<0.6.0,>=0.4.0->langchain_chroma) (1.3.0)\n",
      "Requirement already satisfied: anyio in c:\\users\\luan lima\\appdata\\local\\programs\\python\\python310\\lib\\site-packages (from httpx>=0.27.0->chromadb<0.6.0,>=0.4.0->langchain_chroma) (4.0.0)\n",
      "Requirement already satisfied: h11<0.15,>=0.13 in c:\\users\\luan lima\\appdata\\local\\programs\\python\\python310\\lib\\site-packages (from httpcore==1.*->httpx>=0.27.0->chromadb<0.6.0,>=0.4.0->langchain_chroma) (0.14.0)\n",
      "Requirement already satisfied: MarkupSafe>=2.0 in c:\\users\\luan lima\\appdata\\local\\programs\\python\\python310\\lib\\site-packages (from jinja2>=2.11.2->fastapi<1,>=0.95.2->langchain_chroma) (2.1.3)\n",
      "Requirement already satisfied: jsonpointer>=1.9 in c:\\users\\luan lima\\appdata\\local\\programs\\python\\python310\\lib\\site-packages (from jsonpatch<2.0,>=1.33->langchain-core<0.3,>=0.1.40->langchain_chroma) (2.4)\n",
      "Requirement already satisfied: urllib3>=1.24.2 in c:\\users\\luan lima\\appdata\\local\\programs\\python\\python310\\lib\\site-packages (from kubernetes>=28.1.0->chromadb<0.6.0,>=0.4.0->langchain_chroma) (2.0.4)\n",
      "Requirement already satisfied: google-auth>=1.0.1 in c:\\users\\luan lima\\appdata\\local\\programs\\python\\python310\\lib\\site-packages (from kubernetes>=28.1.0->chromadb<0.6.0,>=0.4.0->langchain_chroma) (2.27.0)\n",
      "Requirement already satisfied: websocket-client!=0.40.0,!=0.41.*,!=0.42.*,>=0.32.0 in c:\\users\\luan lima\\appdata\\local\\programs\\python\\python310\\lib\\site-packages (from kubernetes>=28.1.0->chromadb<0.6.0,>=0.4.0->langchain_chroma) (1.6.2)\n",
      "Requirement already satisfied: requests-oauthlib in c:\\users\\luan lima\\appdata\\local\\programs\\python\\python310\\lib\\site-packages (from kubernetes>=28.1.0->chromadb<0.6.0,>=0.4.0->langchain_chroma) (2.0.0)\n",
      "Requirement already satisfied: six>=1.9.0 in c:\\users\\luan lima\\appdata\\roaming\\python\\python310\\site-packages (from kubernetes>=28.1.0->chromadb<0.6.0,>=0.4.0->langchain_chroma) (1.16.0)\n",
      "Requirement already satisfied: oauthlib>=3.2.2 in c:\\users\\luan lima\\appdata\\local\\programs\\python\\python310\\lib\\site-packages (from kubernetes>=28.1.0->chromadb<0.6.0,>=0.4.0->langchain_chroma) (3.2.2)\n",
      "Requirement already satisfied: python-dateutil>=2.5.3 in c:\\users\\luan lima\\appdata\\roaming\\python\\python310\\site-packages (from kubernetes>=28.1.0->chromadb<0.6.0,>=0.4.0->langchain_chroma) (2.8.2)\n",
      "Requirement already satisfied: flatbuffers in c:\\users\\luan lima\\appdata\\local\\programs\\python\\python310\\lib\\site-packages (from onnxruntime>=1.14.1->chromadb<0.6.0,>=0.4.0->langchain_chroma) (24.3.7)\n",
      "Requirement already satisfied: coloredlogs in c:\\users\\luan lima\\appdata\\local\\programs\\python\\python310\\lib\\site-packages (from onnxruntime>=1.14.1->chromadb<0.6.0,>=0.4.0->langchain_chroma) (15.0.1)\n",
      "Requirement already satisfied: sympy in c:\\users\\luan lima\\appdata\\local\\programs\\python\\python310\\lib\\site-packages (from onnxruntime>=1.14.1->chromadb<0.6.0,>=0.4.0->langchain_chroma) (1.12)\n",
      "Requirement already satisfied: protobuf in c:\\users\\luan lima\\appdata\\local\\programs\\python\\python310\\lib\\site-packages (from onnxruntime>=1.14.1->chromadb<0.6.0,>=0.4.0->langchain_chroma) (4.21.12)\n",
      "Requirement already satisfied: deprecated>=1.2.6 in c:\\users\\luan lima\\appdata\\local\\programs\\python\\python310\\lib\\site-packages (from opentelemetry-api>=1.2.0->chromadb<0.6.0,>=0.4.0->langchain_chroma) (1.2.14)\n",
      "Requirement already satisfied: importlib-metadata<=7.1,>=6.0 in c:\\users\\luan lima\\appdata\\local\\programs\\python\\python310\\lib\\site-packages (from opentelemetry-api>=1.2.0->chromadb<0.6.0,>=0.4.0->langchain_chroma) (7.1.0)\n",
      "Requirement already satisfied: opentelemetry-exporter-otlp-proto-common==1.25.0 in c:\\users\\luan lima\\appdata\\local\\programs\\python\\python310\\lib\\site-packages (from opentelemetry-exporter-otlp-proto-grpc>=1.2.0->chromadb<0.6.0,>=0.4.0->langchain_chroma) (1.25.0)\n",
      "Requirement already satisfied: googleapis-common-protos~=1.52 in c:\\users\\luan lima\\appdata\\local\\programs\\python\\python310\\lib\\site-packages (from opentelemetry-exporter-otlp-proto-grpc>=1.2.0->chromadb<0.6.0,>=0.4.0->langchain_chroma) (1.62.0)\n",
      "Requirement already satisfied: opentelemetry-proto==1.25.0 in c:\\users\\luan lima\\appdata\\local\\programs\\python\\python310\\lib\\site-packages (from opentelemetry-exporter-otlp-proto-grpc>=1.2.0->chromadb<0.6.0,>=0.4.0->langchain_chroma) (1.25.0)\n",
      "Requirement already satisfied: opentelemetry-semantic-conventions==0.46b0 in c:\\users\\luan lima\\appdata\\local\\programs\\python\\python310\\lib\\site-packages (from opentelemetry-instrumentation-fastapi>=0.41b0->chromadb<0.6.0,>=0.4.0->langchain_chroma) (0.46b0)\n",
      "Requirement already satisfied: opentelemetry-instrumentation-asgi==0.46b0 in c:\\users\\luan lima\\appdata\\local\\programs\\python\\python310\\lib\\site-packages (from opentelemetry-instrumentation-fastapi>=0.41b0->chromadb<0.6.0,>=0.4.0->langchain_chroma) (0.46b0)\n",
      "Requirement already satisfied: opentelemetry-instrumentation==0.46b0 in c:\\users\\luan lima\\appdata\\local\\programs\\python\\python310\\lib\\site-packages (from opentelemetry-instrumentation-fastapi>=0.41b0->chromadb<0.6.0,>=0.4.0->langchain_chroma) (0.46b0)\n",
      "Requirement already satisfied: opentelemetry-util-http==0.46b0 in c:\\users\\luan lima\\appdata\\local\\programs\\python\\python310\\lib\\site-packages (from opentelemetry-instrumentation-fastapi>=0.41b0->chromadb<0.6.0,>=0.4.0->langchain_chroma) (0.46b0)\n",
      "Requirement already satisfied: setuptools>=16.0 in c:\\users\\luan lima\\appdata\\local\\programs\\python\\python310\\lib\\site-packages (from opentelemetry-instrumentation==0.46b0->opentelemetry-instrumentation-fastapi>=0.41b0->chromadb<0.6.0,>=0.4.0->langchain_chroma) (63.2.0)\n",
      "Requirement already satisfied: wrapt<2.0.0,>=1.0.0 in c:\\users\\luan lima\\appdata\\local\\programs\\python\\python310\\lib\\site-packages (from opentelemetry-instrumentation==0.46b0->opentelemetry-instrumentation-fastapi>=0.41b0->chromadb<0.6.0,>=0.4.0->langchain_chroma) (1.15.0)\n",
      "Requirement already satisfied: asgiref~=3.0 in c:\\users\\luan lima\\appdata\\local\\programs\\python\\python310\\lib\\site-packages (from opentelemetry-instrumentation-asgi==0.46b0->opentelemetry-instrumentation-fastapi>=0.41b0->chromadb<0.6.0,>=0.4.0->langchain_chroma) (3.8.1)\n",
      "Requirement already satisfied: monotonic>=1.5 in c:\\users\\luan lima\\appdata\\local\\programs\\python\\python310\\lib\\site-packages (from posthog>=2.4.0->chromadb<0.6.0,>=0.4.0->langchain_chroma) (1.6)\n",
      "Requirement already satisfied: backoff>=1.10.0 in c:\\users\\luan lima\\appdata\\local\\programs\\python\\python310\\lib\\site-packages (from posthog>=2.4.0->chromadb<0.6.0,>=0.4.0->langchain_chroma) (2.2.1)\n",
      "Requirement already satisfied: charset-normalizer<4,>=2 in c:\\users\\luan lima\\appdata\\local\\programs\\python\\python310\\lib\\site-packages (from requests>=2.28->chromadb<0.6.0,>=0.4.0->langchain_chroma) (3.2.0)\n",
      "Requirement already satisfied: huggingface_hub<1.0,>=0.16.4 in c:\\users\\luan lima\\appdata\\local\\programs\\python\\python310\\lib\\site-packages (from tokenizers>=0.13.2->chromadb<0.6.0,>=0.4.0->langchain_chroma) (0.20.3)\n",
      "Requirement already satisfied: rich>=10.11.0 in c:\\users\\luan lima\\appdata\\local\\programs\\python\\python310\\lib\\site-packages (from typer>=0.9.0->chromadb<0.6.0,>=0.4.0->langchain_chroma) (13.7.0)\n",
      "Requirement already satisfied: shellingham>=1.3.0 in c:\\users\\luan lima\\appdata\\local\\programs\\python\\python310\\lib\\site-packages (from typer>=0.9.0->chromadb<0.6.0,>=0.4.0->langchain_chroma) (1.5.4)\n",
      "Requirement already satisfied: click>=8.0.0 in c:\\users\\luan lima\\appdata\\local\\programs\\python\\python310\\lib\\site-packages (from typer>=0.9.0->chromadb<0.6.0,>=0.4.0->langchain_chroma) (8.1.7)\n",
      "Requirement already satisfied: httptools>=0.5.0 in c:\\users\\luan lima\\appdata\\local\\programs\\python\\python310\\lib\\site-packages (from uvicorn[standard]>=0.18.3->chromadb<0.6.0,>=0.4.0->langchain_chroma) (0.6.1)\n",
      "Requirement already satisfied: watchfiles>=0.13 in c:\\users\\luan lima\\appdata\\local\\programs\\python\\python310\\lib\\site-packages (from uvicorn[standard]>=0.18.3->chromadb<0.6.0,>=0.4.0->langchain_chroma) (0.22.0)\n",
      "Requirement already satisfied: websockets>=10.4 in c:\\users\\luan lima\\appdata\\local\\programs\\python\\python310\\lib\\site-packages (from uvicorn[standard]>=0.18.3->chromadb<0.6.0,>=0.4.0->langchain_chroma) (12.0)\n",
      "Requirement already satisfied: python-dotenv>=0.13 in c:\\users\\luan lima\\appdata\\local\\programs\\python\\python310\\lib\\site-packages (from uvicorn[standard]>=0.18.3->chromadb<0.6.0,>=0.4.0->langchain_chroma) (1.0.1)\n",
      "Requirement already satisfied: exceptiongroup>=1.0.2 in c:\\users\\luan lima\\appdata\\local\\programs\\python\\python310\\lib\\site-packages (from anyio->httpx>=0.27.0->chromadb<0.6.0,>=0.4.0->langchain_chroma) (1.1.3)\n",
      "Requirement already satisfied: cachetools<6.0,>=2.0.0 in c:\\users\\luan lima\\appdata\\local\\programs\\python\\python310\\lib\\site-packages (from google-auth>=1.0.1->kubernetes>=28.1.0->chromadb<0.6.0,>=0.4.0->langchain_chroma) (5.3.2)\n",
      "Requirement already satisfied: pyasn1-modules>=0.2.1 in c:\\users\\luan lima\\appdata\\local\\programs\\python\\python310\\lib\\site-packages (from google-auth>=1.0.1->kubernetes>=28.1.0->chromadb<0.6.0,>=0.4.0->langchain_chroma) (0.3.0)\n",
      "Requirement already satisfied: rsa<5,>=3.1.4 in c:\\users\\luan lima\\appdata\\local\\programs\\python\\python310\\lib\\site-packages (from google-auth>=1.0.1->kubernetes>=28.1.0->chromadb<0.6.0,>=0.4.0->langchain_chroma) (4.9)\n",
      "Requirement already satisfied: filelock in c:\\users\\luan lima\\appdata\\local\\programs\\python\\python310\\lib\\site-packages (from huggingface_hub<1.0,>=0.16.4->tokenizers>=0.13.2->chromadb<0.6.0,>=0.4.0->langchain_chroma) (3.13.1)\n",
      "Requirement already satisfied: fsspec>=2023.5.0 in c:\\users\\luan lima\\appdata\\local\\programs\\python\\python310\\lib\\site-packages (from huggingface_hub<1.0,>=0.16.4->tokenizers>=0.13.2->chromadb<0.6.0,>=0.4.0->langchain_chroma) (2023.10.0)\n",
      "Requirement already satisfied: zipp>=0.5 in c:\\users\\luan lima\\appdata\\local\\programs\\python\\python310\\lib\\site-packages (from importlib-metadata<=7.1,>=6.0->opentelemetry-api>=1.2.0->chromadb<0.6.0,>=0.4.0->langchain_chroma) (3.19.2)\n",
      "Requirement already satisfied: markdown-it-py>=2.2.0 in c:\\users\\luan lima\\appdata\\local\\programs\\python\\python310\\lib\\site-packages (from rich>=10.11.0->typer>=0.9.0->chromadb<0.6.0,>=0.4.0->langchain_chroma) (3.0.0)\n",
      "Requirement already satisfied: pygments<3.0.0,>=2.13.0 in c:\\users\\luan lima\\appdata\\roaming\\python\\python310\\site-packages (from rich>=10.11.0->typer>=0.9.0->chromadb<0.6.0,>=0.4.0->langchain_chroma) (2.15.1)\n",
      "Requirement already satisfied: humanfriendly>=9.1 in c:\\users\\luan lima\\appdata\\local\\programs\\python\\python310\\lib\\site-packages (from coloredlogs->onnxruntime>=1.14.1->chromadb<0.6.0,>=0.4.0->langchain_chroma) (10.0)\n",
      "Requirement already satisfied: mpmath>=0.19 in c:\\users\\luan lima\\appdata\\local\\programs\\python\\python310\\lib\\site-packages (from sympy->onnxruntime>=1.14.1->chromadb<0.6.0,>=0.4.0->langchain_chroma) (1.3.0)\n",
      "Requirement already satisfied: pyreadline3 in c:\\users\\luan lima\\appdata\\local\\programs\\python\\python310\\lib\\site-packages (from humanfriendly>=9.1->coloredlogs->onnxruntime>=1.14.1->chromadb<0.6.0,>=0.4.0->langchain_chroma) (3.4.1)\n",
      "Requirement already satisfied: mdurl~=0.1 in c:\\users\\luan lima\\appdata\\local\\programs\\python\\python310\\lib\\site-packages (from markdown-it-py>=2.2.0->rich>=10.11.0->typer>=0.9.0->chromadb<0.6.0,>=0.4.0->langchain_chroma) (0.1.2)\n",
      "Requirement already satisfied: pyasn1<0.6.0,>=0.4.6 in c:\\users\\luan lima\\appdata\\local\\programs\\python\\python310\\lib\\site-packages (from pyasn1-modules>=0.2.1->google-auth>=1.0.1->kubernetes>=28.1.0->chromadb<0.6.0,>=0.4.0->langchain_chroma) (0.5.1)\n",
      "Note: you may need to restart the kernel to use updated packages.\n"
     ]
    },
    {
     "name": "stderr",
     "output_type": "stream",
     "text": [
      "\n",
      "[notice] A new release of pip available: 22.2.2 -> 24.0\n",
      "[notice] To update, run: python.exe -m pip install --upgrade pip\n"
     ]
    }
   ],
   "source": [
    "pip install langchain_chroma"
   ]
  },
  {
   "cell_type": "code",
   "execution_count": 25,
   "metadata": {},
   "outputs": [
    {
     "ename": "ImportError",
     "evalue": "cannot import name 'Doc' from 'typing_extensions' (c:\\Users\\Luan Lima\\AppData\\Local\\Programs\\Python\\Python310\\lib\\site-packages\\typing_extensions.py)",
     "output_type": "error",
     "traceback": [
      "\u001b[1;31m---------------------------------------------------------------------------\u001b[0m",
      "\u001b[1;31mImportError\u001b[0m                               Traceback (most recent call last)",
      "Cell \u001b[1;32mIn[25], line 1\u001b[0m\n\u001b[1;32m----> 1\u001b[0m \u001b[38;5;28;01mfrom\u001b[39;00m \u001b[38;5;21;01mlangchain_chroma\u001b[39;00m \u001b[38;5;28;01mimport\u001b[39;00m Chroma\n",
      "File \u001b[1;32mc:\\Users\\Luan Lima\\AppData\\Local\\Programs\\Python\\Python310\\lib\\site-packages\\langchain_chroma\\__init__.py:1\u001b[0m\n\u001b[1;32m----> 1\u001b[0m \u001b[38;5;28;01mfrom\u001b[39;00m \u001b[38;5;21;01mlangchain_chroma\u001b[39;00m\u001b[38;5;21;01m.\u001b[39;00m\u001b[38;5;21;01mvectorstores\u001b[39;00m \u001b[38;5;28;01mimport\u001b[39;00m Chroma\n\u001b[0;32m      3\u001b[0m __all__ \u001b[38;5;241m=\u001b[39m [\n\u001b[0;32m      4\u001b[0m     \u001b[38;5;124m\"\u001b[39m\u001b[38;5;124mChroma\u001b[39m\u001b[38;5;124m\"\u001b[39m,\n\u001b[0;32m      5\u001b[0m ]\n",
      "File \u001b[1;32mc:\\Users\\Luan Lima\\AppData\\Local\\Programs\\Python\\Python310\\lib\\site-packages\\langchain_chroma\\vectorstores.py:19\u001b[0m\n\u001b[0;32m      5\u001b[0m \u001b[38;5;28;01mimport\u001b[39;00m \u001b[38;5;21;01muuid\u001b[39;00m\n\u001b[0;32m      6\u001b[0m \u001b[38;5;28;01mfrom\u001b[39;00m \u001b[38;5;21;01mtyping\u001b[39;00m \u001b[38;5;28;01mimport\u001b[39;00m (\n\u001b[0;32m      7\u001b[0m     TYPE_CHECKING,\n\u001b[0;32m      8\u001b[0m     Any,\n\u001b[1;32m   (...)\u001b[0m\n\u001b[0;32m     16\u001b[0m     Union,\n\u001b[0;32m     17\u001b[0m )\n\u001b[1;32m---> 19\u001b[0m \u001b[38;5;28;01mimport\u001b[39;00m \u001b[38;5;21;01mchromadb\u001b[39;00m\n\u001b[0;32m     20\u001b[0m \u001b[38;5;28;01mimport\u001b[39;00m \u001b[38;5;21;01mchromadb\u001b[39;00m\u001b[38;5;21;01m.\u001b[39;00m\u001b[38;5;21;01mconfig\u001b[39;00m\n\u001b[0;32m     21\u001b[0m \u001b[38;5;28;01mimport\u001b[39;00m \u001b[38;5;21;01mnumpy\u001b[39;00m \u001b[38;5;28;01mas\u001b[39;00m \u001b[38;5;21;01mnp\u001b[39;00m\n",
      "File \u001b[1;32mc:\\Users\\Luan Lima\\AppData\\Local\\Programs\\Python\\Python310\\lib\\site-packages\\chromadb\\__init__.py:6\u001b[0m\n\u001b[0;32m      4\u001b[0m \u001b[38;5;28;01mfrom\u001b[39;00m \u001b[38;5;21;01mchromadb\u001b[39;00m\u001b[38;5;21;01m.\u001b[39;00m\u001b[38;5;21;01mapi\u001b[39;00m\u001b[38;5;21;01m.\u001b[39;00m\u001b[38;5;21;01mclient\u001b[39;00m \u001b[38;5;28;01mimport\u001b[39;00m AdminClient \u001b[38;5;28;01mas\u001b[39;00m AdminClientCreator\n\u001b[0;32m      5\u001b[0m \u001b[38;5;28;01mfrom\u001b[39;00m \u001b[38;5;21;01mchromadb\u001b[39;00m\u001b[38;5;21;01m.\u001b[39;00m\u001b[38;5;21;01mapi\u001b[39;00m\u001b[38;5;21;01m.\u001b[39;00m\u001b[38;5;21;01masync_client\u001b[39;00m \u001b[38;5;28;01mimport\u001b[39;00m AsyncClient \u001b[38;5;28;01mas\u001b[39;00m AsyncClientCreator\n\u001b[1;32m----> 6\u001b[0m \u001b[38;5;28;01mfrom\u001b[39;00m \u001b[38;5;21;01mchromadb\u001b[39;00m\u001b[38;5;21;01m.\u001b[39;00m\u001b[38;5;21;01mauth\u001b[39;00m\u001b[38;5;21;01m.\u001b[39;00m\u001b[38;5;21;01mtoken_authn\u001b[39;00m \u001b[38;5;28;01mimport\u001b[39;00m TokenTransportHeader\n\u001b[0;32m      7\u001b[0m \u001b[38;5;28;01mimport\u001b[39;00m \u001b[38;5;21;01mchromadb\u001b[39;00m\u001b[38;5;21;01m.\u001b[39;00m\u001b[38;5;21;01mconfig\u001b[39;00m\n\u001b[0;32m      8\u001b[0m \u001b[38;5;28;01mfrom\u001b[39;00m \u001b[38;5;21;01mchromadb\u001b[39;00m\u001b[38;5;21;01m.\u001b[39;00m\u001b[38;5;21;01mconfig\u001b[39;00m \u001b[38;5;28;01mimport\u001b[39;00m DEFAULT_DATABASE, DEFAULT_TENANT, Settings\n",
      "File \u001b[1;32mc:\\Users\\Luan Lima\\AppData\\Local\\Programs\\Python\\Python310\\lib\\site-packages\\chromadb\\auth\\token_authn\\__init__.py:11\u001b[0m\n\u001b[0;32m      8\u001b[0m \u001b[38;5;28;01mfrom\u001b[39;00m \u001b[38;5;21;01mstarlette\u001b[39;00m\u001b[38;5;21;01m.\u001b[39;00m\u001b[38;5;21;01mdatastructures\u001b[39;00m \u001b[38;5;28;01mimport\u001b[39;00m Headers\n\u001b[0;32m      9\u001b[0m \u001b[38;5;28;01mfrom\u001b[39;00m \u001b[38;5;21;01mtyping\u001b[39;00m \u001b[38;5;28;01mimport\u001b[39;00m cast, Dict, List, Optional, TypedDict, TypeVar\n\u001b[1;32m---> 11\u001b[0m \u001b[38;5;28;01mfrom\u001b[39;00m \u001b[38;5;21;01mfastapi\u001b[39;00m \u001b[38;5;28;01mimport\u001b[39;00m HTTPException\n\u001b[0;32m     12\u001b[0m \u001b[38;5;28;01mfrom\u001b[39;00m \u001b[38;5;21;01moverrides\u001b[39;00m \u001b[38;5;28;01mimport\u001b[39;00m override\n\u001b[0;32m     13\u001b[0m \u001b[38;5;28;01mfrom\u001b[39;00m \u001b[38;5;21;01mpydantic\u001b[39;00m \u001b[38;5;28;01mimport\u001b[39;00m SecretStr\n",
      "File \u001b[1;32mc:\\Users\\Luan Lima\\AppData\\Local\\Programs\\Python\\Python310\\lib\\site-packages\\fastapi\\__init__.py:7\u001b[0m\n\u001b[0;32m      3\u001b[0m __version__ \u001b[38;5;241m=\u001b[39m \u001b[38;5;124m\"\u001b[39m\u001b[38;5;124m0.111.0\u001b[39m\u001b[38;5;124m\"\u001b[39m\n\u001b[0;32m      5\u001b[0m \u001b[38;5;28;01mfrom\u001b[39;00m \u001b[38;5;21;01mstarlette\u001b[39;00m \u001b[38;5;28;01mimport\u001b[39;00m status \u001b[38;5;28;01mas\u001b[39;00m status\n\u001b[1;32m----> 7\u001b[0m \u001b[38;5;28;01mfrom\u001b[39;00m \u001b[38;5;21;01m.\u001b[39;00m\u001b[38;5;21;01mapplications\u001b[39;00m \u001b[38;5;28;01mimport\u001b[39;00m FastAPI \u001b[38;5;28;01mas\u001b[39;00m FastAPI\n\u001b[0;32m      8\u001b[0m \u001b[38;5;28;01mfrom\u001b[39;00m \u001b[38;5;21;01m.\u001b[39;00m\u001b[38;5;21;01mbackground\u001b[39;00m \u001b[38;5;28;01mimport\u001b[39;00m BackgroundTasks \u001b[38;5;28;01mas\u001b[39;00m BackgroundTasks\n\u001b[0;32m      9\u001b[0m \u001b[38;5;28;01mfrom\u001b[39;00m \u001b[38;5;21;01m.\u001b[39;00m\u001b[38;5;21;01mdatastructures\u001b[39;00m \u001b[38;5;28;01mimport\u001b[39;00m UploadFile \u001b[38;5;28;01mas\u001b[39;00m UploadFile\n",
      "File \u001b[1;32mc:\\Users\\Luan Lima\\AppData\\Local\\Programs\\Python\\Python310\\lib\\site-packages\\fastapi\\applications.py:16\u001b[0m\n\u001b[0;32m      1\u001b[0m \u001b[38;5;28;01mfrom\u001b[39;00m \u001b[38;5;21;01menum\u001b[39;00m \u001b[38;5;28;01mimport\u001b[39;00m Enum\n\u001b[0;32m      2\u001b[0m \u001b[38;5;28;01mfrom\u001b[39;00m \u001b[38;5;21;01mtyping\u001b[39;00m \u001b[38;5;28;01mimport\u001b[39;00m (\n\u001b[0;32m      3\u001b[0m     Any,\n\u001b[0;32m      4\u001b[0m     Awaitable,\n\u001b[1;32m   (...)\u001b[0m\n\u001b[0;32m     13\u001b[0m     Union,\n\u001b[0;32m     14\u001b[0m )\n\u001b[1;32m---> 16\u001b[0m \u001b[38;5;28;01mfrom\u001b[39;00m \u001b[38;5;21;01mfastapi\u001b[39;00m \u001b[38;5;28;01mimport\u001b[39;00m routing\n\u001b[0;32m     17\u001b[0m \u001b[38;5;28;01mfrom\u001b[39;00m \u001b[38;5;21;01mfastapi\u001b[39;00m\u001b[38;5;21;01m.\u001b[39;00m\u001b[38;5;21;01mdatastructures\u001b[39;00m \u001b[38;5;28;01mimport\u001b[39;00m Default, DefaultPlaceholder\n\u001b[0;32m     18\u001b[0m \u001b[38;5;28;01mfrom\u001b[39;00m \u001b[38;5;21;01mfastapi\u001b[39;00m\u001b[38;5;21;01m.\u001b[39;00m\u001b[38;5;21;01mexception_handlers\u001b[39;00m \u001b[38;5;28;01mimport\u001b[39;00m (\n\u001b[0;32m     19\u001b[0m     http_exception_handler,\n\u001b[0;32m     20\u001b[0m     request_validation_exception_handler,\n\u001b[0;32m     21\u001b[0m     websocket_request_validation_exception_handler,\n\u001b[0;32m     22\u001b[0m )\n",
      "File \u001b[1;32mc:\\Users\\Luan Lima\\AppData\\Local\\Programs\\Python\\Python310\\lib\\site-packages\\fastapi\\routing.py:22\u001b[0m\n\u001b[0;32m      7\u001b[0m \u001b[38;5;28;01mfrom\u001b[39;00m \u001b[38;5;21;01menum\u001b[39;00m \u001b[38;5;28;01mimport\u001b[39;00m Enum, IntEnum\n\u001b[0;32m      8\u001b[0m \u001b[38;5;28;01mfrom\u001b[39;00m \u001b[38;5;21;01mtyping\u001b[39;00m \u001b[38;5;28;01mimport\u001b[39;00m (\n\u001b[0;32m      9\u001b[0m     Any,\n\u001b[0;32m     10\u001b[0m     Callable,\n\u001b[1;32m   (...)\u001b[0m\n\u001b[0;32m     19\u001b[0m     Union,\n\u001b[0;32m     20\u001b[0m )\n\u001b[1;32m---> 22\u001b[0m \u001b[38;5;28;01mfrom\u001b[39;00m \u001b[38;5;21;01mfastapi\u001b[39;00m \u001b[38;5;28;01mimport\u001b[39;00m params\n\u001b[0;32m     23\u001b[0m \u001b[38;5;28;01mfrom\u001b[39;00m \u001b[38;5;21;01mfastapi\u001b[39;00m\u001b[38;5;21;01m.\u001b[39;00m\u001b[38;5;21;01m_compat\u001b[39;00m \u001b[38;5;28;01mimport\u001b[39;00m (\n\u001b[0;32m     24\u001b[0m     ModelField,\n\u001b[0;32m     25\u001b[0m     Undefined,\n\u001b[1;32m   (...)\u001b[0m\n\u001b[0;32m     29\u001b[0m     lenient_issubclass,\n\u001b[0;32m     30\u001b[0m )\n\u001b[0;32m     31\u001b[0m \u001b[38;5;28;01mfrom\u001b[39;00m \u001b[38;5;21;01mfastapi\u001b[39;00m\u001b[38;5;21;01m.\u001b[39;00m\u001b[38;5;21;01mdatastructures\u001b[39;00m \u001b[38;5;28;01mimport\u001b[39;00m Default, DefaultPlaceholder\n",
      "File \u001b[1;32mc:\\Users\\Luan Lima\\AppData\\Local\\Programs\\Python\\Python310\\lib\\site-packages\\fastapi\\params.py:5\u001b[0m\n\u001b[0;32m      2\u001b[0m \u001b[38;5;28;01mfrom\u001b[39;00m \u001b[38;5;21;01menum\u001b[39;00m \u001b[38;5;28;01mimport\u001b[39;00m Enum\n\u001b[0;32m      3\u001b[0m \u001b[38;5;28;01mfrom\u001b[39;00m \u001b[38;5;21;01mtyping\u001b[39;00m \u001b[38;5;28;01mimport\u001b[39;00m Any, Callable, Dict, List, Optional, Sequence, Union\n\u001b[1;32m----> 5\u001b[0m \u001b[38;5;28;01mfrom\u001b[39;00m \u001b[38;5;21;01mfastapi\u001b[39;00m\u001b[38;5;21;01m.\u001b[39;00m\u001b[38;5;21;01mopenapi\u001b[39;00m\u001b[38;5;21;01m.\u001b[39;00m\u001b[38;5;21;01mmodels\u001b[39;00m \u001b[38;5;28;01mimport\u001b[39;00m Example\n\u001b[0;32m      6\u001b[0m \u001b[38;5;28;01mfrom\u001b[39;00m \u001b[38;5;21;01mpydantic\u001b[39;00m\u001b[38;5;21;01m.\u001b[39;00m\u001b[38;5;21;01mfields\u001b[39;00m \u001b[38;5;28;01mimport\u001b[39;00m FieldInfo\n\u001b[0;32m      7\u001b[0m \u001b[38;5;28;01mfrom\u001b[39;00m \u001b[38;5;21;01mtyping_extensions\u001b[39;00m \u001b[38;5;28;01mimport\u001b[39;00m Annotated, deprecated\n",
      "File \u001b[1;32mc:\\Users\\Luan Lima\\AppData\\Local\\Programs\\Python\\Python310\\lib\\site-packages\\fastapi\\openapi\\models.py:4\u001b[0m\n\u001b[0;32m      1\u001b[0m \u001b[38;5;28;01mfrom\u001b[39;00m \u001b[38;5;21;01menum\u001b[39;00m \u001b[38;5;28;01mimport\u001b[39;00m Enum\n\u001b[0;32m      2\u001b[0m \u001b[38;5;28;01mfrom\u001b[39;00m \u001b[38;5;21;01mtyping\u001b[39;00m \u001b[38;5;28;01mimport\u001b[39;00m Any, Callable, Dict, Iterable, List, Optional, Set, Type, Union\n\u001b[1;32m----> 4\u001b[0m \u001b[38;5;28;01mfrom\u001b[39;00m \u001b[38;5;21;01mfastapi\u001b[39;00m\u001b[38;5;21;01m.\u001b[39;00m\u001b[38;5;21;01m_compat\u001b[39;00m \u001b[38;5;28;01mimport\u001b[39;00m (\n\u001b[0;32m      5\u001b[0m     PYDANTIC_V2,\n\u001b[0;32m      6\u001b[0m     CoreSchema,\n\u001b[0;32m      7\u001b[0m     GetJsonSchemaHandler,\n\u001b[0;32m      8\u001b[0m     JsonSchemaValue,\n\u001b[0;32m      9\u001b[0m     _model_rebuild,\n\u001b[0;32m     10\u001b[0m     with_info_plain_validator_function,\n\u001b[0;32m     11\u001b[0m )\n\u001b[0;32m     12\u001b[0m \u001b[38;5;28;01mfrom\u001b[39;00m \u001b[38;5;21;01mfastapi\u001b[39;00m\u001b[38;5;21;01m.\u001b[39;00m\u001b[38;5;21;01mlogger\u001b[39;00m \u001b[38;5;28;01mimport\u001b[39;00m logger\n\u001b[0;32m     13\u001b[0m \u001b[38;5;28;01mfrom\u001b[39;00m \u001b[38;5;21;01mpydantic\u001b[39;00m \u001b[38;5;28;01mimport\u001b[39;00m AnyUrl, BaseModel, Field\n",
      "File \u001b[1;32mc:\\Users\\Luan Lima\\AppData\\Local\\Programs\\Python\\Python310\\lib\\site-packages\\fastapi\\_compat.py:20\u001b[0m\n\u001b[0;32m      4\u001b[0m \u001b[38;5;28;01mfrom\u001b[39;00m \u001b[38;5;21;01menum\u001b[39;00m \u001b[38;5;28;01mimport\u001b[39;00m Enum\n\u001b[0;32m      5\u001b[0m \u001b[38;5;28;01mfrom\u001b[39;00m \u001b[38;5;21;01mtyping\u001b[39;00m \u001b[38;5;28;01mimport\u001b[39;00m (\n\u001b[0;32m      6\u001b[0m     Any,\n\u001b[0;32m      7\u001b[0m     Callable,\n\u001b[1;32m   (...)\u001b[0m\n\u001b[0;32m     17\u001b[0m     Union,\n\u001b[0;32m     18\u001b[0m )\n\u001b[1;32m---> 20\u001b[0m \u001b[38;5;28;01mfrom\u001b[39;00m \u001b[38;5;21;01mfastapi\u001b[39;00m\u001b[38;5;21;01m.\u001b[39;00m\u001b[38;5;21;01mexceptions\u001b[39;00m \u001b[38;5;28;01mimport\u001b[39;00m RequestErrorModel\n\u001b[0;32m     21\u001b[0m \u001b[38;5;28;01mfrom\u001b[39;00m \u001b[38;5;21;01mfastapi\u001b[39;00m\u001b[38;5;21;01m.\u001b[39;00m\u001b[38;5;21;01mtypes\u001b[39;00m \u001b[38;5;28;01mimport\u001b[39;00m IncEx, ModelNameMap, UnionType\n\u001b[0;32m     22\u001b[0m \u001b[38;5;28;01mfrom\u001b[39;00m \u001b[38;5;21;01mpydantic\u001b[39;00m \u001b[38;5;28;01mimport\u001b[39;00m BaseModel, create_model\n",
      "File \u001b[1;32mc:\\Users\\Luan Lima\\AppData\\Local\\Programs\\Python\\Python310\\lib\\site-packages\\fastapi\\exceptions.py:6\u001b[0m\n\u001b[0;32m      4\u001b[0m \u001b[38;5;28;01mfrom\u001b[39;00m \u001b[38;5;21;01mstarlette\u001b[39;00m\u001b[38;5;21;01m.\u001b[39;00m\u001b[38;5;21;01mexceptions\u001b[39;00m \u001b[38;5;28;01mimport\u001b[39;00m HTTPException \u001b[38;5;28;01mas\u001b[39;00m StarletteHTTPException\n\u001b[0;32m      5\u001b[0m \u001b[38;5;28;01mfrom\u001b[39;00m \u001b[38;5;21;01mstarlette\u001b[39;00m\u001b[38;5;21;01m.\u001b[39;00m\u001b[38;5;21;01mexceptions\u001b[39;00m \u001b[38;5;28;01mimport\u001b[39;00m WebSocketException \u001b[38;5;28;01mas\u001b[39;00m StarletteWebSocketException\n\u001b[1;32m----> 6\u001b[0m \u001b[38;5;28;01mfrom\u001b[39;00m \u001b[38;5;21;01mtyping_extensions\u001b[39;00m \u001b[38;5;28;01mimport\u001b[39;00m Annotated, Doc\n\u001b[0;32m      9\u001b[0m \u001b[38;5;28;01mclass\u001b[39;00m \u001b[38;5;21;01mHTTPException\u001b[39;00m(StarletteHTTPException):\n\u001b[0;32m     10\u001b[0m \u001b[38;5;250m    \u001b[39m\u001b[38;5;124;03m\"\"\"\u001b[39;00m\n\u001b[0;32m     11\u001b[0m \u001b[38;5;124;03m    An HTTP exception you can raise in your own code to show errors to the client.\u001b[39;00m\n\u001b[0;32m     12\u001b[0m \n\u001b[1;32m   (...)\u001b[0m\n\u001b[0;32m     34\u001b[0m \u001b[38;5;124;03m    ```\u001b[39;00m\n\u001b[0;32m     35\u001b[0m \u001b[38;5;124;03m    \"\"\"\u001b[39;00m\n",
      "\u001b[1;31mImportError\u001b[0m: cannot import name 'Doc' from 'typing_extensions' (c:\\Users\\Luan Lima\\AppData\\Local\\Programs\\Python\\Python310\\lib\\site-packages\\typing_extensions.py)"
     ]
    }
   ],
   "source": [
    "from langchain_chroma import Chroma"
   ]
  },
  {
   "cell_type": "code",
   "execution_count": 24,
   "metadata": {},
   "outputs": [
    {
     "ename": "ImportError",
     "evalue": "cannot import name 'Doc' from 'typing_extensions' (c:\\Users\\Luan Lima\\AppData\\Local\\Programs\\Python\\Python310\\lib\\site-packages\\typing_extensions.py)",
     "output_type": "error",
     "traceback": [
      "\u001b[1;31m---------------------------------------------------------------------------\u001b[0m",
      "\u001b[1;31mImportError\u001b[0m                               Traceback (most recent call last)",
      "Cell \u001b[1;32mIn[24], line 2\u001b[0m\n\u001b[0;32m      1\u001b[0m \u001b[38;5;66;03m# import\u001b[39;00m\n\u001b[1;32m----> 2\u001b[0m \u001b[38;5;28;01mfrom\u001b[39;00m \u001b[38;5;21;01mlangchain_chroma\u001b[39;00m \u001b[38;5;28;01mimport\u001b[39;00m Chroma\n\u001b[0;32m      3\u001b[0m \u001b[38;5;28;01mfrom\u001b[39;00m \u001b[38;5;21;01mlangchain_community\u001b[39;00m\u001b[38;5;21;01m.\u001b[39;00m\u001b[38;5;21;01mdocument_loaders\u001b[39;00m \u001b[38;5;28;01mimport\u001b[39;00m TextLoader\n\u001b[0;32m      4\u001b[0m \u001b[38;5;28;01mfrom\u001b[39;00m \u001b[38;5;21;01mlangchain_community\u001b[39;00m\u001b[38;5;21;01m.\u001b[39;00m\u001b[38;5;21;01membeddings\u001b[39;00m\u001b[38;5;21;01m.\u001b[39;00m\u001b[38;5;21;01msentence_transformer\u001b[39;00m \u001b[38;5;28;01mimport\u001b[39;00m (\n\u001b[0;32m      5\u001b[0m     SentenceTransformerEmbeddings,\n\u001b[0;32m      6\u001b[0m )\n",
      "File \u001b[1;32mc:\\Users\\Luan Lima\\AppData\\Local\\Programs\\Python\\Python310\\lib\\site-packages\\langchain_chroma\\__init__.py:1\u001b[0m\n\u001b[1;32m----> 1\u001b[0m \u001b[38;5;28;01mfrom\u001b[39;00m \u001b[38;5;21;01mlangchain_chroma\u001b[39;00m\u001b[38;5;21;01m.\u001b[39;00m\u001b[38;5;21;01mvectorstores\u001b[39;00m \u001b[38;5;28;01mimport\u001b[39;00m Chroma\n\u001b[0;32m      3\u001b[0m __all__ \u001b[38;5;241m=\u001b[39m [\n\u001b[0;32m      4\u001b[0m     \u001b[38;5;124m\"\u001b[39m\u001b[38;5;124mChroma\u001b[39m\u001b[38;5;124m\"\u001b[39m,\n\u001b[0;32m      5\u001b[0m ]\n",
      "File \u001b[1;32mc:\\Users\\Luan Lima\\AppData\\Local\\Programs\\Python\\Python310\\lib\\site-packages\\langchain_chroma\\vectorstores.py:19\u001b[0m\n\u001b[0;32m      5\u001b[0m \u001b[38;5;28;01mimport\u001b[39;00m \u001b[38;5;21;01muuid\u001b[39;00m\n\u001b[0;32m      6\u001b[0m \u001b[38;5;28;01mfrom\u001b[39;00m \u001b[38;5;21;01mtyping\u001b[39;00m \u001b[38;5;28;01mimport\u001b[39;00m (\n\u001b[0;32m      7\u001b[0m     TYPE_CHECKING,\n\u001b[0;32m      8\u001b[0m     Any,\n\u001b[1;32m   (...)\u001b[0m\n\u001b[0;32m     16\u001b[0m     Union,\n\u001b[0;32m     17\u001b[0m )\n\u001b[1;32m---> 19\u001b[0m \u001b[38;5;28;01mimport\u001b[39;00m \u001b[38;5;21;01mchromadb\u001b[39;00m\n\u001b[0;32m     20\u001b[0m \u001b[38;5;28;01mimport\u001b[39;00m \u001b[38;5;21;01mchromadb\u001b[39;00m\u001b[38;5;21;01m.\u001b[39;00m\u001b[38;5;21;01mconfig\u001b[39;00m\n\u001b[0;32m     21\u001b[0m \u001b[38;5;28;01mimport\u001b[39;00m \u001b[38;5;21;01mnumpy\u001b[39;00m \u001b[38;5;28;01mas\u001b[39;00m \u001b[38;5;21;01mnp\u001b[39;00m\n",
      "File \u001b[1;32mc:\\Users\\Luan Lima\\AppData\\Local\\Programs\\Python\\Python310\\lib\\site-packages\\chromadb\\__init__.py:6\u001b[0m\n\u001b[0;32m      4\u001b[0m \u001b[38;5;28;01mfrom\u001b[39;00m \u001b[38;5;21;01mchromadb\u001b[39;00m\u001b[38;5;21;01m.\u001b[39;00m\u001b[38;5;21;01mapi\u001b[39;00m\u001b[38;5;21;01m.\u001b[39;00m\u001b[38;5;21;01mclient\u001b[39;00m \u001b[38;5;28;01mimport\u001b[39;00m AdminClient \u001b[38;5;28;01mas\u001b[39;00m AdminClientCreator\n\u001b[0;32m      5\u001b[0m \u001b[38;5;28;01mfrom\u001b[39;00m \u001b[38;5;21;01mchromadb\u001b[39;00m\u001b[38;5;21;01m.\u001b[39;00m\u001b[38;5;21;01mapi\u001b[39;00m\u001b[38;5;21;01m.\u001b[39;00m\u001b[38;5;21;01masync_client\u001b[39;00m \u001b[38;5;28;01mimport\u001b[39;00m AsyncClient \u001b[38;5;28;01mas\u001b[39;00m AsyncClientCreator\n\u001b[1;32m----> 6\u001b[0m \u001b[38;5;28;01mfrom\u001b[39;00m \u001b[38;5;21;01mchromadb\u001b[39;00m\u001b[38;5;21;01m.\u001b[39;00m\u001b[38;5;21;01mauth\u001b[39;00m\u001b[38;5;21;01m.\u001b[39;00m\u001b[38;5;21;01mtoken_authn\u001b[39;00m \u001b[38;5;28;01mimport\u001b[39;00m TokenTransportHeader\n\u001b[0;32m      7\u001b[0m \u001b[38;5;28;01mimport\u001b[39;00m \u001b[38;5;21;01mchromadb\u001b[39;00m\u001b[38;5;21;01m.\u001b[39;00m\u001b[38;5;21;01mconfig\u001b[39;00m\n\u001b[0;32m      8\u001b[0m \u001b[38;5;28;01mfrom\u001b[39;00m \u001b[38;5;21;01mchromadb\u001b[39;00m\u001b[38;5;21;01m.\u001b[39;00m\u001b[38;5;21;01mconfig\u001b[39;00m \u001b[38;5;28;01mimport\u001b[39;00m DEFAULT_DATABASE, DEFAULT_TENANT, Settings\n",
      "File \u001b[1;32mc:\\Users\\Luan Lima\\AppData\\Local\\Programs\\Python\\Python310\\lib\\site-packages\\chromadb\\auth\\token_authn\\__init__.py:11\u001b[0m\n\u001b[0;32m      8\u001b[0m \u001b[38;5;28;01mfrom\u001b[39;00m \u001b[38;5;21;01mstarlette\u001b[39;00m\u001b[38;5;21;01m.\u001b[39;00m\u001b[38;5;21;01mdatastructures\u001b[39;00m \u001b[38;5;28;01mimport\u001b[39;00m Headers\n\u001b[0;32m      9\u001b[0m \u001b[38;5;28;01mfrom\u001b[39;00m \u001b[38;5;21;01mtyping\u001b[39;00m \u001b[38;5;28;01mimport\u001b[39;00m cast, Dict, List, Optional, TypedDict, TypeVar\n\u001b[1;32m---> 11\u001b[0m \u001b[38;5;28;01mfrom\u001b[39;00m \u001b[38;5;21;01mfastapi\u001b[39;00m \u001b[38;5;28;01mimport\u001b[39;00m HTTPException\n\u001b[0;32m     12\u001b[0m \u001b[38;5;28;01mfrom\u001b[39;00m \u001b[38;5;21;01moverrides\u001b[39;00m \u001b[38;5;28;01mimport\u001b[39;00m override\n\u001b[0;32m     13\u001b[0m \u001b[38;5;28;01mfrom\u001b[39;00m \u001b[38;5;21;01mpydantic\u001b[39;00m \u001b[38;5;28;01mimport\u001b[39;00m SecretStr\n",
      "File \u001b[1;32mc:\\Users\\Luan Lima\\AppData\\Local\\Programs\\Python\\Python310\\lib\\site-packages\\fastapi\\__init__.py:7\u001b[0m\n\u001b[0;32m      3\u001b[0m __version__ \u001b[38;5;241m=\u001b[39m \u001b[38;5;124m\"\u001b[39m\u001b[38;5;124m0.111.0\u001b[39m\u001b[38;5;124m\"\u001b[39m\n\u001b[0;32m      5\u001b[0m \u001b[38;5;28;01mfrom\u001b[39;00m \u001b[38;5;21;01mstarlette\u001b[39;00m \u001b[38;5;28;01mimport\u001b[39;00m status \u001b[38;5;28;01mas\u001b[39;00m status\n\u001b[1;32m----> 7\u001b[0m \u001b[38;5;28;01mfrom\u001b[39;00m \u001b[38;5;21;01m.\u001b[39;00m\u001b[38;5;21;01mapplications\u001b[39;00m \u001b[38;5;28;01mimport\u001b[39;00m FastAPI \u001b[38;5;28;01mas\u001b[39;00m FastAPI\n\u001b[0;32m      8\u001b[0m \u001b[38;5;28;01mfrom\u001b[39;00m \u001b[38;5;21;01m.\u001b[39;00m\u001b[38;5;21;01mbackground\u001b[39;00m \u001b[38;5;28;01mimport\u001b[39;00m BackgroundTasks \u001b[38;5;28;01mas\u001b[39;00m BackgroundTasks\n\u001b[0;32m      9\u001b[0m \u001b[38;5;28;01mfrom\u001b[39;00m \u001b[38;5;21;01m.\u001b[39;00m\u001b[38;5;21;01mdatastructures\u001b[39;00m \u001b[38;5;28;01mimport\u001b[39;00m UploadFile \u001b[38;5;28;01mas\u001b[39;00m UploadFile\n",
      "File \u001b[1;32mc:\\Users\\Luan Lima\\AppData\\Local\\Programs\\Python\\Python310\\lib\\site-packages\\fastapi\\applications.py:16\u001b[0m\n\u001b[0;32m      1\u001b[0m \u001b[38;5;28;01mfrom\u001b[39;00m \u001b[38;5;21;01menum\u001b[39;00m \u001b[38;5;28;01mimport\u001b[39;00m Enum\n\u001b[0;32m      2\u001b[0m \u001b[38;5;28;01mfrom\u001b[39;00m \u001b[38;5;21;01mtyping\u001b[39;00m \u001b[38;5;28;01mimport\u001b[39;00m (\n\u001b[0;32m      3\u001b[0m     Any,\n\u001b[0;32m      4\u001b[0m     Awaitable,\n\u001b[1;32m   (...)\u001b[0m\n\u001b[0;32m     13\u001b[0m     Union,\n\u001b[0;32m     14\u001b[0m )\n\u001b[1;32m---> 16\u001b[0m \u001b[38;5;28;01mfrom\u001b[39;00m \u001b[38;5;21;01mfastapi\u001b[39;00m \u001b[38;5;28;01mimport\u001b[39;00m routing\n\u001b[0;32m     17\u001b[0m \u001b[38;5;28;01mfrom\u001b[39;00m \u001b[38;5;21;01mfastapi\u001b[39;00m\u001b[38;5;21;01m.\u001b[39;00m\u001b[38;5;21;01mdatastructures\u001b[39;00m \u001b[38;5;28;01mimport\u001b[39;00m Default, DefaultPlaceholder\n\u001b[0;32m     18\u001b[0m \u001b[38;5;28;01mfrom\u001b[39;00m \u001b[38;5;21;01mfastapi\u001b[39;00m\u001b[38;5;21;01m.\u001b[39;00m\u001b[38;5;21;01mexception_handlers\u001b[39;00m \u001b[38;5;28;01mimport\u001b[39;00m (\n\u001b[0;32m     19\u001b[0m     http_exception_handler,\n\u001b[0;32m     20\u001b[0m     request_validation_exception_handler,\n\u001b[0;32m     21\u001b[0m     websocket_request_validation_exception_handler,\n\u001b[0;32m     22\u001b[0m )\n",
      "File \u001b[1;32mc:\\Users\\Luan Lima\\AppData\\Local\\Programs\\Python\\Python310\\lib\\site-packages\\fastapi\\routing.py:22\u001b[0m\n\u001b[0;32m      7\u001b[0m \u001b[38;5;28;01mfrom\u001b[39;00m \u001b[38;5;21;01menum\u001b[39;00m \u001b[38;5;28;01mimport\u001b[39;00m Enum, IntEnum\n\u001b[0;32m      8\u001b[0m \u001b[38;5;28;01mfrom\u001b[39;00m \u001b[38;5;21;01mtyping\u001b[39;00m \u001b[38;5;28;01mimport\u001b[39;00m (\n\u001b[0;32m      9\u001b[0m     Any,\n\u001b[0;32m     10\u001b[0m     Callable,\n\u001b[1;32m   (...)\u001b[0m\n\u001b[0;32m     19\u001b[0m     Union,\n\u001b[0;32m     20\u001b[0m )\n\u001b[1;32m---> 22\u001b[0m \u001b[38;5;28;01mfrom\u001b[39;00m \u001b[38;5;21;01mfastapi\u001b[39;00m \u001b[38;5;28;01mimport\u001b[39;00m params\n\u001b[0;32m     23\u001b[0m \u001b[38;5;28;01mfrom\u001b[39;00m \u001b[38;5;21;01mfastapi\u001b[39;00m\u001b[38;5;21;01m.\u001b[39;00m\u001b[38;5;21;01m_compat\u001b[39;00m \u001b[38;5;28;01mimport\u001b[39;00m (\n\u001b[0;32m     24\u001b[0m     ModelField,\n\u001b[0;32m     25\u001b[0m     Undefined,\n\u001b[1;32m   (...)\u001b[0m\n\u001b[0;32m     29\u001b[0m     lenient_issubclass,\n\u001b[0;32m     30\u001b[0m )\n\u001b[0;32m     31\u001b[0m \u001b[38;5;28;01mfrom\u001b[39;00m \u001b[38;5;21;01mfastapi\u001b[39;00m\u001b[38;5;21;01m.\u001b[39;00m\u001b[38;5;21;01mdatastructures\u001b[39;00m \u001b[38;5;28;01mimport\u001b[39;00m Default, DefaultPlaceholder\n",
      "File \u001b[1;32mc:\\Users\\Luan Lima\\AppData\\Local\\Programs\\Python\\Python310\\lib\\site-packages\\fastapi\\params.py:5\u001b[0m\n\u001b[0;32m      2\u001b[0m \u001b[38;5;28;01mfrom\u001b[39;00m \u001b[38;5;21;01menum\u001b[39;00m \u001b[38;5;28;01mimport\u001b[39;00m Enum\n\u001b[0;32m      3\u001b[0m \u001b[38;5;28;01mfrom\u001b[39;00m \u001b[38;5;21;01mtyping\u001b[39;00m \u001b[38;5;28;01mimport\u001b[39;00m Any, Callable, Dict, List, Optional, Sequence, Union\n\u001b[1;32m----> 5\u001b[0m \u001b[38;5;28;01mfrom\u001b[39;00m \u001b[38;5;21;01mfastapi\u001b[39;00m\u001b[38;5;21;01m.\u001b[39;00m\u001b[38;5;21;01mopenapi\u001b[39;00m\u001b[38;5;21;01m.\u001b[39;00m\u001b[38;5;21;01mmodels\u001b[39;00m \u001b[38;5;28;01mimport\u001b[39;00m Example\n\u001b[0;32m      6\u001b[0m \u001b[38;5;28;01mfrom\u001b[39;00m \u001b[38;5;21;01mpydantic\u001b[39;00m\u001b[38;5;21;01m.\u001b[39;00m\u001b[38;5;21;01mfields\u001b[39;00m \u001b[38;5;28;01mimport\u001b[39;00m FieldInfo\n\u001b[0;32m      7\u001b[0m \u001b[38;5;28;01mfrom\u001b[39;00m \u001b[38;5;21;01mtyping_extensions\u001b[39;00m \u001b[38;5;28;01mimport\u001b[39;00m Annotated, deprecated\n",
      "File \u001b[1;32mc:\\Users\\Luan Lima\\AppData\\Local\\Programs\\Python\\Python310\\lib\\site-packages\\fastapi\\openapi\\models.py:4\u001b[0m\n\u001b[0;32m      1\u001b[0m \u001b[38;5;28;01mfrom\u001b[39;00m \u001b[38;5;21;01menum\u001b[39;00m \u001b[38;5;28;01mimport\u001b[39;00m Enum\n\u001b[0;32m      2\u001b[0m \u001b[38;5;28;01mfrom\u001b[39;00m \u001b[38;5;21;01mtyping\u001b[39;00m \u001b[38;5;28;01mimport\u001b[39;00m Any, Callable, Dict, Iterable, List, Optional, Set, Type, Union\n\u001b[1;32m----> 4\u001b[0m \u001b[38;5;28;01mfrom\u001b[39;00m \u001b[38;5;21;01mfastapi\u001b[39;00m\u001b[38;5;21;01m.\u001b[39;00m\u001b[38;5;21;01m_compat\u001b[39;00m \u001b[38;5;28;01mimport\u001b[39;00m (\n\u001b[0;32m      5\u001b[0m     PYDANTIC_V2,\n\u001b[0;32m      6\u001b[0m     CoreSchema,\n\u001b[0;32m      7\u001b[0m     GetJsonSchemaHandler,\n\u001b[0;32m      8\u001b[0m     JsonSchemaValue,\n\u001b[0;32m      9\u001b[0m     _model_rebuild,\n\u001b[0;32m     10\u001b[0m     with_info_plain_validator_function,\n\u001b[0;32m     11\u001b[0m )\n\u001b[0;32m     12\u001b[0m \u001b[38;5;28;01mfrom\u001b[39;00m \u001b[38;5;21;01mfastapi\u001b[39;00m\u001b[38;5;21;01m.\u001b[39;00m\u001b[38;5;21;01mlogger\u001b[39;00m \u001b[38;5;28;01mimport\u001b[39;00m logger\n\u001b[0;32m     13\u001b[0m \u001b[38;5;28;01mfrom\u001b[39;00m \u001b[38;5;21;01mpydantic\u001b[39;00m \u001b[38;5;28;01mimport\u001b[39;00m AnyUrl, BaseModel, Field\n",
      "File \u001b[1;32mc:\\Users\\Luan Lima\\AppData\\Local\\Programs\\Python\\Python310\\lib\\site-packages\\fastapi\\_compat.py:20\u001b[0m\n\u001b[0;32m      4\u001b[0m \u001b[38;5;28;01mfrom\u001b[39;00m \u001b[38;5;21;01menum\u001b[39;00m \u001b[38;5;28;01mimport\u001b[39;00m Enum\n\u001b[0;32m      5\u001b[0m \u001b[38;5;28;01mfrom\u001b[39;00m \u001b[38;5;21;01mtyping\u001b[39;00m \u001b[38;5;28;01mimport\u001b[39;00m (\n\u001b[0;32m      6\u001b[0m     Any,\n\u001b[0;32m      7\u001b[0m     Callable,\n\u001b[1;32m   (...)\u001b[0m\n\u001b[0;32m     17\u001b[0m     Union,\n\u001b[0;32m     18\u001b[0m )\n\u001b[1;32m---> 20\u001b[0m \u001b[38;5;28;01mfrom\u001b[39;00m \u001b[38;5;21;01mfastapi\u001b[39;00m\u001b[38;5;21;01m.\u001b[39;00m\u001b[38;5;21;01mexceptions\u001b[39;00m \u001b[38;5;28;01mimport\u001b[39;00m RequestErrorModel\n\u001b[0;32m     21\u001b[0m \u001b[38;5;28;01mfrom\u001b[39;00m \u001b[38;5;21;01mfastapi\u001b[39;00m\u001b[38;5;21;01m.\u001b[39;00m\u001b[38;5;21;01mtypes\u001b[39;00m \u001b[38;5;28;01mimport\u001b[39;00m IncEx, ModelNameMap, UnionType\n\u001b[0;32m     22\u001b[0m \u001b[38;5;28;01mfrom\u001b[39;00m \u001b[38;5;21;01mpydantic\u001b[39;00m \u001b[38;5;28;01mimport\u001b[39;00m BaseModel, create_model\n",
      "File \u001b[1;32mc:\\Users\\Luan Lima\\AppData\\Local\\Programs\\Python\\Python310\\lib\\site-packages\\fastapi\\exceptions.py:6\u001b[0m\n\u001b[0;32m      4\u001b[0m \u001b[38;5;28;01mfrom\u001b[39;00m \u001b[38;5;21;01mstarlette\u001b[39;00m\u001b[38;5;21;01m.\u001b[39;00m\u001b[38;5;21;01mexceptions\u001b[39;00m \u001b[38;5;28;01mimport\u001b[39;00m HTTPException \u001b[38;5;28;01mas\u001b[39;00m StarletteHTTPException\n\u001b[0;32m      5\u001b[0m \u001b[38;5;28;01mfrom\u001b[39;00m \u001b[38;5;21;01mstarlette\u001b[39;00m\u001b[38;5;21;01m.\u001b[39;00m\u001b[38;5;21;01mexceptions\u001b[39;00m \u001b[38;5;28;01mimport\u001b[39;00m WebSocketException \u001b[38;5;28;01mas\u001b[39;00m StarletteWebSocketException\n\u001b[1;32m----> 6\u001b[0m \u001b[38;5;28;01mfrom\u001b[39;00m \u001b[38;5;21;01mtyping_extensions\u001b[39;00m \u001b[38;5;28;01mimport\u001b[39;00m Annotated, Doc\n\u001b[0;32m      9\u001b[0m \u001b[38;5;28;01mclass\u001b[39;00m \u001b[38;5;21;01mHTTPException\u001b[39;00m(StarletteHTTPException):\n\u001b[0;32m     10\u001b[0m \u001b[38;5;250m    \u001b[39m\u001b[38;5;124;03m\"\"\"\u001b[39;00m\n\u001b[0;32m     11\u001b[0m \u001b[38;5;124;03m    An HTTP exception you can raise in your own code to show errors to the client.\u001b[39;00m\n\u001b[0;32m     12\u001b[0m \n\u001b[1;32m   (...)\u001b[0m\n\u001b[0;32m     34\u001b[0m \u001b[38;5;124;03m    ```\u001b[39;00m\n\u001b[0;32m     35\u001b[0m \u001b[38;5;124;03m    \"\"\"\u001b[39;00m\n",
      "\u001b[1;31mImportError\u001b[0m: cannot import name 'Doc' from 'typing_extensions' (c:\\Users\\Luan Lima\\AppData\\Local\\Programs\\Python\\Python310\\lib\\site-packages\\typing_extensions.py)"
     ]
    }
   ],
   "source": [
    "# import\n",
    "from langchain_chroma import Chroma\n",
    "from langchain_community.document_loaders import TextLoader\n",
    "from langchain_community.embeddings.sentence_transformer import (\n",
    "    SentenceTransformerEmbeddings,\n",
    ")\n",
    "from langchain_text_splitters import CharacterTextSplitter\n",
    "\n",
    "# load the document and split it into chunks\n",
    "loader = TextLoader(\"state_of_the_union.txt\")\n",
    "documents = loader.load()\n",
    "\n",
    "# split it into chunks\n",
    "text_splitter = CharacterTextSplitter(chunk_size=1000, chunk_overlap=0)\n",
    "docs = text_splitter.split_documents(documents)\n",
    "\n",
    "# create the open-source embedding function\n",
    "embedding_function = SentenceTransformerEmbeddings(model_name=\"all-MiniLM-L6-v2\")\n",
    "\n",
    "# load it into Chroma\n",
    "db = Chroma.from_documents(docs, embedding_function)\n",
    "\n",
    "# query it\n",
    "query = \"What did the president say about Ketanji Brown Jackson\"\n",
    "docs = db.similarity_search(query)\n",
    "\n",
    "# print results\n",
    "print(docs[0].page_content)"
   ]
  },
  {
   "cell_type": "code",
   "execution_count": 22,
   "metadata": {},
   "outputs": [
    {
     "name": "stdout",
     "output_type": "stream",
     "text": [
      "Collecting typing_extensions==4.7.1Note: you may need to restart the kernel to use updated packages.\n"
     ]
    },
    {
     "name": "stderr",
     "output_type": "stream",
     "text": [
      "ERROR: pip's dependency resolver does not currently take into account all the packages that are installed. This behaviour is the source of the following dependency conflicts.\n",
      "langchain 0.1.1 requires langchain-core<0.2,>=0.1.9, but you have langchain-core 0.2.9 which is incompatible.\n",
      "langchain 0.1.1 requires langsmith<0.1.0,>=0.0.77, but you have langsmith 0.1.81 which is incompatible.\n",
      "langchain-openai 0.0.3 requires langchain-core<0.2,>=0.1.13, but you have langchain-core 0.2.9 which is incompatible.\n",
      "langchain-experimental 0.0.49 requires langchain-core<0.2.0,>=0.1.7, but you have langchain-core 0.2.9 which is incompatible.\n",
      "langchain-community 0.0.13 requires langchain-core<0.2,>=0.1.9, but you have langchain-core 0.2.9 which is incompatible.\n",
      "langchain-community 0.0.13 requires langsmith<0.1.0,>=0.0.63, but you have langsmith 0.1.81 which is incompatible.\n",
      "fastapi 0.111.0 requires typing-extensions>=4.8.0, but you have typing-extensions 4.7.1 which is incompatible.\n",
      "\n",
      "[notice] A new release of pip available: 22.2.2 -> 24.0\n",
      "[notice] To update, run: python.exe -m pip install --upgrade pip\n"
     ]
    },
    {
     "name": "stdout",
     "output_type": "stream",
     "text": [
      "\n",
      "  Using cached typing_extensions-4.7.1-py3-none-any.whl (33 kB)\n",
      "Installing collected packages: typing_extensions\n",
      "Successfully installed typing_extensions-4.7.1\n"
     ]
    }
   ],
   "source": [
    "pip install typing_extensions==4.7.1"
   ]
  },
  {
   "cell_type": "code",
   "execution_count": 49,
   "metadata": {},
   "outputs": [
    {
     "data": {
      "text/plain": [
       "ChatPromptTemplate(input_variables=['context', 'input'], messages=[HumanMessagePromptTemplate(prompt=PromptTemplate(input_variables=['context', 'input'], template='\\nYou are an assistant for question-answering tasks.\\nUse the provided context only to answer the following question:\\n\\n<context>\\n{context}\\n</context>\\n\\nQuestion: {input}\\n'))])"
      ]
     },
     "execution_count": 49,
     "metadata": {},
     "output_type": "execute_result"
    }
   ],
   "source": [
    "prompt"
   ]
  },
  {
   "cell_type": "code",
   "execution_count": 50,
   "metadata": {},
   "outputs": [],
   "source": [
    "doc_chain = create_stuff_documents_chain(llm, prompt)"
   ]
  },
  {
   "cell_type": "code",
   "execution_count": 51,
   "metadata": {},
   "outputs": [
    {
     "data": {
      "text/plain": [
       "RunnableBinding(bound=RunnableBinding(bound=RunnableAssign(mapper={\n",
       "  context: RunnableLambda(format_docs)\n",
       "}), config={'run_name': 'format_inputs'})\n",
       "| ChatPromptTemplate(input_variables=['context', 'input'], messages=[HumanMessagePromptTemplate(prompt=PromptTemplate(input_variables=['context', 'input'], template='\\nYou are an assistant for question-answering tasks.\\nUse the provided context only to answer the following question:\\n\\n<context>\\n{context}\\n</context>\\n\\nQuestion: {input}\\n'))])\n",
       "| ChatOpenAI(client=<openai.resources.chat.completions.Completions object at 0x000002ABDCECC8E0>, async_client=<openai.resources.chat.completions.AsyncCompletions object at 0x000002ABDCECDDB0>, openai_api_key='sk-proj-ENk7WPgx6Roc4FF9EtbYT3BlbkFJbg8oBlDtaFt0EhzIn45M', openai_proxy='')\n",
       "| StrOutputParser(), config={'run_name': 'stuff_documents_chain'})"
      ]
     },
     "execution_count": 51,
     "metadata": {},
     "output_type": "execute_result"
    }
   ],
   "source": [
    "doc_chain"
   ]
  },
  {
   "cell_type": "code",
   "execution_count": 52,
   "metadata": {},
   "outputs": [],
   "source": [
    "\n",
    "chain = create_retrieval_chain(retriever, doc_chain)"
   ]
  },
  {
   "cell_type": "code",
   "execution_count": 53,
   "metadata": {},
   "outputs": [
    {
     "data": {
      "text/plain": [
       "RunnableBinding(bound=RunnableAssign(mapper={\n",
       "  context: RunnableBinding(bound=RunnableLambda(lambda x: x['input'])\n",
       "           | VectorStoreRetriever(tags=['FAISS', 'HuggingFaceEmbeddings'], vectorstore=<langchain_community.vectorstores.faiss.FAISS object at 0x000002ABDC6B0E50>), config={'run_name': 'retrieve_documents'})\n",
       "})\n",
       "| RunnableAssign(mapper={\n",
       "    answer: RunnableBinding(bound=RunnableBinding(bound=RunnableAssign(mapper={\n",
       "              context: RunnableLambda(format_docs)\n",
       "            }), config={'run_name': 'format_inputs'})\n",
       "            | ChatPromptTemplate(input_variables=['context', 'input'], messages=[HumanMessagePromptTemplate(prompt=PromptTemplate(input_variables=['context', 'input'], template='\\nYou are an assistant for question-answering tasks.\\nUse the provided context only to answer the following question:\\n\\n<context>\\n{context}\\n</context>\\n\\nQuestion: {input}\\n'))])\n",
       "            | ChatOpenAI(client=<openai.resources.chat.completions.Completions object at 0x000002ABDCECC8E0>, async_client=<openai.resources.chat.completions.AsyncCompletions object at 0x000002ABDCECDDB0>, openai_api_key='sk-proj-ENk7WPgx6Roc4FF9EtbYT3BlbkFJbg8oBlDtaFt0EhzIn45M', openai_proxy='')\n",
       "            | StrOutputParser(), config={'run_name': 'stuff_documents_chain'})\n",
       "  }), config={'run_name': 'retrieval_chain'})"
      ]
     },
     "execution_count": 53,
     "metadata": {},
     "output_type": "execute_result"
    }
   ],
   "source": [
    "chain"
   ]
  },
  {
   "cell_type": "code",
   "execution_count": 54,
   "metadata": {},
   "outputs": [
    {
     "data": {
      "text/plain": [
       "'I\\'m sorry, but there is no information provided in the context about \"Qlora.\"'"
      ]
     },
     "execution_count": 54,
     "metadata": {},
     "output_type": "execute_result"
    }
   ],
   "source": [
    "# User query \n",
    "response = chain.invoke({\"input\": \"what is Qlora?\"})\n",
    "\n",
    "# Get the Answer only\n",
    "response['answer']"
   ]
  }
 ],
 "metadata": {
  "kernelspec": {
   "display_name": "Python 3",
   "language": "python",
   "name": "python3"
  },
  "language_info": {
   "codemirror_mode": {
    "name": "ipython",
    "version": 3
   },
   "file_extension": ".py",
   "mimetype": "text/x-python",
   "name": "python",
   "nbconvert_exporter": "python",
   "pygments_lexer": "ipython3",
   "version": "3.10.7"
  }
 },
 "nbformat": 4,
 "nbformat_minor": 2
}
