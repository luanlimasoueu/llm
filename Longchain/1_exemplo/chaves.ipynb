{
 "cells": [
  {
   "cell_type": "code",
   "execution_count": 2,
   "metadata": {},
   "outputs": [
    {
     "name": "stdout",
     "output_type": "stream",
     "text": [
      "Chave de API carregada com sucesso: 12345abcdef\n"
     ]
    }
   ],
   "source": [
    "import os\n",
    "from dotenv import load_dotenv\n",
    "\n",
    "# Carregando as variáveis de ambiente do arquivo .env\n",
    "load_dotenv()\n",
    "# Acessando a variável de ambiente API_KEY\n",
    "api_key = os.getenv(\"API_KEY\")\n",
    "# Verificando se a API_KEY foi carregada com sucesso\n",
    "if api_key:\n",
    "    print(\"Chave de API carregada com sucesso:\", api_key)\n",
    "else:\n",
    "    print(\"Chave de API não encontrada no arquivo .env.\")"
   ]
  }
 ],
 "metadata": {
  "kernelspec": {
   "display_name": "Python 3",
   "language": "python",
   "name": "python3"
  },
  "language_info": {
   "codemirror_mode": {
    "name": "ipython",
    "version": 3
   },
   "file_extension": ".py",
   "mimetype": "text/x-python",
   "name": "python",
   "nbconvert_exporter": "python",
   "pygments_lexer": "ipython3",
   "version": "3.10.7"
  }
 },
 "nbformat": 4,
 "nbformat_minor": 2
}
