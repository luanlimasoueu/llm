{
 "cells": [
  {
   "cell_type": "code",
   "execution_count": 2,
   "metadata": {},
   "outputs": [
    {
     "name": "stdout",
     "output_type": "stream",
     "text": [
      "19294482071552\n"
     ]
    }
   ],
   "source": [
    "from pandasai import SmartDataframe\n",
    "import pandas as pd\n",
    "from pandasai.llm import OpenAI\n",
    "\n",
    "# pandas dataframe\n",
    "df = pd.DataFrame({\n",
    "    \"country\": [\"United States\", \"United Kingdom\", \"France\", \"Germany\", \"Italy\", \"Spain\", \"Canada\", \"Australia\", \"Japan\", \"China\"],\n",
    "    \"gdp\": [19294482071552, 2891615567872, 2411255037952, 3435817336832, 1745433788416, 1181205135360, 1607402389504, 1490967855104, 4380756541440, 14631844184064],\n",
    "    \"happiness_index\": [6.94, 7.16, 6.66, 7.07, 6.38, 6.4, 7.23, 7.22, 5.87, 5.12]\n",
    "})\n",
    "\n",
    "llm = OpenAI(api_token=\"\")\n",
    "\n",
    "# convert to SmartDataframe\n",
    "df = SmartDataframe(df, config={\"llm\": llm})\n",
    "\n",
    "\n",
    "response = df.chat('Calculate the sum of the gdp of north american countries')\n",
    "print(response)"
   ]
  },
  {
   "cell_type": "code",
   "execution_count": 24,
   "metadata": {},
   "outputs": [],
   "source": [
    "from pandasai import SmartDatalake\n",
    "import pandas as pd\n",
    "from pandasai.llm import OpenAI\n",
    "\n",
    "employees_data = {\n",
    "    'EmployeeID': [1, 2, 3],\n",
    "    'Name': ['John', 'Emma', 'Liam'],\n",
    "    'Department': ['HR', 'Sales', 'IT']\n",
    "}\n",
    "\n",
    "employees_data_1 = {\n",
    "    'EmployeeID': [ 4, 5],\n",
    "    'Name': [ 'Olivia', 'William'],\n",
    "    'Department': [ 'Marketing', 'Finance']\n",
    "}\n",
    "\n",
    "\n",
    "employees_df = pd.DataFrame(employees_data)\n",
    "salaries_df = pd.DataFrame(employees_data_1)\n",
    "\n",
    "llm = OpenAI(api_token=\"\")"
   ]
  },
  {
   "cell_type": "code",
   "execution_count": 25,
   "metadata": {},
   "outputs": [
    {
     "name": "stdout",
     "output_type": "stream",
     "text": [
      "The employee who gets paid the most is William.\n"
     ]
    }
   ],
   "source": [
    "df = SmartDatalake([employees_df, salaries_df], config={\"llm\": llm})\n",
    "response = df.chat(\"Who gets paid the most?\")\n",
    "print(response)"
   ]
  }
 ],
 "metadata": {
  "kernelspec": {
   "display_name": "Python 3",
   "language": "python",
   "name": "python3"
  },
  "language_info": {
   "codemirror_mode": {
    "name": "ipython",
    "version": 3
   },
   "file_extension": ".py",
   "mimetype": "text/x-python",
   "name": "python",
   "nbconvert_exporter": "python",
   "pygments_lexer": "ipython3",
   "version": "3.10.7"
  }
 },
 "nbformat": 4,
 "nbformat_minor": 2
}
